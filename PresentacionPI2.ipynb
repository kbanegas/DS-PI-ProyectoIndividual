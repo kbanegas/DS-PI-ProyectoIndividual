{
 "cells": [
  {
   "cell_type": "code",
   "execution_count": 1,
   "metadata": {},
   "outputs": [],
   "source": [
    "import wikipedia as wp\n",
    "import pandas as pd\n",
    "import numpy as np\n",
    "import matplotlib.pyplot as plt\n",
    "import mplfinance as mpf\n",
    "import plotly.express as px\n",
    "from datetime import datetime\n",
    "import missingno as msno\n",
    "import seaborn as sns\n",
    "import plotly.graph_objects as go\n",
    "from mplfinance.original_flavor import candlestick_ohlc \n",
    "%matplotlib inline\n"
   ]
  },
  {
   "cell_type": "code",
   "execution_count": 2,
   "metadata": {},
   "outputs": [],
   "source": [
    "import yfinance as yf\n",
    "\n",
    "msft = yf.Ticker(\"MSFT\")\n",
    "\n",
    "# get stock info\n",
    "msft.info\n",
    "\n",
    "# get historical market data\n",
    "hist = msft.history(period=\"max\")\n",
    "\n",
    "# show actions (dividends, splits)\n",
    "msft.actions\n",
    "\n",
    "# show dividends\n",
    "msft.dividends\n",
    "\n",
    "# show splits\n",
    "msft.splits\n",
    "\n",
    "# show financials\n",
    "msft.financials\n",
    "msft.quarterly_financials\n",
    "\n",
    "# show major holders\n",
    "msft.major_holders\n",
    "\n",
    "# show institutional holders\n",
    "msft.institutional_holders\n",
    "\n",
    "# show balance sheet\n",
    "msft.balance_sheet\n",
    "msft.quarterly_balance_sheet\n",
    "\n",
    "# show cashflow\n",
    "msft.cashflow\n",
    "msft.quarterly_cashflow\n",
    "\n",
    "# show earnings\n",
    "msft.earnings\n",
    "msft.quarterly_earnings\n",
    "\n",
    "# show sustainability\n",
    "msft.sustainability\n",
    "\n",
    "# show analysts recommendations\n",
    "msft.recommendations\n",
    "\n",
    "# show next event (earnings, etc)\n",
    "msft.calendar\n",
    "\n",
    "# show all earnings dates\n",
    "msft.earnings_dates\n",
    "\n",
    "# show ISIN code - *experimental*\n",
    "# ISIN = International Securities Identification Number\n",
    "msft.isin\n",
    "\n",
    "# show options expirations\n",
    "msft.options\n",
    "\n",
    "# show news\n",
    "msft.news\n",
    "\n",
    "# get option chain for specific expiration\n",
    "opt = msft.option_chain('2024-06-21')\n",
    "# data available via: opt.calls, opt.puts"
   ]
  },
  {
   "cell_type": "code",
   "execution_count": 4,
   "metadata": {},
   "outputs": [
    {
     "name": "stderr",
     "output_type": "stream",
     "text": [
      "C:\\Users\\karen\\AppData\\Local\\Temp\\ipykernel_3640\\634314298.py:3: FutureWarning: The default value of regex will change from True to False in a future version. In addition, single character regular expressions will *not* be treated as literal strings when regex=True.\n",
      "  datSymbol=  df500.Symbol.str.replace(\".\",\"-\").to_list()\n"
     ]
    },
    {
     "name": "stdout",
     "output_type": "stream",
     "text": [
      "[*********************100%***********************]  503 of 503 completed\n",
      "\n",
      "1 Failed download:\n",
      "- CEG: Data doesn't exist for startDate = 946702800, endDate = 1640926800\n"
     ]
    }
   ],
   "source": [
    "html=wp.page('list of S&P 500 companies').html().encode('utf-8')\n",
    "df500=pd.read_html(html)[0]\n",
    "datSymbol=  df500.Symbol.str.replace(\".\",\"-\").to_list()\n",
    "df = yf.download(datSymbol, group_by='Ticker', start=\"2000-01-01\", end=\"2021-12-31\")\n",
    "df1=df.stack(level=0).rename_axis(['Date','Ticker']).reset_index(level=1)\n",
    "df1.reset_index(inplace=True)\n",
    "df1.sort_values(by=['Ticker','Date'],ascending=True, inplace=True)\n",
    "df1['Status'] = np.where(df1['Ticker']!=df1['Ticker'].shift(1), 1,0)#inicaliza en cero los valores de las empresas en df1\n",
    "df1.reset_index(inplace=True,drop=True)"
   ]
  },
  {
   "cell_type": "markdown",
   "metadata": {},
   "source": [
    "## 1. ¿Cuál es el mejor día para invertir teniendo en cuenta el retorno de los movimiento gaps?"
   ]
  },
  {
   "cell_type": "code",
   "execution_count": 5,
   "metadata": {},
   "outputs": [],
   "source": [
    "df1['Date']=pd.to_datetime(df1['Date'])\n",
    "df1['Day']= df1['Date'].dt.day_name()\n",
    "df1['Retornos_gaps']= np.where(df1['Status'].values ==1,0, np.log(df1['Open']/df1['Close'].shift(1)).fillna(0))\n",
    "df1['Retornos_Intra']=np.log(df1['Close']/df1['Open']).fillna(0)\n",
    "df1['Variaciones']= np.where(df1['Status'].values ==1,0, df1['Adj Close'].pct_change())\n",
    "df1['Volatilidad']=df1['Variaciones'].rolling(250).std()*100*(250)**0.5 \n",
    "df2=df1.groupby (['Day']). agg ({'Retornos_gaps': ['median','max','mean','min','std']}). reset_index ()"
   ]
  },
  {
   "cell_type": "code",
   "execution_count": 6,
   "metadata": {},
   "outputs": [
    {
     "data": {
      "text/html": [
       "<div>\n",
       "<style scoped>\n",
       "    .dataframe tbody tr th:only-of-type {\n",
       "        vertical-align: middle;\n",
       "    }\n",
       "\n",
       "    .dataframe tbody tr th {\n",
       "        vertical-align: top;\n",
       "    }\n",
       "\n",
       "    .dataframe thead tr th {\n",
       "        text-align: left;\n",
       "    }\n",
       "</style>\n",
       "<table border=\"1\" class=\"dataframe\">\n",
       "  <thead>\n",
       "    <tr>\n",
       "      <th></th>\n",
       "      <th>Day</th>\n",
       "      <th colspan=\"5\" halign=\"left\">Retornos_gaps</th>\n",
       "    </tr>\n",
       "    <tr>\n",
       "      <th></th>\n",
       "      <th></th>\n",
       "      <th>median</th>\n",
       "      <th>max</th>\n",
       "      <th>mean</th>\n",
       "      <th>min</th>\n",
       "      <th>std</th>\n",
       "    </tr>\n",
       "  </thead>\n",
       "  <tbody>\n",
       "    <tr>\n",
       "      <th>0</th>\n",
       "      <td>Friday</td>\n",
       "      <td>0.000240</td>\n",
       "      <td>0.440770</td>\n",
       "      <td>0.000222</td>\n",
       "      <td>-0.640803</td>\n",
       "      <td>0.012793</td>\n",
       "    </tr>\n",
       "    <tr>\n",
       "      <th>1</th>\n",
       "      <td>Monday</td>\n",
       "      <td>0.000000</td>\n",
       "      <td>0.484487</td>\n",
       "      <td>0.000041</td>\n",
       "      <td>-1.161067</td>\n",
       "      <td>0.013623</td>\n",
       "    </tr>\n",
       "    <tr>\n",
       "      <th>2</th>\n",
       "      <td>Thursday</td>\n",
       "      <td>0.000000</td>\n",
       "      <td>0.510056</td>\n",
       "      <td>0.000057</td>\n",
       "      <td>-0.604080</td>\n",
       "      <td>0.012510</td>\n",
       "    </tr>\n",
       "    <tr>\n",
       "      <th>3</th>\n",
       "      <td>Tuesday</td>\n",
       "      <td>0.000164</td>\n",
       "      <td>0.386317</td>\n",
       "      <td>0.000578</td>\n",
       "      <td>-1.797111</td>\n",
       "      <td>0.012413</td>\n",
       "    </tr>\n",
       "    <tr>\n",
       "      <th>4</th>\n",
       "      <td>Wednesday</td>\n",
       "      <td>0.000000</td>\n",
       "      <td>0.336472</td>\n",
       "      <td>0.000116</td>\n",
       "      <td>-0.734991</td>\n",
       "      <td>0.012119</td>\n",
       "    </tr>\n",
       "  </tbody>\n",
       "</table>\n",
       "</div>"
      ],
      "text/plain": [
       "         Day Retornos_gaps                                        \n",
       "                    median       max      mean       min       std\n",
       "0     Friday      0.000240  0.440770  0.000222 -0.640803  0.012793\n",
       "1     Monday      0.000000  0.484487  0.000041 -1.161067  0.013623\n",
       "2   Thursday      0.000000  0.510056  0.000057 -0.604080  0.012510\n",
       "3    Tuesday      0.000164  0.386317  0.000578 -1.797111  0.012413\n",
       "4  Wednesday      0.000000  0.336472  0.000116 -0.734991  0.012119"
      ]
     },
     "execution_count": 6,
     "metadata": {},
     "output_type": "execute_result"
    }
   ],
   "source": [
    "df2"
   ]
  },
  {
   "cell_type": "code",
   "execution_count": 7,
   "metadata": {},
   "outputs": [
    {
     "data": {
      "text/plain": [
       "dict_keys([('Day', ''), ('Retornos_gaps', 'median'), ('Retornos_gaps', 'max'), ('Retornos_gaps', 'mean'), ('Retornos_gaps', 'min'), ('Retornos_gaps', 'std')])"
      ]
     },
     "execution_count": 7,
     "metadata": {},
     "output_type": "execute_result"
    }
   ],
   "source": [
    "dic1=dict(df2)\n",
    "dic1.keys()"
   ]
  },
  {
   "cell_type": "code",
   "execution_count": 8,
   "metadata": {},
   "outputs": [
    {
     "data": {
      "image/png": "[encoded data removed]",
      "text/plain": [
       "<Figure size 432x288 with 1 Axes>"
      ]
     },
     "metadata": {
      "needs_background": "light"
     },
     "output_type": "display_data"
    }
   ],
   "source": [
    "import matplotlib.pyplot as plt\n",
    "import numpy as np\n",
    "\n",
    "\n",
    "labels = dic1[ ('Day', '')]\n",
    "Maximo = dic1[('Retornos_gaps', 'max')]\n",
    "Minimo= dic1[('Retornos_gaps', 'min')]\n",
    "\n",
    "\n",
    "\n",
    "x = np.arange(len(labels))  \n",
    "width = 0.35 \n",
    "\n",
    "fig, ax = plt.subplots()\n",
    "rects2 = ax.bar(x + width/5, Maximo, width, label='Maximo')\n",
    "rects4 = ax.bar(x + width/5, Minimo, width, label='Minimo')\n",
    "\n",
    "\n",
    "ax.set_ylabel('Valores')\n",
    "ax.set_title('Estadistica Agrupada por Dia de la Semana')\n",
    "ax.set_xticks(x, labels)\n",
    "ax.legend()\n",
    "\n",
    "\n",
    "ax.bar_label(rects2, padding=3)\n",
    "\n",
    "ax.bar_label(rects4, padding=3)\n",
    "\n",
    "fig.tight_layout()\n",
    "\n",
    "plt.show()"
   ]
  },
  {
   "cell_type": "code",
   "execution_count": 9,
   "metadata": {},
   "outputs": [
    {
     "data": {
      "image/png": "[encoded data removed]",
      "text/plain": [
       "<Figure size 432x288 with 1 Axes>"
      ]
     },
     "metadata": {
      "needs_background": "light"
     },
     "output_type": "display_data"
    }
   ],
   "source": [
    "import matplotlib.pyplot as plt\n",
    "import numpy as np\n",
    "\n",
    "\n",
    "labels = dic1[ ('Day', '')]\n",
    "Mediana = dic1[('Retornos_gaps', 'median')]\n",
    "Maximo = dic1[('Retornos_gaps', 'max')]\n",
    "Promedio= dic1[('Retornos_gaps', 'mean')]\n",
    "Minimo= dic1[('Retornos_gaps', 'min')]\n",
    "Desviacion=dic1[('Retornos_gaps', 'std')]\n",
    "\n",
    "\n",
    "x = np.arange(len(labels))  \n",
    "width = 0.35 \n",
    "\n",
    "fig, ax = plt.subplots()\n",
    "rects1 = ax.bar(x - width/5, Mediana, width, label='Mediana')\n",
    "rects3 = ax.bar(x - width/5, Promedio, width, label='Promedio')\n",
    "\n",
    "ax.set_ylabel('Valores')\n",
    "ax.set_title('Estadistica Agrupada por Dia de la Semana')\n",
    "ax.set_xticks(x, labels)\n",
    "ax.legend()\n",
    "\n",
    "fig.tight_layout()\n",
    "\n",
    "plt.show()"
   ]
  },
  {
   "cell_type": "code",
   "execution_count": 10,
   "metadata": {},
   "outputs": [
    {
     "data": {
      "image/png": "[encoded data removed]",
      "text/plain": [
       "<Figure size 432x288 with 1 Axes>"
      ]
     },
     "metadata": {
      "needs_background": "light"
     },
     "output_type": "display_data"
    }
   ],
   "source": [
    "import matplotlib.pyplot as plt\n",
    "import numpy as np\n",
    "\n",
    "\n",
    "labels = dic1[ ('Day', '')]\n",
    "Mediana = dic1[('Retornos_gaps', 'median')]\n",
    "Maximo = dic1[('Retornos_gaps', 'max')]\n",
    "Promedio= dic1[('Retornos_gaps', 'mean')]\n",
    "Minimo= dic1[('Retornos_gaps', 'min')]\n",
    "Desviacion=dic1[('Retornos_gaps', 'std')]\n",
    "\n",
    "\n",
    "x = np.arange(len(labels)) \n",
    "width = 0.35  \n",
    "\n",
    "fig, ax = plt.subplots()\n",
    "rects5 = ax.bar(x + width/2,Desviacion, width, label='Desviacion')\n",
    "\n",
    "\n",
    "ax.set_ylabel('Valores')\n",
    "ax.set_title('Estadistica Agrupada por Dia de la Semana')\n",
    "ax.set_xticks(x, labels)\n",
    "ax.legend()\n",
    "\n",
    "\n",
    "ax.bar_label(rects5, padding=2)\n",
    "\n",
    "\n",
    "fig.tight_layout()\n",
    "\n",
    "plt.show()"
   ]
  },
  {
   "cell_type": "code",
   "execution_count": 11,
   "metadata": {},
   "outputs": [
    {
     "data": {
      "text/plain": [
       "'Wednesday'"
      ]
     },
     "execution_count": 11,
     "metadata": {},
     "output_type": "execute_result"
    }
   ],
   "source": [
    "df4=df1[df1.Retornos_gaps>-200]\n",
    "from statistics import mode, multimode\n",
    "Dia1=mode(df4['Day'])\n",
    "Dia1"
   ]
  },
  {
   "cell_type": "markdown",
   "metadata": {},
   "source": [
    "\n",
    "De acuerdo a los datos el mejor dia para comprar seria el jueves porque tiene un valor mínimo y máximo de retorno gaps más estables. Tambien cuenta con\tla desviación standar mas baja que los demás días en estudio.\t\t\t\t\t\t\t\t\t\t\t\t\t\t\t\t\t"
   ]
  },
  {
   "cell_type": "markdown",
   "metadata": {},
   "source": [
    "## 2. ¿Cuál es el mejor día para invertir teniendo en cuenta el retorno de los movimientos intradiarios?"
   ]
  },
  {
   "cell_type": "code",
   "execution_count": 12,
   "metadata": {},
   "outputs": [],
   "source": [
    "df3=df1.groupby (['Day']). agg ({'Retornos_Intra': ['median','max','mean','min','std']}). reset_index ()"
   ]
  },
  {
   "cell_type": "code",
   "execution_count": 13,
   "metadata": {},
   "outputs": [
    {
     "data": {
      "text/html": [
       "<div>\n",
       "<style scoped>\n",
       "    .dataframe tbody tr th:only-of-type {\n",
       "        vertical-align: middle;\n",
       "    }\n",
       "\n",
       "    .dataframe tbody tr th {\n",
       "        vertical-align: top;\n",
       "    }\n",
       "\n",
       "    .dataframe thead tr th {\n",
       "        text-align: left;\n",
       "    }\n",
       "</style>\n",
       "<table border=\"1\" class=\"dataframe\">\n",
       "  <thead>\n",
       "    <tr>\n",
       "      <th></th>\n",
       "      <th>Day</th>\n",
       "      <th colspan=\"5\" halign=\"left\">Retornos_Intra</th>\n",
       "    </tr>\n",
       "    <tr>\n",
       "      <th></th>\n",
       "      <th></th>\n",
       "      <th>median</th>\n",
       "      <th>max</th>\n",
       "      <th>mean</th>\n",
       "      <th>min</th>\n",
       "      <th>std</th>\n",
       "    </tr>\n",
       "  </thead>\n",
       "  <tbody>\n",
       "    <tr>\n",
       "      <th>0</th>\n",
       "      <td>Friday</td>\n",
       "      <td>0.000185</td>\n",
       "      <td>0.450322</td>\n",
       "      <td>0.000250</td>\n",
       "      <td>-0.576887</td>\n",
       "      <td>0.019329</td>\n",
       "    </tr>\n",
       "    <tr>\n",
       "      <th>1</th>\n",
       "      <td>Monday</td>\n",
       "      <td>0.000000</td>\n",
       "      <td>0.395102</td>\n",
       "      <td>-0.000307</td>\n",
       "      <td>-0.614557</td>\n",
       "      <td>0.020404</td>\n",
       "    </tr>\n",
       "    <tr>\n",
       "      <th>2</th>\n",
       "      <td>Thursday</td>\n",
       "      <td>0.000656</td>\n",
       "      <td>0.424211</td>\n",
       "      <td>0.000520</td>\n",
       "      <td>-0.612541</td>\n",
       "      <td>0.021020</td>\n",
       "    </tr>\n",
       "    <tr>\n",
       "      <th>3</th>\n",
       "      <td>Tuesday</td>\n",
       "      <td>0.000225</td>\n",
       "      <td>0.706570</td>\n",
       "      <td>0.000187</td>\n",
       "      <td>-0.524181</td>\n",
       "      <td>0.020404</td>\n",
       "    </tr>\n",
       "    <tr>\n",
       "      <th>4</th>\n",
       "      <td>Wednesday</td>\n",
       "      <td>0.000222</td>\n",
       "      <td>0.530853</td>\n",
       "      <td>0.000239</td>\n",
       "      <td>-0.490651</td>\n",
       "      <td>0.020722</td>\n",
       "    </tr>\n",
       "  </tbody>\n",
       "</table>\n",
       "</div>"
      ],
      "text/plain": [
       "         Day Retornos_Intra                                        \n",
       "                     median       max      mean       min       std\n",
       "0     Friday       0.000185  0.450322  0.000250 -0.576887  0.019329\n",
       "1     Monday       0.000000  0.395102 -0.000307 -0.614557  0.020404\n",
       "2   Thursday       0.000656  0.424211  0.000520 -0.612541  0.021020\n",
       "3    Tuesday       0.000225  0.706570  0.000187 -0.524181  0.020404\n",
       "4  Wednesday       0.000222  0.530853  0.000239 -0.490651  0.020722"
      ]
     },
     "execution_count": 13,
     "metadata": {},
     "output_type": "execute_result"
    }
   ],
   "source": [
    "df3"
   ]
  },
  {
   "cell_type": "code",
   "execution_count": 14,
   "metadata": {},
   "outputs": [],
   "source": [
    "dic=dict(df3)\n"
   ]
  },
  {
   "cell_type": "code",
   "execution_count": 15,
   "metadata": {},
   "outputs": [
    {
     "data": {
      "image/png": "[encoded data removed]",
      "text/plain": [
       "<Figure size 432x288 with 1 Axes>"
      ]
     },
     "metadata": {
      "needs_background": "light"
     },
     "output_type": "display_data"
    }
   ],
   "source": [
    "import matplotlib.pyplot as plt\n",
    "import numpy as np\n",
    "\n",
    "\n",
    "labels = dic[ ('Day', '')]\n",
    "\n",
    "Maximo = dic[('Retornos_Intra', 'max')]\n",
    "Minimo= dic[('Retornos_Intra', 'min')]\n",
    "x = np.arange(len(labels))  \n",
    "width = 0.35 \n",
    "\n",
    "fig, ax = plt.subplots()\n",
    "\n",
    "rects2 = ax.bar(x + width/5, Maximo, width, label='Maximo')\n",
    "rects4 = ax.bar(x + width/5, Minimo, width, label='Minimo')\n",
    "\n",
    "\n",
    "ax.set_ylabel('Valores')\n",
    "ax.set_title('Estadistica Agrupada por Dia de la Semana')\n",
    "ax.set_xticks(x, labels)\n",
    "ax.legend()\n",
    "\n",
    "fig.tight_layout()\n",
    "\n",
    "plt.show()"
   ]
  },
  {
   "cell_type": "code",
   "execution_count": 16,
   "metadata": {},
   "outputs": [
    {
     "data": {
      "image/png": "[encoded data removed]",
      "text/plain": [
       "<Figure size 432x288 with 1 Axes>"
      ]
     },
     "metadata": {
      "needs_background": "light"
     },
     "output_type": "display_data"
    }
   ],
   "source": [
    "import matplotlib.pyplot as plt\n",
    "import numpy as np\n",
    "\n",
    "\n",
    "labels = dic[ ('Day', '')]\n",
    "Mediana = dic[('Retornos_Intra', 'median')]\n",
    "Promedio= dic[('Retornos_Intra', 'mean')]\n",
    "\n",
    "x = np.arange(len(labels))  \n",
    "width = 0.35 \n",
    "\n",
    "fig, ax = plt.subplots()\n",
    "rects1 = ax.bar(x - width/5, Mediana, width, label='Mediana')\n",
    "rects3 = ax.bar(x - width/5, Promedio, width, label='Promedio')\n",
    "\n",
    "ax.set_ylabel('Valores')\n",
    "ax.set_title('Estadistica Agrupada por Dia de la Semana')\n",
    "ax.set_xticks(x, labels)\n",
    "ax.legend()\n",
    "\n",
    "\n",
    "fig.tight_layout()\n",
    "\n",
    "plt.show()"
   ]
  },
  {
   "cell_type": "code",
   "execution_count": 17,
   "metadata": {},
   "outputs": [
    {
     "data": {
      "image/png": "[encoded data removed]",
      "text/plain": [
       "<Figure size 432x288 with 1 Axes>"
      ]
     },
     "metadata": {
      "needs_background": "light"
     },
     "output_type": "display_data"
    }
   ],
   "source": [
    "import matplotlib.pyplot as plt\n",
    "import numpy as np\n",
    "\n",
    "\n",
    "labels = dic[ ('Day', '')]\n",
    "Desviacion=dic[('Retornos_Intra', 'std')]\n",
    "\n",
    "\n",
    "x = np.arange(len(labels))  # the label locations\n",
    "width = 0.35  # the width of the bars\n",
    "\n",
    "fig, ax = plt.subplots()\n",
    "\n",
    "rects5 = ax.bar(x + width/2,Desviacion, width, label='Desviacion')\n",
    "\n",
    "# Add some text for labels, title and custom x-axis tick labels, etc.\n",
    "ax.set_ylabel('Valores')\n",
    "ax.set_title('Estadistica Agrupada por Dia de la Semana')\n",
    "ax.set_xticks(x, labels)\n",
    "ax.legend()\n",
    "\n",
    "\n",
    "ax.bar_label(rects5, padding=2)\n",
    "\n",
    "\n",
    "fig.tight_layout()\n",
    "\n",
    "plt.show()"
   ]
  },
  {
   "cell_type": "code",
   "execution_count": 26,
   "metadata": {},
   "outputs": [
    {
     "data": {
      "text/plain": [
       "'Wednesday'"
      ]
     },
     "execution_count": 26,
     "metadata": {},
     "output_type": "execute_result"
    }
   ],
   "source": [
    "df5=df1[df1.Retornos_Intra>-200]\n",
    "from statistics import mode, multimode\n",
    "Dia2=mode(df5['Day'])\n",
    "Dia2"
   ]
  },
  {
   "cell_type": "markdown",
   "metadata": {},
   "source": [
    "\n",
    "\t\t\t\t\t\t\t\t\n",
    "Basandome en los datos el mejor día para comprar según lo observado en los movimientos intradiarios seria el viernes,   Cuenta con el valor mínimo y maximos proporcionados, la media y promedio es reducida. Cuenta también con una desviación standar mas baja que los demas días.\t\t\t\t\t\t\t\t\n",
    "\t\t\t\t\t\t\t\t"
   ]
  },
  {
   "cell_type": "markdown",
   "metadata": {},
   "source": [
    "## 3. ¿Cuáles son las mejores industrias que pertenecen al SP500 en las cuales se puede invertir?"
   ]
  },
  {
   "cell_type": "code",
   "execution_count": 18,
   "metadata": {},
   "outputs": [],
   "source": [
    "datawiki=df500.loc[:,['Symbol','GICS Sector','GICS Sub-Industry','CIK']]\n"
   ]
  },
  {
   "cell_type": "code",
   "execution_count": 19,
   "metadata": {},
   "outputs": [
    {
     "name": "stderr",
     "output_type": "stream",
     "text": [
      "C:\\Users\\karen\\AppData\\Local\\Temp\\ipykernel_3640\\122502288.py:2: FutureWarning: The default value of regex will change from True to False in a future version. In addition, single character regular expressions will *not* be treated as literal strings when regex=True.\n",
      "  datawiki.Ticker.str.replace(\".\", \"-\")\n"
     ]
    }
   ],
   "source": [
    "datawiki=datawiki.rename({'Symbol': 'Ticker'}, axis=1)\n",
    "datawiki.Ticker.str.replace(\".\", \"-\")\n",
    "dfIndustria=pd.merge(datawiki,df1, on='Ticker', how='inner')"
   ]
  },
  {
   "cell_type": "code",
   "execution_count": 20,
   "metadata": {},
   "outputs": [],
   "source": [
    "df6=dfIndustria.groupby (['GICS Sector']). agg ({'Volume': ['max']}). reset_index ()\n",
    "df6.sort_values(('Volume', 'max'),ascending=False, inplace=True)"
   ]
  },
  {
   "cell_type": "code",
   "execution_count": 21,
   "metadata": {},
   "outputs": [],
   "source": [
    "df7=dfIndustria.groupby (['GICS Sector']). agg ({'Adj Close': ['median']}). reset_index ()\n",
    "df7.sort_values(('Adj Close', 'median'),ascending=False, inplace=True)"
   ]
  },
  {
   "cell_type": "code",
   "execution_count": 22,
   "metadata": {},
   "outputs": [],
   "source": [
    "df8=dfIndustria.groupby (['GICS Sector']). agg ({'Variaciones': ['mean']}). reset_index ()\n",
    "df8.sort_values(('Variaciones', 'mean'),ascending=False, inplace=True)"
   ]
  },
  {
   "cell_type": "code",
   "execution_count": 23,
   "metadata": {},
   "outputs": [],
   "source": [
    "df9=dfIndustria.groupby (['GICS Sector']). agg ({'Volatilidad': ['median']}). reset_index ()\n",
    "df9.sort_values(('Volatilidad', 'median'),ascending=False, inplace=True)"
   ]
  },
  {
   "cell_type": "code",
   "execution_count": 24,
   "metadata": {},
   "outputs": [
    {
     "name": "stderr",
     "output_type": "stream",
     "text": [
      "C:\\Users\\karen\\AppData\\Local\\Temp\\ipykernel_3640\\1755110695.py:1: PerformanceWarning: dropping on a non-lexsorted multi-index without a level parameter may impact performance.\n",
      "  df10=pd.merge(df6,df7, on='GICS Sector', how='inner')#,df8,df9 dfestIndustria\n"
     ]
    }
   ],
   "source": [
    "df10=pd.merge(df6,df7, on='GICS Sector', how='inner')#,df8,df9 dfestIndustria"
   ]
  },
  {
   "cell_type": "code",
   "execution_count": 25,
   "metadata": {},
   "outputs": [
    {
     "name": "stderr",
     "output_type": "stream",
     "text": [
      "C:\\Users\\karen\\AppData\\Local\\Temp\\ipykernel_3640\\1495803759.py:1: PerformanceWarning: dropping on a non-lexsorted multi-index without a level parameter may impact performance.\n",
      "  df11=pd.merge(df10,df8, on='GICS Sector', how='inner')#,df8,df9 dfestIndustria\n"
     ]
    }
   ],
   "source": [
    "df11=pd.merge(df10,df8, on='GICS Sector', how='inner')#,df8,df9 dfestIndustria"
   ]
  },
  {
   "cell_type": "code",
   "execution_count": 26,
   "metadata": {},
   "outputs": [
    {
     "name": "stderr",
     "output_type": "stream",
     "text": [
      "C:\\Users\\karen\\AppData\\Local\\Temp\\ipykernel_3640\\828076678.py:1: PerformanceWarning: dropping on a non-lexsorted multi-index without a level parameter may impact performance.\n",
      "  dfestIndustria=pd.merge(df11,df9, on='GICS Sector', how='inner')#,df8,df9 dfestIndustria\n"
     ]
    }
   ],
   "source": [
    "dfestIndustria=pd.merge(df11,df9, on='GICS Sector', how='inner')#,df8,df9 dfestIndustria"
   ]
  },
  {
   "cell_type": "code",
   "execution_count": 27,
   "metadata": {},
   "outputs": [
    {
     "name": "stderr",
     "output_type": "stream",
     "text": [
      "C:\\Users\\karen\\AppData\\Local\\Temp\\ipykernel_3640\\3762382217.py:3: SettingWithCopyWarning: \n",
      "A value is trying to be set on a copy of a slice from a DataFrame.\n",
      "Try using .loc[row_indexer,col_indexer] = value instead\n",
      "\n",
      "See the caveats in the documentation: https://pandas.pydata.org/pandas-docs/stable/user_guide/indexing.html#returning-a-view-versus-a-copy\n",
      "  df12['Capitlizacion_Bursatil']=df12[('Volume', 'max')]/df12[('Adj Close', 'median')]\n"
     ]
    },
    {
     "data": {
      "text/html": [
       "<div>\n",
       "<style scoped>\n",
       "    .dataframe tbody tr th:only-of-type {\n",
       "        vertical-align: middle;\n",
       "    }\n",
       "\n",
       "    .dataframe tbody tr th {\n",
       "        vertical-align: top;\n",
       "    }\n",
       "\n",
       "    .dataframe thead tr th {\n",
       "        text-align: left;\n",
       "    }\n",
       "</style>\n",
       "<table border=\"1\" class=\"dataframe\">\n",
       "  <thead>\n",
       "    <tr>\n",
       "      <th></th>\n",
       "      <th>GICS Sector</th>\n",
       "      <th>Volume</th>\n",
       "      <th>Adj Close</th>\n",
       "      <th>Variaciones</th>\n",
       "      <th>Volatilidad</th>\n",
       "      <th>Capitlizacion_Bursatil</th>\n",
       "    </tr>\n",
       "    <tr>\n",
       "      <th></th>\n",
       "      <th></th>\n",
       "      <th>max</th>\n",
       "      <th>median</th>\n",
       "      <th>mean</th>\n",
       "      <th>median</th>\n",
       "      <th></th>\n",
       "    </tr>\n",
       "  </thead>\n",
       "  <tbody>\n",
       "    <tr>\n",
       "      <th>0</th>\n",
       "      <td>Information Technology</td>\n",
       "      <td>7.421641e+09</td>\n",
       "      <td>26.783428</td>\n",
       "      <td>0.000888</td>\n",
       "      <td>33.623149</td>\n",
       "      <td>2.770982e+08</td>\n",
       "    </tr>\n",
       "    <tr>\n",
       "      <th>1</th>\n",
       "      <td>Communication Services</td>\n",
       "      <td>2.720061e+09</td>\n",
       "      <td>24.020044</td>\n",
       "      <td>0.000688</td>\n",
       "      <td>30.726354</td>\n",
       "      <td>1.132413e+08</td>\n",
       "    </tr>\n",
       "    <tr>\n",
       "      <th>2</th>\n",
       "      <td>Consumer Discretionary</td>\n",
       "      <td>2.086584e+09</td>\n",
       "      <td>32.474869</td>\n",
       "      <td>0.000880</td>\n",
       "      <td>31.583230</td>\n",
       "      <td>6.425227e+07</td>\n",
       "    </tr>\n",
       "    <tr>\n",
       "      <th>3</th>\n",
       "      <td>Financials</td>\n",
       "      <td>1.226791e+09</td>\n",
       "      <td>34.446198</td>\n",
       "      <td>0.000679</td>\n",
       "      <td>26.151847</td>\n",
       "      <td>3.561471e+07</td>\n",
       "    </tr>\n",
       "    <tr>\n",
       "      <th>4</th>\n",
       "      <td>Industrials</td>\n",
       "      <td>4.286171e+08</td>\n",
       "      <td>36.847994</td>\n",
       "      <td>0.000744</td>\n",
       "      <td>27.686367</td>\n",
       "      <td>1.163203e+07</td>\n",
       "    </tr>\n",
       "    <tr>\n",
       "      <th>5</th>\n",
       "      <td>Materials</td>\n",
       "      <td>3.582800e+08</td>\n",
       "      <td>34.589031</td>\n",
       "      <td>0.000688</td>\n",
       "      <td>28.948463</td>\n",
       "      <td>1.035820e+07</td>\n",
       "    </tr>\n",
       "    <tr>\n",
       "      <th>6</th>\n",
       "      <td>Health Care</td>\n",
       "      <td>3.053816e+08</td>\n",
       "      <td>40.887440</td>\n",
       "      <td>0.000822</td>\n",
       "      <td>28.392003</td>\n",
       "      <td>7.468837e+06</td>\n",
       "    </tr>\n",
       "    <tr>\n",
       "      <th>7</th>\n",
       "      <td>Energy</td>\n",
       "      <td>2.739966e+08</td>\n",
       "      <td>30.323095</td>\n",
       "      <td>0.000678</td>\n",
       "      <td>31.933391</td>\n",
       "      <td>9.035905e+06</td>\n",
       "    </tr>\n",
       "    <tr>\n",
       "      <th>8</th>\n",
       "      <td>Consumer Staples</td>\n",
       "      <td>2.709882e+08</td>\n",
       "      <td>31.155399</td>\n",
       "      <td>0.000543</td>\n",
       "      <td>21.300077</td>\n",
       "      <td>8.697953e+06</td>\n",
       "    </tr>\n",
       "  </tbody>\n",
       "</table>\n",
       "</div>"
      ],
      "text/plain": [
       "              GICS Sector        Volume  Adj Close Variaciones Volatilidad  \\\n",
       "                                    max     median        mean      median   \n",
       "0  Information Technology  7.421641e+09  26.783428    0.000888   33.623149   \n",
       "1  Communication Services  2.720061e+09  24.020044    0.000688   30.726354   \n",
       "2  Consumer Discretionary  2.086584e+09  32.474869    0.000880   31.583230   \n",
       "3              Financials  1.226791e+09  34.446198    0.000679   26.151847   \n",
       "4             Industrials  4.286171e+08  36.847994    0.000744   27.686367   \n",
       "5               Materials  3.582800e+08  34.589031    0.000688   28.948463   \n",
       "6             Health Care  3.053816e+08  40.887440    0.000822   28.392003   \n",
       "7                  Energy  2.739966e+08  30.323095    0.000678   31.933391   \n",
       "8        Consumer Staples  2.709882e+08  31.155399    0.000543   21.300077   \n",
       "\n",
       "  Capitlizacion_Bursatil  \n",
       "                          \n",
       "0           2.770982e+08  \n",
       "1           1.132413e+08  \n",
       "2           6.425227e+07  \n",
       "3           3.561471e+07  \n",
       "4           1.163203e+07  \n",
       "5           1.035820e+07  \n",
       "6           7.468837e+06  \n",
       "7           9.035905e+06  \n",
       "8           8.697953e+06  "
      ]
     },
     "execution_count": 27,
     "metadata": {},
     "output_type": "execute_result"
    }
   ],
   "source": [
    "\n",
    "dfestIndustria.sort_values(('Volume', 'max'),ascending=False, inplace=True)\n",
    "df12=dfestIndustria.head(9)\n",
    "df12['Capitlizacion_Bursatil']=df12[('Volume', 'max')]/df12[('Adj Close', 'median')]\n",
    "df12"
   ]
  },
  {
   "cell_type": "code",
   "execution_count": 28,
   "metadata": {},
   "outputs": [
    {
     "data": {
      "image/png": "[encoded data removed]",
      "text/plain": [
       "<Figure size 432x288 with 1 Axes>"
      ]
     },
     "metadata": {
      "needs_background": "light"
     },
     "output_type": "display_data"
    }
   ],
   "source": [
    "labels = df12[('GICS Sector', '')]\n",
    "Volumen= df12[('Capitlizacion_Bursatil', '')]\n",
    "\n",
    "\n",
    "x = np.arange(len(labels))  \n",
    "width =1.0  \n",
    "\n",
    "fig, ax = plt.subplots()\n",
    "\n",
    "rects5 = ax.bar(x + width/2,Volumen, width, label='Capitalizacion Bursatil')\n",
    "\n",
    "ax.set_ylabel('Valores')\n",
    "ax.set_title('Maxima Capitalización para las industrias')\n",
    "ax.set_xticks(x, labels, rotation=45 )\n",
    "ax.legend()\n",
    "\n",
    "fig.tight_layout()\n",
    "\n",
    "plt.show() "
   ]
  },
  {
   "cell_type": "markdown",
   "metadata": {},
   "source": [
    "## 3. ¿Cuales fueron los momentos de alta volatilidad que afectaron al SP500?"
   ]
  },
  {
   "cell_type": "code",
   "execution_count": 29,
   "metadata": {},
   "outputs": [],
   "source": [
    "df1['Date']=pd.to_datetime(df1['Date'])\n",
    "df1['Anual']= df1['Date'].dt.year"
   ]
  },
  {
   "cell_type": "code",
   "execution_count": 30,
   "metadata": {},
   "outputs": [],
   "source": [
    "df13=df1"
   ]
  },
  {
   "cell_type": "code",
   "execution_count": 31,
   "metadata": {},
   "outputs": [],
   "source": [
    "df14=df13.groupby (['Anual']). agg ({'Volatilidad': ['max']}). reset_index ()\n",
    "df14.sort_values(('Volatilidad', 'max'),ascending=False, inplace=True)"
   ]
  },
  {
   "cell_type": "code",
   "execution_count": 32,
   "metadata": {},
   "outputs": [],
   "source": [
    "df14.sort_values(('Anual', ''), inplace=True)"
   ]
  },
  {
   "cell_type": "code",
   "execution_count": 33,
   "metadata": {},
   "outputs": [
    {
     "data": {
      "image/png": "[encoded data removed]",
      "text/plain": [
       "<Figure size 432x288 with 1 Axes>"
      ]
     },
     "metadata": {
      "needs_background": "light"
     },
     "output_type": "display_data"
    }
   ],
   "source": [
    "import matplotlib.pyplot as plt\n",
    "import numpy as np\n",
    "\n",
    "\n",
    "labels = df14[ ('Anual', '')]\n",
    "Desviacion=df14[(('Volatilidad', 'max'))]\n",
    "\n",
    "\n",
    "x = np.arange(len(labels)) \n",
    "width =1.0  \n",
    "\n",
    "fig, ax = plt.subplots()\n",
    "\n",
    "rects5 = ax.bar(x + width/2,Desviacion, width, label='Volatilida')\n",
    "\n",
    "ax.set_ylabel('Valores')\n",
    "ax.set_title('Volatilidad desde 2000 hasta 2021')\n",
    "ax.set_xticks(x, labels,rotation=60)\n",
    "ax.legend()\n",
    "\n",
    "plt.show()"
   ]
  },
  {
   "cell_type": "code",
   "execution_count": 34,
   "metadata": {},
   "outputs": [],
   "source": [
    "listadoanion=df13.groupby(['Anual']).agg({'Volatilidad': ['max']}).sort_values(by='Anual' )"
   ]
  },
  {
   "cell_type": "code",
   "execution_count": 35,
   "metadata": {},
   "outputs": [
    {
     "data": {
      "image/png": "[encoded data removed]",
      "text/plain": [
       "<Figure size 720x432 with 1 Axes>"
      ]
     },
     "metadata": {
      "needs_background": "light"
     },
     "output_type": "display_data"
    }
   ],
   "source": [
    "\n",
    "listadoanion.plot(kind='line',figsize=(10,6));\n",
    "plt.title(\"Volatilidad desde el 2000 hasta 2021\");\n",
    "plt.xlabel('Años');\n",
    "plt.ylabel('Volatilidad');\n"
   ]
  },
  {
   "cell_type": "markdown",
   "metadata": {},
   "source": [
    "En 2003 la volatilidad se debe a la amenaza de invasion a irak.\n",
    "En el año  2009 se dio la caida mas grande debido a la crisis inmoviliario que venia gestionandose ya años antes.\n",
    "En el 2020 cae a raiz de la caida de los precios del petrolio, gerra de precios iniciada por Arabia Saudita.\n",
    "En el mismo 2020 a inicios se ve afectada por la pandemia de Coronavirus."
   ]
  },
  {
   "cell_type": "markdown",
   "metadata": {},
   "source": [
    "5. ¿Cuáles son las 9 mejores empresas para invertir?"
   ]
  },
  {
   "cell_type": "code",
   "execution_count": 36,
   "metadata": {},
   "outputs": [],
   "source": [
    "df15=df1.groupby (['Ticker']). agg({'Volume': ['max']}). reset_index ()\n",
    "df15.sort_values(('Volume', 'max'),ascending=False, inplace=True)\n"
   ]
  },
  {
   "cell_type": "code",
   "execution_count": 37,
   "metadata": {},
   "outputs": [],
   "source": [
    "df16=df1.groupby (['Ticker']). agg ({'Adj Close': ['median']}). reset_index ()\n",
    "df16.sort_values(('Adj Close', 'median'),ascending=False, inplace=True)"
   ]
  },
  {
   "cell_type": "code",
   "execution_count": 38,
   "metadata": {},
   "outputs": [],
   "source": [
    "\n",
    "df17=df1.groupby (['Ticker']). agg ({'Variaciones': ['mean']}). reset_index ()\n",
    "df17.sort_values(('Variaciones', 'mean'),ascending=False, inplace=True)"
   ]
  },
  {
   "cell_type": "code",
   "execution_count": 39,
   "metadata": {},
   "outputs": [],
   "source": [
    "df18=df1.groupby (['Ticker']). agg ({'Volatilidad': ['median']}). reset_index ()\n",
    "df18.sort_values(('Volatilidad', 'median'),ascending=False, inplace=True)"
   ]
  },
  {
   "cell_type": "code",
   "execution_count": 40,
   "metadata": {},
   "outputs": [
    {
     "name": "stderr",
     "output_type": "stream",
     "text": [
      "C:\\Users\\karen\\AppData\\Local\\Temp\\ipykernel_3640\\1653830126.py:1: PerformanceWarning: dropping on a non-lexsorted multi-index without a level parameter may impact performance.\n",
      "  df19=pd.merge(df15,df16, on=['Ticker'], how='inner')#dfestEmpresa\n"
     ]
    }
   ],
   "source": [
    "df19=pd.merge(df15,df16, on=['Ticker'], how='inner')#dfestEmpresa"
   ]
  },
  {
   "cell_type": "code",
   "execution_count": 41,
   "metadata": {},
   "outputs": [
    {
     "name": "stderr",
     "output_type": "stream",
     "text": [
      "C:\\Users\\karen\\AppData\\Local\\Temp\\ipykernel_3640\\2991114126.py:1: PerformanceWarning: dropping on a non-lexsorted multi-index without a level parameter may impact performance.\n",
      "  df20=pd.merge(df19,df17, on=['Ticker'], how='inner')#dfestEmpresa\n"
     ]
    }
   ],
   "source": [
    "df20=pd.merge(df19,df17, on=['Ticker'], how='inner')#dfestEmpresa"
   ]
  },
  {
   "cell_type": "code",
   "execution_count": 42,
   "metadata": {},
   "outputs": [
    {
     "name": "stderr",
     "output_type": "stream",
     "text": [
      "C:\\Users\\karen\\AppData\\Local\\Temp\\ipykernel_3640\\3148766881.py:1: PerformanceWarning: dropping on a non-lexsorted multi-index without a level parameter may impact performance.\n",
      "  df21=pd.merge(df20,df18, on=['Ticker'], how='inner')#dfestEmpresa\n"
     ]
    }
   ],
   "source": [
    "df21=pd.merge(df20,df18, on=['Ticker'], how='inner')#dfestEmpresa"
   ]
  },
  {
   "cell_type": "code",
   "execution_count": 43,
   "metadata": {},
   "outputs": [
    {
     "data": {
      "text/html": [
       "<div>\n",
       "<style scoped>\n",
       "    .dataframe tbody tr th:only-of-type {\n",
       "        vertical-align: middle;\n",
       "    }\n",
       "\n",
       "    .dataframe tbody tr th {\n",
       "        vertical-align: top;\n",
       "    }\n",
       "\n",
       "    .dataframe thead tr th {\n",
       "        text-align: left;\n",
       "    }\n",
       "</style>\n",
       "<table border=\"1\" class=\"dataframe\">\n",
       "  <thead>\n",
       "    <tr>\n",
       "      <th></th>\n",
       "      <th>Ticker</th>\n",
       "      <th>Volume</th>\n",
       "      <th>Adj Close</th>\n",
       "      <th>Variaciones</th>\n",
       "      <th>Volatilidad</th>\n",
       "    </tr>\n",
       "    <tr>\n",
       "      <th></th>\n",
       "      <th></th>\n",
       "      <th>max</th>\n",
       "      <th>median</th>\n",
       "      <th>mean</th>\n",
       "      <th>median</th>\n",
       "    </tr>\n",
       "  </thead>\n",
       "  <tbody>\n",
       "    <tr>\n",
       "      <th>0</th>\n",
       "      <td>AAPL</td>\n",
       "      <td>7.421641e+09</td>\n",
       "      <td>9.929202</td>\n",
       "      <td>0.001297</td>\n",
       "      <td>33.335307</td>\n",
       "    </tr>\n",
       "    <tr>\n",
       "      <th>1</th>\n",
       "      <td>MTCH</td>\n",
       "      <td>2.720061e+09</td>\n",
       "      <td>8.788107</td>\n",
       "      <td>0.000878</td>\n",
       "      <td>36.957140</td>\n",
       "    </tr>\n",
       "    <tr>\n",
       "      <th>2</th>\n",
       "      <td>AMZN</td>\n",
       "      <td>2.086584e+09</td>\n",
       "      <td>8.685500</td>\n",
       "      <td>0.001157</td>\n",
       "      <td>37.404844</td>\n",
       "    </tr>\n",
       "    <tr>\n",
       "      <th>3</th>\n",
       "      <td>BAC</td>\n",
       "      <td>1.226791e+09</td>\n",
       "      <td>20.929085</td>\n",
       "      <td>0.000621</td>\n",
       "      <td>29.635714</td>\n",
       "    </tr>\n",
       "    <tr>\n",
       "      <th>4</th>\n",
       "      <td>NVDA</td>\n",
       "      <td>9.230856e+08</td>\n",
       "      <td>3.824552</td>\n",
       "      <td>0.001757</td>\n",
       "      <td>49.337696</td>\n",
       "    </tr>\n",
       "    <tr>\n",
       "      <th>5</th>\n",
       "      <td>V</td>\n",
       "      <td>7.084860e+08</td>\n",
       "      <td>62.556837</td>\n",
       "      <td>0.000995</td>\n",
       "      <td>23.809336</td>\n",
       "    </tr>\n",
       "    <tr>\n",
       "      <th>6</th>\n",
       "      <td>VZ</td>\n",
       "      <td>6.166205e+08</td>\n",
       "      <td>21.140905</td>\n",
       "      <td>0.000287</td>\n",
       "      <td>17.680360</td>\n",
       "    </tr>\n",
       "    <tr>\n",
       "      <th>7</th>\n",
       "      <td>MSFT</td>\n",
       "      <td>5.910522e+08</td>\n",
       "      <td>22.592464</td>\n",
       "      <td>0.000587</td>\n",
       "      <td>24.536013</td>\n",
       "    </tr>\n",
       "    <tr>\n",
       "      <th>8</th>\n",
       "      <td>META</td>\n",
       "      <td>5.735764e+08</td>\n",
       "      <td>135.000000</td>\n",
       "      <td>0.001172</td>\n",
       "      <td>33.348486</td>\n",
       "    </tr>\n",
       "  </tbody>\n",
       "</table>\n",
       "</div>"
      ],
      "text/plain": [
       "  Ticker        Volume   Adj Close Variaciones Volatilidad\n",
       "                   max      median        mean      median\n",
       "0   AAPL  7.421641e+09    9.929202    0.001297   33.335307\n",
       "1   MTCH  2.720061e+09    8.788107    0.000878   36.957140\n",
       "2   AMZN  2.086584e+09    8.685500    0.001157   37.404844\n",
       "3    BAC  1.226791e+09   20.929085    0.000621   29.635714\n",
       "4   NVDA  9.230856e+08    3.824552    0.001757   49.337696\n",
       "5      V  7.084860e+08   62.556837    0.000995   23.809336\n",
       "6     VZ  6.166205e+08   21.140905    0.000287   17.680360\n",
       "7   MSFT  5.910522e+08   22.592464    0.000587   24.536013\n",
       "8   META  5.735764e+08  135.000000    0.001172   33.348486"
      ]
     },
     "execution_count": 43,
     "metadata": {},
     "output_type": "execute_result"
    }
   ],
   "source": [
    "df21.sort_values(('Volume', 'max'),ascending=False, inplace=True)\n",
    "df22=df21.head(9)\n",
    "df22"
   ]
  },
  {
   "cell_type": "code",
   "execution_count": 44,
   "metadata": {},
   "outputs": [
    {
     "data": {
      "image/png": "[encoded data removed]",
      "text/plain": [
       "<Figure size 432x288 with 1 Axes>"
      ]
     },
     "metadata": {
      "needs_background": "light"
     },
     "output_type": "display_data"
    }
   ],
   "source": [
    "import matplotlib.pyplot as plt\n",
    "import numpy as np\n",
    "\n",
    "\n",
    "labels = df22[ ('Ticker', '')]\n",
    "Desviacion=df22[('Variaciones', 'mean')]\n",
    "\n",
    "\n",
    "x = np.arange(len(labels))  # the label locations\n",
    "width = 0.35  # the width of the bars\n",
    "\n",
    "fig, ax = plt.subplots()\n",
    "\n",
    "rects5 = ax.bar(x + width/2,Desviacion, width, label='Variaciones')\n",
    "\n",
    "# Add some text for labels, title and custom x-axis tick labels, etc.\n",
    "ax.set_ylabel('Valores')\n",
    "ax.set_title('Estadistica Agrupada Top10 Empresa con Variaciones promedio')\n",
    "ax.set_xticks(x, labels)\n",
    "ax.legend()\n",
    "\n",
    "\n",
    "#ax.bar_label(rects5, padding=2)\n",
    "\n",
    "\n",
    "fig.tight_layout()\n",
    "\n",
    "plt.show()"
   ]
  },
  {
   "cell_type": "markdown",
   "metadata": {},
   "source": [
    "##NVIDIA Corporation"
   ]
  },
  {
   "cell_type": "code",
   "execution_count": 45,
   "metadata": {},
   "outputs": [
    {
     "name": "stdout",
     "output_type": "stream",
     "text": [
      "[*********************100%***********************]  1 of 1 completed\n"
     ]
    }
   ],
   "source": [
    "import yfinance as yf\n",
    "import finplot as fplt\n",
    "\n",
    "df = yf.download('NVDA',start='2011-01-01', end = '2021-12-31')\n",
    "fplt.candlestick_ochl(df[['Open','Close','High','Low']])\n",
    "fplt.plot(df.Close.rolling(50).mean())\n",
    "fplt.plot(df.Close.rolling(200).mean())\n",
    "fplt.show()"
   ]
  },
  {
   "cell_type": "code",
   "execution_count": 46,
   "metadata": {},
   "outputs": [
    {
     "data": {
      "text/plain": [
       "'Semiconductors'"
      ]
     },
     "execution_count": 46,
     "metadata": {},
     "output_type": "execute_result"
    }
   ],
   "source": [
    "msft = yf.Ticker('NVDA')\n",
    "dicc=msft.info\n",
    "dicc['industry']"
   ]
  },
  {
   "cell_type": "code",
   "execution_count": 47,
   "metadata": {},
   "outputs": [
    {
     "data": {
      "text/plain": [
       "\"NVIDIA Corporation provides graphics, and compute and networking solutions in the United States, Taiwan, China, and internationally. The company's Graphics segment offers GeForce GPUs for gaming and PCs, the GeForce NOW game streaming service and related infrastructure, and solutions for gaming platforms; Quadro/NVIDIA RTX GPUs for enterprise workstation graphics; vGPU software for cloud-based visual and virtual computing; automotive platforms for infotainment systems; and Omniverse software for building 3D designs and virtual worlds. Its Compute & Networking segment provides Data Center platforms and systems for AI, HPC, and accelerated computing; Mellanox networking and interconnect solutions; automotive AI Cockpit, autonomous driving development agreements, and autonomous vehicle solutions; cryptocurrency mining processors; Jetson for robotics and other embedded platforms; and NVIDIA AI Enterprise and other software. The company's products are used in gaming, professional visualization, datacenter, and automotive markets. NVIDIA Corporation sells its products to original equipment manufacturers, original device manufacturers, system builders, add-in board manufacturers, retailers/distributors, independent software vendors, Internet and cloud service providers, automotive manufacturers and tier-1 automotive suppliers, mapping companies, start-ups, and other ecosystem participants. It has a strategic collaboration with Kroger Co. NVIDIA Corporation was incorporated in 1993 and is headquartered in Santa Clara, California.\""
      ]
     },
     "execution_count": 47,
     "metadata": {},
     "output_type": "execute_result"
    }
   ],
   "source": [
    "dicc['longBusinessSummary']"
   ]
  },
  {
   "cell_type": "code",
   "execution_count": 49,
   "metadata": {},
   "outputs": [
    {
     "data": {
      "text/plain": [
       "2.2523"
      ]
     },
     "execution_count": 49,
     "metadata": {},
     "output_type": "execute_result"
    }
   ],
   "source": [
    "dicc['trailingPegRatio']#METRICA QUE MIDE PORCENTAJE DE GANANCIA EN UN AÑO"
   ]
  },
  {
   "cell_type": "markdown",
   "metadata": {},
   "source": [
    "### Apple Inc."
   ]
  },
  {
   "cell_type": "code",
   "execution_count": 50,
   "metadata": {},
   "outputs": [
    {
     "name": "stdout",
     "output_type": "stream",
     "text": [
      "[*********************100%***********************]  1 of 1 completed\n"
     ]
    }
   ],
   "source": [
    "import yfinance as yf\n",
    "import finplot as fplt\n",
    "\n",
    "df = yf.download('AAPL',start='2011-01-01', end = '2021-12-31')\n",
    "fplt.candlestick_ochl(df[['Open','Close','High','Low']])\n",
    "fplt.plot(df.Close.rolling(50).mean())\n",
    "fplt.plot(df.Close.rolling(200).mean())\n",
    "fplt.show()"
   ]
  },
  {
   "cell_type": "code",
   "execution_count": 51,
   "metadata": {},
   "outputs": [
    {
     "data": {
      "text/plain": [
       "'Consumer Electronics'"
      ]
     },
     "execution_count": 51,
     "metadata": {},
     "output_type": "execute_result"
    }
   ],
   "source": [
    "msft = yf.Ticker('AAPL')\n",
    "dicc=msft.info\n",
    "dicc['industry']"
   ]
  },
  {
   "cell_type": "code",
   "execution_count": 52,
   "metadata": {},
   "outputs": [
    {
     "data": {
      "text/plain": [
       "'Apple Inc. designs, manufactures, and markets smartphones, personal computers, tablets, wearables, and accessories worldwide. It also sells various related services. In addition, the company offers iPhone, a line of smartphones; Mac, a line of personal computers; iPad, a line of multi-purpose tablets; AirPods Max, an over-ear wireless headphone; and wearables, home, and accessories comprising AirPods, Apple TV, Apple Watch, Beats products, HomePod, and iPod touch. Further, it provides AppleCare support services; cloud services store services; and operates various platforms, including the App Store that allow customers to discover and download applications and digital content, such as books, music, video, games, and podcasts. Additionally, the company offers various services, such as Apple Arcade, a game subscription service; Apple Music, which offers users a curated listening experience with on-demand radio stations; Apple News+, a subscription news and magazine service; Apple TV+, which offers exclusive original content; Apple Card, a co-branded credit card; and Apple Pay, a cashless payment service, as well as licenses its intellectual property. The company serves consumers, and small and mid-sized businesses; and the education, enterprise, and government markets. It distributes third-party applications for its products through the App Store. The company also sells its products through its retail and online stores, and direct sales force; and third-party cellular network carriers, wholesalers, retailers, and resellers. Apple Inc. was incorporated in 1977 and is headquartered in Cupertino, California.'"
      ]
     },
     "execution_count": 52,
     "metadata": {},
     "output_type": "execute_result"
    }
   ],
   "source": [
    "dicc['longBusinessSummary']"
   ]
  },
  {
   "cell_type": "code",
   "execution_count": 53,
   "metadata": {},
   "outputs": [
    {
     "data": {
      "text/plain": [
       "2.4623"
      ]
     },
     "execution_count": 53,
     "metadata": {},
     "output_type": "execute_result"
    }
   ],
   "source": [
    "dicc['trailingPegRatio']#METRICA QUE MIDE PORCENTAJE DE GANANCIA EN UN AÑO"
   ]
  },
  {
   "cell_type": "markdown",
   "metadata": {},
   "source": [
    "### Visa Inc."
   ]
  },
  {
   "cell_type": "code",
   "execution_count": 54,
   "metadata": {},
   "outputs": [
    {
     "name": "stdout",
     "output_type": "stream",
     "text": [
      "[*********************100%***********************]  1 of 1 completed\n"
     ]
    }
   ],
   "source": [
    "import yfinance as yf\n",
    "import finplot as fplt\n",
    "\n",
    "df = yf.download('V',start='2011-01-01', end = '2021-12-31')\n",
    "fplt.candlestick_ochl(df[['Open','Close','High','Low']])\n",
    "fplt.plot(df.Close.rolling(50).mean())\n",
    "fplt.plot(df.Close.rolling(200).mean())\n",
    "fplt.show()"
   ]
  },
  {
   "cell_type": "code",
   "execution_count": 55,
   "metadata": {},
   "outputs": [
    {
     "data": {
      "text/plain": [
       "'Credit Services'"
      ]
     },
     "execution_count": 55,
     "metadata": {},
     "output_type": "execute_result"
    }
   ],
   "source": [
    "msft = yf.Ticker('V')\n",
    "dicc=msft.info\n",
    "dicc['industry']"
   ]
  },
  {
   "cell_type": "code",
   "execution_count": 56,
   "metadata": {},
   "outputs": [
    {
     "data": {
      "text/plain": [
       "'Visa Inc. operates as a payments technology company worldwide. The company facilitates digital payments among consumers, merchants, financial institutions, businesses, strategic partners, and government entities. It operates VisaNet, a transaction processing network that enables authorization, clearing, and settlement of payment transactions. In addition, the company offers card products, platforms, and value-added services. It provides its services under the Visa, Visa Electron, Interlink, VPAY, and PLUS brands. Visa Inc. has a strategic agreement with Ooredoo to provide an enhanced payment experience for Visa cardholders and Ooredoo customers in Qatar. Visa Inc. was founded in 1958 and is headquartered in San Francisco, California.'"
      ]
     },
     "execution_count": 56,
     "metadata": {},
     "output_type": "execute_result"
    }
   ],
   "source": [
    "dicc['longBusinessSummary']"
   ]
  },
  {
   "cell_type": "code",
   "execution_count": 57,
   "metadata": {},
   "outputs": [
    {
     "data": {
      "text/plain": [
       "1.3742"
      ]
     },
     "execution_count": 57,
     "metadata": {},
     "output_type": "execute_result"
    }
   ],
   "source": [
    "dicc['trailingPegRatio']#METRICA QUE MIDE PORCENTAJE DE GANANCIA EN UN AÑO"
   ]
  },
  {
   "cell_type": "markdown",
   "metadata": {},
   "source": [
    "### Bank of America Corporation"
   ]
  },
  {
   "cell_type": "code",
   "execution_count": 54,
   "metadata": {},
   "outputs": [
    {
     "name": "stdout",
     "output_type": "stream",
     "text": [
      "[*********************100%***********************]  1 of 1 completed\n"
     ]
    }
   ],
   "source": [
    "import yfinance as yf\n",
    "import finplot as fplt\n",
    "\n",
    "df = yf.download('BAC',start='2011-01-01', end = '2021-12-31')\n",
    "fplt.candlestick_ochl(df[['Open','Close','High','Low']])\n",
    "fplt.plot(df.Close.rolling(50).mean())\n",
    "fplt.plot(df.Close.rolling(200).mean())\n",
    "fplt.show()"
   ]
  },
  {
   "cell_type": "code",
   "execution_count": 59,
   "metadata": {},
   "outputs": [
    {
     "data": {
      "text/plain": [
       "'Banks—Diversified'"
      ]
     },
     "execution_count": 59,
     "metadata": {},
     "output_type": "execute_result"
    }
   ],
   "source": [
    "msft = yf.Ticker('BAC')\n",
    "dicc=msft.info\n",
    "dicc['industry']"
   ]
  },
  {
   "cell_type": "code",
   "execution_count": 60,
   "metadata": {},
   "outputs": [
    {
     "data": {
      "text/plain": [
       "\"Bank of America Corporation, through its subsidiaries, provides banking and financial products and services for individual consumers, small and middle-market businesses, institutional investors, large corporations, and governments worldwide. Its Consumer Banking segment offers traditional and money market savings accounts, certificates of deposit and IRAs, noninterest-and interest-bearing checking accounts, and investment accounts and products; and credit and debit cards, residential mortgages, and home equity loans, as well as direct and indirect loans, such as automotive, recreational vehicle, and consumer personal loans. The company's Global Wealth & Investment Management segment offers investment management, brokerage, banking, and trust and retirement products and services; and wealth management solutions, as well as customized solutions, including specialty asset management services. Its Global Banking segment provides lending products and services, including commercial loans, leases, commitment facilities, trade finance, and commercial real estate and asset-based lending; treasury solutions, such as treasury management, foreign exchange, and short-term investing options and merchant services; working capital management solutions; and debt and equity underwriting and distribution, and merger-related and other advisory services. The company's Global Markets segment offers market-making, financing, securities clearing, settlement, and custody services, as well as risk management products using interest rate, equity, credit, currency and commodity derivatives, foreign exchange, fixed-income, and mortgage-related products. As of December 31, 2021, it served approximately 67 million consumer and small business clients with approximately 4,200 retail financial centers; approximately 16,000 ATMs; and digital banking platforms with approximately 41 million active users. The company was founded in 1784 and is based in Charlotte, North Carolina.\""
      ]
     },
     "execution_count": 60,
     "metadata": {},
     "output_type": "execute_result"
    }
   ],
   "source": [
    "dicc['longBusinessSummary']"
   ]
  },
  {
   "cell_type": "code",
   "execution_count": 61,
   "metadata": {},
   "outputs": [
    {
     "data": {
      "text/plain": [
       "3.7704"
      ]
     },
     "execution_count": 61,
     "metadata": {},
     "output_type": "execute_result"
    }
   ],
   "source": [
    "dicc['trailingPegRatio']#METRICA QUE MIDE PORCENTAJE DE GANANCIA EN UN AÑO"
   ]
  },
  {
   "cell_type": "markdown",
   "metadata": {},
   "source": [
    "### Amazon.com, Inc."
   ]
  },
  {
   "cell_type": "code",
   "execution_count": 62,
   "metadata": {},
   "outputs": [
    {
     "name": "stdout",
     "output_type": "stream",
     "text": [
      "[*********************100%***********************]  1 of 1 completed\n"
     ]
    }
   ],
   "source": [
    "import yfinance as yf\n",
    "import finplot as fplt\n",
    "\n",
    "df = yf.download('AMZN',start='2011-01-01', end = '2021-12-31')\n",
    "fplt.candlestick_ochl(df[['Open','Close','High','Low']])\n",
    "fplt.plot(df.Close.rolling(50).mean())\n",
    "fplt.plot(df.Close.rolling(200).mean())\n",
    "fplt.show()"
   ]
  },
  {
   "cell_type": "code",
   "execution_count": 63,
   "metadata": {},
   "outputs": [
    {
     "data": {
      "text/plain": [
       "'Internet Retail'"
      ]
     },
     "execution_count": 63,
     "metadata": {},
     "output_type": "execute_result"
    }
   ],
   "source": [
    "msft = yf.Ticker('AMZN')\n",
    "dicc=msft.info\n",
    "dicc['industry']"
   ]
  },
  {
   "cell_type": "code",
   "execution_count": 64,
   "metadata": {},
   "outputs": [
    {
     "data": {
      "text/plain": [
       "'Amazon.com, Inc. engages in the retail sale of consumer products and subscriptions in North America and internationally. The company operates through three segments: North America, International, and Amazon Web Services (AWS). It sells merchandise and content purchased for resale from third-party sellers through physical and online stores. The company also manufactures and sells electronic devices, including Kindle, Fire tablets, Fire TVs, Rings, and Echo and other devices; provides Kindle Direct Publishing, an online service that allows independent authors and publishers to make their books available in the Kindle Store; and develops and produces media content. In addition, it offers programs that enable sellers to sell their products on its websites, as well as its stores; and programs that allow authors, musicians, filmmakers, Twitch streamers, skill and app developers, and others to publish and sell content. Further, the company provides compute, storage, database, analytics, machine learning, and other services, as well as fulfillment, advertising, publishing, and digital content subscriptions. Additionally, it offers Amazon Prime, a membership program, which provides free shipping of various items; access to streaming of movies and series; and other services. The company serves consumers, sellers, developers, enterprises, and content creators. Amazon.com, Inc. was incorporated in 1994 and is headquartered in Seattle, Washington.'"
      ]
     },
     "execution_count": 64,
     "metadata": {},
     "output_type": "execute_result"
    }
   ],
   "source": [
    "dicc['longBusinessSummary']"
   ]
  },
  {
   "cell_type": "code",
   "execution_count": 124,
   "metadata": {},
   "outputs": [
    {
     "data": {
      "text/plain": [
       "4.2705"
      ]
     },
     "execution_count": 124,
     "metadata": {},
     "output_type": "execute_result"
    }
   ],
   "source": [
    "dicc['trailingPegRatio']#METRICA QUE MIDE PORCENTAJE DE GANANCIA EN UN AÑO"
   ]
  },
  {
   "cell_type": "markdown",
   "metadata": {},
   "source": [
    "### Verizon Communications Inc."
   ]
  },
  {
   "cell_type": "code",
   "execution_count": 65,
   "metadata": {},
   "outputs": [
    {
     "name": "stdout",
     "output_type": "stream",
     "text": [
      "[*********************100%***********************]  1 of 1 completed\n"
     ]
    }
   ],
   "source": [
    "import yfinance as yf\n",
    "import finplot as fplt\n",
    "\n",
    "df = yf.download('VZ',start='2011-01-01', end = '2021-12-31')\n",
    "fplt.candlestick_ochl(df[['Open','Close','High','Low']])\n",
    "fplt.plot(df.Close.rolling(50).mean())\n",
    "fplt.plot(df.Close.rolling(200).mean())\n",
    "fplt.show()"
   ]
  },
  {
   "cell_type": "code",
   "execution_count": 125,
   "metadata": {},
   "outputs": [
    {
     "data": {
      "text/plain": [
       "'Telecom Services'"
      ]
     },
     "execution_count": 125,
     "metadata": {},
     "output_type": "execute_result"
    }
   ],
   "source": [
    "msft = yf.Ticker('VZ')\n",
    "dicc=msft.info\n",
    "dicc['industry']"
   ]
  },
  {
   "cell_type": "code",
   "execution_count": 126,
   "metadata": {},
   "outputs": [
    {
     "data": {
      "text/plain": [
       "\"Verizon Communications Inc., through its subsidiaries, offers communications, technology, information, and entertainment products and services to consumers, businesses, and governmental entities worldwide. Its Consumer segment provides postpaid and prepaid service plans; internet access on notebook computers and tablets; wireless equipment, including smartphones and other handsets; and wireless-enabled internet devices, such as tablets, and other wireless-enabled connected devices comprising smart watches. It also provides residential fixed connectivity solutions, such as internet, video, and voice services; and sells network access to mobile virtual network operators. As of December 31, 2021, it had approximately 115 million wireless retail connections, 7 million wireline broadband connections, and 4 million Fios video connections. The company's Business segment provides network connectivity products, including private networking, private cloud connectivity, virtual and software defined networking, and internet access services; and internet protocol-based voice and video services, unified communications and collaboration tools, and customer contact center solutions. This segment also offers a suite of management and data security services; domestic and global voice and data solutions, such as voice calling, messaging services, conferencing, contact center solutions, and private line and data access networks; customer premises equipment; installation, maintenance, and site services; and Internet of Things products and services. As of December 31, 2021, it had approximately 27 million wireless retail postpaid connections and 477 thousand wireline broadband connections. The company was formerly known as Bell Atlantic Corporation and changed its name to Verizon Communications Inc. in June 2000. Verizon Communications Inc. was incorporated in 1983 and is headquartered in New York, New York.\""
      ]
     },
     "execution_count": 126,
     "metadata": {},
     "output_type": "execute_result"
    }
   ],
   "source": [
    "dicc['longBusinessSummary']"
   ]
  },
  {
   "cell_type": "code",
   "execution_count": 127,
   "metadata": {},
   "outputs": [
    {
     "data": {
      "text/plain": [
       "4.701"
      ]
     },
     "execution_count": 127,
     "metadata": {},
     "output_type": "execute_result"
    }
   ],
   "source": [
    "dicc['trailingPegRatio']#METRICA QUE MIDE PORCENTAJE DE GANANCIA EN UN AÑO"
   ]
  },
  {
   "cell_type": "markdown",
   "metadata": {},
   "source": [
    "### Microsoft Corporation develops"
   ]
  },
  {
   "cell_type": "code",
   "execution_count": 66,
   "metadata": {},
   "outputs": [
    {
     "name": "stdout",
     "output_type": "stream",
     "text": [
      "[*********************100%***********************]  1 of 1 completed\n"
     ]
    }
   ],
   "source": [
    "import yfinance as yf\n",
    "import finplot as fplt\n",
    "\n",
    "df = yf.download('MSFT',start='2011-01-01', end = '2021-12-31')\n",
    "fplt.candlestick_ochl(df[['Open','Close','High','Low']])\n",
    "fplt.plot(df.Close.rolling(50).mean())\n",
    "fplt.plot(df.Close.rolling(200).mean())\n",
    "fplt.show()"
   ]
  },
  {
   "cell_type": "code",
   "execution_count": 67,
   "metadata": {},
   "outputs": [
    {
     "data": {
      "text/plain": [
       "'Software—Infrastructure'"
      ]
     },
     "execution_count": 67,
     "metadata": {},
     "output_type": "execute_result"
    }
   ],
   "source": [
    "msft = yf.Ticker('MSFT')\n",
    "dicc=msft.info\n",
    "dicc['industry']"
   ]
  },
  {
   "cell_type": "code",
   "execution_count": 134,
   "metadata": {},
   "outputs": [
    {
     "data": {
      "text/plain": [
       "'Microsoft Corporation develops, licenses, and supports software, services, devices, and solutions worldwide. Its Productivity and Business Processes segment offers Office, Exchange, SharePoint, Microsoft Teams, Office 365 Security and Compliance, and Skype for Business, as well as related Client Access Licenses (CAL); Skype, Outlook.com, OneDrive, and LinkedIn; and Dynamics 365, a set of cloud-based and on-premises business solutions for organizations and enterprise divisions. Its Intelligent Cloud segment licenses SQL, Windows Servers, Visual Studio, System Center, and related CALs; GitHub that provides a collaboration platform and code hosting service for developers; and Azure, a cloud platform. It also offers support services and Microsoft consulting services to assist customers in developing, deploying, and managing Microsoft server and desktop solutions; and training and certification on Microsoft products. Its More Personal Computing segment provides Windows original equipment manufacturer (OEM) licensing and other non-volume licensing of the Windows operating system; Windows Commercial, such as volume licensing of the Windows operating system, Windows cloud services, and other Windows commercial offerings; patent licensing; Windows Internet of Things; and MSN advertising. It also offers Surface, PC accessories, PCs, tablets, gaming and entertainment consoles, and other devices; Gaming, including Xbox hardware, and Xbox content and services; video games and third-party video game royalties; and Search, including Bing and Microsoft advertising. It sells its products through OEMs, distributors, and resellers; and directly through digital marketplaces, online stores, and retail stores. It has collaborations with Dynatrace, Inc., Morgan Stanley, Micro Focus, WPP plc, ACI Worldwide, Inc., and iCIMS, Inc., as well as strategic relationships with Avaya Holdings Corp. and wejo Limited. Microsoft Corporation was founded in 1975 and is based in Redmond, Washington.'"
      ]
     },
     "execution_count": 134,
     "metadata": {},
     "output_type": "execute_result"
    }
   ],
   "source": [
    "dicc['longBusinessSummary']"
   ]
  },
  {
   "cell_type": "code",
   "execution_count": 135,
   "metadata": {},
   "outputs": [
    {
     "data": {
      "text/plain": [
       "1.7858"
      ]
     },
     "execution_count": 135,
     "metadata": {},
     "output_type": "execute_result"
    }
   ],
   "source": [
    "dicc['trailingPegRatio']#METRICA QUE MIDE PORCENTAJE DE GANANCIA EN UN AÑO"
   ]
  },
  {
   "cell_type": "markdown",
   "metadata": {},
   "source": [
    "### Meta Platforms, Inc."
   ]
  },
  {
   "cell_type": "code",
   "execution_count": 68,
   "metadata": {},
   "outputs": [
    {
     "name": "stdout",
     "output_type": "stream",
     "text": [
      "[*********************100%***********************]  1 of 1 completed\n"
     ]
    }
   ],
   "source": [
    "import yfinance as yf\n",
    "import finplot as fplt\n",
    "\n",
    "df = yf.download('META',start='2011-01-01', end = '2021-12-31')\n",
    "fplt.candlestick_ochl(df[['Open','Close','High','Low']])\n",
    "fplt.plot(df.Close.rolling(50).mean())\n",
    "fplt.plot(df.Close.rolling(200).mean())\n",
    "fplt.show()"
   ]
  },
  {
   "cell_type": "code",
   "execution_count": 2,
   "metadata": {},
   "outputs": [],
   "source": [
    "msft = yf.Ticker('META')\n",
    "dicc=msft.info\n",
    "dicc['industry']"
   ]
  },
  {
   "cell_type": "code",
   "execution_count": 130,
   "metadata": {},
   "outputs": [
    {
     "data": {
      "text/plain": [
       "\"Meta Platforms, Inc. develops products that enable people to connect and share with friends and family through mobile devices, personal computers, virtual reality headsets, wearables, and in-home devices worldwide. It operates in two segments, Family of Apps and Reality Labs. The Family of Apps segment's products include Facebook, which enables people to share, discover, and connect with interests; Instagram, a community for sharing photos, videos, and private messages, as well as feed, stories, reels, video, live, and shops; Messenger, a messaging application for people to connect with friends, family, groups, and businesses across platforms and devices through chat, audio and video calls, and rooms; and WhatsApp, a messaging application that is used by people and businesses to communicate and transact privately. The Reality Labs segment provides augmented and virtual reality related products comprising virtual reality hardware, software, and content that help people feel connected, anytime, and anywhere. The company was formerly known as Facebook, Inc. and changed its name to Meta Platforms, Inc. in October 2021. Meta Platforms, Inc. was incorporated in 2004 and is headquartered in Menlo Park, California.\""
      ]
     },
     "execution_count": 130,
     "metadata": {},
     "output_type": "execute_result"
    }
   ],
   "source": [
    "dicc['longBusinessSummary']"
   ]
  },
  {
   "cell_type": "code",
   "execution_count": 131,
   "metadata": {},
   "outputs": [
    {
     "data": {
      "text/plain": [
       "1.0399"
      ]
     },
     "execution_count": 131,
     "metadata": {},
     "output_type": "execute_result"
    }
   ],
   "source": [
    "dicc['trailingPegRatio']#METRICA QUE MIDE PORCENTAJE DE GANANCIA EN UN AÑO"
   ]
  },
  {
   "cell_type": "code",
   "execution_count": 48,
   "metadata": {},
   "outputs": [
    {
     "name": "stdout",
     "output_type": "stream",
     "text": [
      "[*********************100%***********************]  1 of 1 completed\n"
     ]
    }
   ],
   "source": [
    "import yfinance as yf\n",
    "import finplot as fplt\n",
    "\n",
    "df = yf.download('MTCH',start='2011-01-01', end = '2021-12-31')\n",
    "fplt.candlestick_ochl(df[['Open','Close','High','Low']])\n",
    "fplt.plot(df.Close.rolling(50).mean())\n",
    "fplt.plot(df.Close.rolling(200).mean())\n",
    "fplt.show()"
   ]
  },
  {
   "cell_type": "code",
   "execution_count": 51,
   "metadata": {},
   "outputs": [
    {
     "data": {
      "text/plain": [
       "'Internet Content & Information'"
      ]
     },
     "execution_count": 51,
     "metadata": {},
     "output_type": "execute_result"
    }
   ],
   "source": [
    "msft = yf.Ticker('MTCH')\n",
    "dicc=msft.info\n",
    "dicc['industry']"
   ]
  },
  {
   "cell_type": "code",
   "execution_count": 52,
   "metadata": {},
   "outputs": [
    {
     "data": {
      "text/plain": [
       "\"Match Group, Inc. provides dating products worldwide. The company's portfolio of brands includes Tinder, Match, Meetic, OkCupid, Hinge, Pairs, PlentyOfFish, and OurTime, as well as a various other brands. The company was incorporated in 1986 and is based in Dallas, Texas.\""
      ]
     },
     "execution_count": 52,
     "metadata": {},
     "output_type": "execute_result"
    }
   ],
   "source": [
    "dicc['longBusinessSummary']"
   ]
  },
  {
   "cell_type": "code",
   "execution_count": 53,
   "metadata": {},
   "outputs": [
    {
     "data": {
      "text/plain": [
       "0.4805"
      ]
     },
     "execution_count": 53,
     "metadata": {},
     "output_type": "execute_result"
    }
   ],
   "source": [
    "dicc['trailingPegRatio']"
   ]
  }
 ],
 "metadata": {
  "kernelspec": {
   "display_name": "Python 3.10.4 64-bit",
   "language": "python",
   "name": "python3"
  },
  "language_info": {
   "codemirror_mode": {
    "name": "ipython",
    "version": 3
   },
   "file_extension": ".py",
   "mimetype": "text/x-python",
   "name": "python",
   "nbconvert_exporter": "python",
   "pygments_lexer": "ipython3",
   "version": "3.10.4"
  },
  "orig_nbformat": 4,
  "vscode": {
   "interpreter": {
    "hash": "e108a52cce57cf5916b07b5978582f744c8744d6a3baf99b96a1617e350b1888"
   }
  }
 },
 "nbformat": 4,
 "nbformat_minor": 2
}
