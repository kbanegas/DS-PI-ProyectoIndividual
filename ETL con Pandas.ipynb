{
 "cells": [
  {
   "cell_type": "code",
   "execution_count": 1,
   "metadata": {},
   "outputs": [],
   "source": [
    "import pandas as pd\n",
    "import numpy as np\n",
    "import matplotlib as plt\n"
   ]
  },
  {
   "cell_type": "code",
   "execution_count": 13,
   "metadata": {},
   "outputs": [],
   "source": [
    "\n",
    "path_csv = r'C:\\Users\\Manuel Revelo\\Desktop\\proyecto individual\\DS-PI-ProyectoIndividual\\DS-PI-ProyectoIndividual\\Datasets\\Clientes.csv'\n",
    "dfc= pd.read_csv(path_csv, sep=\";\") #, on_bad_lines='skip')\n"
   ]
  },
  {
   "cell_type": "code",
   "execution_count": 14,
   "metadata": {},
   "outputs": [
    {
     "data": {
      "text/plain": [
       "(2672, 10)"
      ]
     },
     "execution_count": 14,
     "metadata": {},
     "output_type": "execute_result"
    }
   ],
   "source": [
    "dfc.shape"
   ]
  },
  {
   "cell_type": "code",
   "execution_count": 15,
   "metadata": {},
   "outputs": [
    {
     "data": {
      "text/html": [
       "<div>\n",
       "<style scoped>\n",
       "    .dataframe tbody tr th:only-of-type {\n",
       "        vertical-align: middle;\n",
       "    }\n",
       "\n",
       "    .dataframe tbody tr th {\n",
       "        vertical-align: top;\n",
       "    }\n",
       "\n",
       "    .dataframe thead th {\n",
       "        text-align: right;\n",
       "    }\n",
       "</style>\n",
       "<table border=\"1\" class=\"dataframe\">\n",
       "  <thead>\n",
       "    <tr style=\"text-align: right;\">\n",
       "      <th></th>\n",
       "      <th>ID</th>\n",
       "      <th>Provincia</th>\n",
       "      <th>Nombre_y_Apellido</th>\n",
       "      <th>Domicilio</th>\n",
       "      <th>Telefono</th>\n",
       "      <th>Edad</th>\n",
       "      <th>Localidad</th>\n",
       "      <th>X</th>\n",
       "      <th>Y</th>\n",
       "      <th>col10</th>\n",
       "    </tr>\n",
       "  </thead>\n",
       "  <tbody>\n",
       "    <tr>\n",
       "      <th>0</th>\n",
       "      <td>1</td>\n",
       "      <td>Buenos Aires</td>\n",
       "      <td>HEBER JONI SANTANA</td>\n",
       "      <td>LAS HERAS Y BAT. 24 DE FEBRERO 4150  RINCON DE...</td>\n",
       "      <td>42-5161</td>\n",
       "      <td>58</td>\n",
       "      <td>LOMA VERDE</td>\n",
       "      <td>-58,81850307</td>\n",
       "      <td>-34,30997088</td>\n",
       "      <td>NaN</td>\n",
       "    </tr>\n",
       "    <tr>\n",
       "      <th>1</th>\n",
       "      <td>2</td>\n",
       "      <td>Buenos Aires</td>\n",
       "      <td>ANA SAPRIZA</td>\n",
       "      <td>PUEYRREDON Y DUPUY RUTA3 KM 52.500 S/N  BÂº LO...</td>\n",
       "      <td>49-7578</td>\n",
       "      <td>61</td>\n",
       "      <td>SANTA ROSA</td>\n",
       "      <td>-58,73073751</td>\n",
       "      <td>-34,93908311</td>\n",
       "      <td>NaN</td>\n",
       "    </tr>\n",
       "    <tr>\n",
       "      <th>2</th>\n",
       "      <td>3</td>\n",
       "      <td>Buenos Aires</td>\n",
       "      <td>FERNANDO LUIS SARALEGUI</td>\n",
       "      <td>CALDERON DE LA BARCA 498</td>\n",
       "      <td>49-3435</td>\n",
       "      <td>15</td>\n",
       "      <td>TORRES</td>\n",
       "      <td>-59,12794068</td>\n",
       "      <td>-34,43082199</td>\n",
       "      <td>NaN</td>\n",
       "    </tr>\n",
       "    <tr>\n",
       "      <th>3</th>\n",
       "      <td>4</td>\n",
       "      <td>Buenos Aires</td>\n",
       "      <td>MANUELA SARASOLA</td>\n",
       "      <td>RUTA 36 KM 45,500 S/N  EL PELIGRO</td>\n",
       "      <td>49-2883</td>\n",
       "      <td>29</td>\n",
       "      <td>RUTA SOL</td>\n",
       "      <td>-58,14393954</td>\n",
       "      <td>-34,92052706</td>\n",
       "      <td>NaN</td>\n",
       "    </tr>\n",
       "    <tr>\n",
       "      <th>4</th>\n",
       "      <td>5</td>\n",
       "      <td>Buenos Aires</td>\n",
       "      <td>MARIO RAÚL SARASUA</td>\n",
       "      <td>492 Y 186 S/N  COLONIA URQUIZA</td>\n",
       "      <td>491-4608</td>\n",
       "      <td>34</td>\n",
       "      <td>JOSE MELCHOR ROMERO</td>\n",
       "      <td>-58,089381</td>\n",
       "      <td>-34,9444471</td>\n",
       "      <td>NaN</td>\n",
       "    </tr>\n",
       "  </tbody>\n",
       "</table>\n",
       "</div>"
      ],
      "text/plain": [
       "   ID     Provincia        Nombre_y_Apellido  \\\n",
       "0   1  Buenos Aires       HEBER JONI SANTANA   \n",
       "1   2  Buenos Aires              ANA SAPRIZA   \n",
       "2   3  Buenos Aires  FERNANDO LUIS SARALEGUI   \n",
       "3   4  Buenos Aires         MANUELA SARASOLA   \n",
       "4   5  Buenos Aires       MARIO RAÚL SARASUA   \n",
       "\n",
       "                                           Domicilio  Telefono  Edad  \\\n",
       "0  LAS HERAS Y BAT. 24 DE FEBRERO 4150  RINCON DE...   42-5161    58   \n",
       "1  PUEYRREDON Y DUPUY RUTA3 KM 52.500 S/N  BÂº LO...   49-7578    61   \n",
       "2                           CALDERON DE LA BARCA 498   49-3435    15   \n",
       "3                  RUTA 36 KM 45,500 S/N  EL PELIGRO   49-2883    29   \n",
       "4                     492 Y 186 S/N  COLONIA URQUIZA  491-4608    34   \n",
       "\n",
       "             Localidad             X             Y  col10  \n",
       "0           LOMA VERDE  -58,81850307  -34,30997088    NaN  \n",
       "1           SANTA ROSA  -58,73073751  -34,93908311    NaN  \n",
       "2               TORRES  -59,12794068  -34,43082199    NaN  \n",
       "3             RUTA SOL  -58,14393954  -34,92052706    NaN  \n",
       "4  JOSE MELCHOR ROMERO    -58,089381   -34,9444471    NaN  "
      ]
     },
     "execution_count": 15,
     "metadata": {},
     "output_type": "execute_result"
    }
   ],
   "source": [
    "dfc.head(5)"
   ]
  },
  {
   "cell_type": "code",
   "execution_count": 77,
   "metadata": {},
   "outputs": [
    {
     "data": {
      "text/html": [
       "<div>\n",
       "<style scoped>\n",
       "    .dataframe tbody tr th:only-of-type {\n",
       "        vertical-align: middle;\n",
       "    }\n",
       "\n",
       "    .dataframe tbody tr th {\n",
       "        vertical-align: top;\n",
       "    }\n",
       "\n",
       "    .dataframe thead th {\n",
       "        text-align: right;\n",
       "    }\n",
       "</style>\n",
       "<table border=\"1\" class=\"dataframe\">\n",
       "  <thead>\n",
       "    <tr style=\"text-align: right;\">\n",
       "      <th></th>\n",
       "      <th>ID</th>\n",
       "      <th>Edad</th>\n",
       "    </tr>\n",
       "  </thead>\n",
       "  <tbody>\n",
       "    <tr>\n",
       "      <th>count</th>\n",
       "      <td>2672.000000</td>\n",
       "      <td>2672.000000</td>\n",
       "    </tr>\n",
       "    <tr>\n",
       "      <th>mean</th>\n",
       "      <td>1336.500000</td>\n",
       "      <td>40.203967</td>\n",
       "    </tr>\n",
       "    <tr>\n",
       "      <th>std</th>\n",
       "      <td>771.484284</td>\n",
       "      <td>14.611554</td>\n",
       "    </tr>\n",
       "    <tr>\n",
       "      <th>min</th>\n",
       "      <td>1.000000</td>\n",
       "      <td>15.000000</td>\n",
       "    </tr>\n",
       "    <tr>\n",
       "      <th>25%</th>\n",
       "      <td>668.750000</td>\n",
       "      <td>28.000000</td>\n",
       "    </tr>\n",
       "    <tr>\n",
       "      <th>50%</th>\n",
       "      <td>1336.500000</td>\n",
       "      <td>41.000000</td>\n",
       "    </tr>\n",
       "    <tr>\n",
       "      <th>75%</th>\n",
       "      <td>2004.250000</td>\n",
       "      <td>53.000000</td>\n",
       "    </tr>\n",
       "    <tr>\n",
       "      <th>max</th>\n",
       "      <td>2672.000000</td>\n",
       "      <td>65.000000</td>\n",
       "    </tr>\n",
       "  </tbody>\n",
       "</table>\n",
       "</div>"
      ],
      "text/plain": [
       "                ID         Edad\n",
       "count  2672.000000  2672.000000\n",
       "mean   1336.500000    40.203967\n",
       "std     771.484284    14.611554\n",
       "min       1.000000    15.000000\n",
       "25%     668.750000    28.000000\n",
       "50%    1336.500000    41.000000\n",
       "75%    2004.250000    53.000000\n",
       "max    2672.000000    65.000000"
      ]
     },
     "execution_count": 77,
     "metadata": {},
     "output_type": "execute_result"
    }
   ],
   "source": [
    "dfc.describe()"
   ]
  },
  {
   "cell_type": "code",
   "execution_count": 80,
   "metadata": {},
   "outputs": [
    {
     "name": "stdout",
     "output_type": "stream",
     "text": [
      "<class 'pandas.core.frame.DataFrame'>\n",
      "RangeIndex: 2672 entries, 0 to 2671\n",
      "Data columns (total 9 columns):\n",
      " #   Column             Non-Null Count  Dtype \n",
      "---  ------             --------------  ----- \n",
      " 0   ID                 2672 non-null   int64 \n",
      " 1   Provincia          2647 non-null   object\n",
      " 2   Nombre_y_Apellido  2648 non-null   object\n",
      " 3   Domicilio          2630 non-null   object\n",
      " 4   Telefono           2637 non-null   object\n",
      " 5   Edad               2672 non-null   int64 \n",
      " 6   Localidad          2647 non-null   object\n",
      " 7   X                  2616 non-null   object\n",
      " 8   Y                  2618 non-null   object\n",
      "dtypes: int64(2), object(7)\n",
      "memory usage: 188.0+ KB\n"
     ]
    }
   ],
   "source": [
    "dfc.info()"
   ]
  },
  {
   "cell_type": "code",
   "execution_count": 62,
   "metadata": {},
   "outputs": [
    {
     "data": {
      "text/plain": [
       "261"
      ]
     },
     "execution_count": 62,
     "metadata": {},
     "output_type": "execute_result"
    }
   ],
   "source": [
    "dfc.isnull().sum().sum()"
   ]
  },
  {
   "cell_type": "code",
   "execution_count": 17,
   "metadata": {},
   "outputs": [],
   "source": [
    "dfc.drop(['col10'], axis=1, inplace=True)"
   ]
  },
  {
   "cell_type": "code",
   "execution_count": 18,
   "metadata": {},
   "outputs": [
    {
     "name": "stdout",
     "output_type": "stream",
     "text": [
      "<class 'pandas.core.frame.DataFrame'>\n",
      "RangeIndex: 2672 entries, 0 to 2671\n",
      "Data columns (total 9 columns):\n",
      " #   Column             Non-Null Count  Dtype \n",
      "---  ------             --------------  ----- \n",
      " 0   ID                 2672 non-null   int64 \n",
      " 1   Provincia          2647 non-null   object\n",
      " 2   Nombre_y_Apellido  2648 non-null   object\n",
      " 3   Domicilio          2630 non-null   object\n",
      " 4   Telefono           2637 non-null   object\n",
      " 5   Edad               2672 non-null   int64 \n",
      " 6   Localidad          2647 non-null   object\n",
      " 7   X                  2616 non-null   object\n",
      " 8   Y                  2618 non-null   object\n",
      "dtypes: int64(2), object(7)\n",
      "memory usage: 188.0+ KB\n"
     ]
    }
   ],
   "source": [
    "dfc.info()"
   ]
  },
  {
   "cell_type": "code",
   "execution_count": 19,
   "metadata": {},
   "outputs": [],
   "source": [
    "path_csv1 = r'C:\\Users\\Manuel Revelo\\Desktop\\proyecto individual\\DS-PI-ProyectoIndividual\\DS-PI-ProyectoIndividual\\Datasets\\Clientes_v2.csv'\n",
    "dfC2= pd.read_csv(path_csv1, sep=\";\") #, on_bad_lines='skip')\n"
   ]
  },
  {
   "cell_type": "code",
   "execution_count": 20,
   "metadata": {},
   "outputs": [
    {
     "data": {
      "text/html": [
       "<div>\n",
       "<style scoped>\n",
       "    .dataframe tbody tr th:only-of-type {\n",
       "        vertical-align: middle;\n",
       "    }\n",
       "\n",
       "    .dataframe tbody tr th {\n",
       "        vertical-align: top;\n",
       "    }\n",
       "\n",
       "    .dataframe thead th {\n",
       "        text-align: right;\n",
       "    }\n",
       "</style>\n",
       "<table border=\"1\" class=\"dataframe\">\n",
       "  <thead>\n",
       "    <tr style=\"text-align: right;\">\n",
       "      <th></th>\n",
       "      <th>ID</th>\n",
       "      <th>Provincia</th>\n",
       "      <th>Nombre_y_Apellido</th>\n",
       "      <th>Domicilio</th>\n",
       "      <th>Telefono</th>\n",
       "      <th>Edad</th>\n",
       "      <th>Localidad</th>\n",
       "      <th>X</th>\n",
       "      <th>Y</th>\n",
       "      <th>col10</th>\n",
       "    </tr>\n",
       "  </thead>\n",
       "  <tbody>\n",
       "    <tr>\n",
       "      <th>0</th>\n",
       "      <td>2673</td>\n",
       "      <td>Córdoba</td>\n",
       "      <td>LUISA JACQUELINE RODRIGUEZ</td>\n",
       "      <td>CALLE PUBLICA S/NÂº  CNO.PAJAS BLANCAS KM.22 P...</td>\n",
       "      <td>NaN</td>\n",
       "      <td>39</td>\n",
       "      <td>PAJAS BLANCAS</td>\n",
       "      <td>-64,27472312</td>\n",
       "      <td>-31,21598674</td>\n",
       "      <td>NaN</td>\n",
       "    </tr>\n",
       "    <tr>\n",
       "      <th>1</th>\n",
       "      <td>2674</td>\n",
       "      <td>NaN</td>\n",
       "      <td>ALFREDO ALBERTO RUIZ</td>\n",
       "      <td>CALLE PUBLICA S/NÂº  LA PUERTA P/RUTA PROV.74A</td>\n",
       "      <td>15647073</td>\n",
       "      <td>54</td>\n",
       "      <td>NaN</td>\n",
       "      <td>-64,06718896</td>\n",
       "      <td>-31,16495027</td>\n",
       "      <td>NaN</td>\n",
       "    </tr>\n",
       "    <tr>\n",
       "      <th>2</th>\n",
       "      <td>2675</td>\n",
       "      <td>Córdoba</td>\n",
       "      <td>FLAVIO DIAZ</td>\n",
       "      <td>CALLE PUBLICA S/NÂº  EL ALGODONAL P/AGUA DE ORO</td>\n",
       "      <td>493844</td>\n",
       "      <td>39</td>\n",
       "      <td>AGUA DE ORO</td>\n",
       "      <td>-64,31021262</td>\n",
       "      <td>-31,06210188</td>\n",
       "      <td>NaN</td>\n",
       "    </tr>\n",
       "    <tr>\n",
       "      <th>3</th>\n",
       "      <td>2676</td>\n",
       "      <td>Córdoba</td>\n",
       "      <td>WALTER RUIZ</td>\n",
       "      <td>CALLE PUBLICA S/NÂº  RUTA A 74 KM 27</td>\n",
       "      <td>4902949</td>\n",
       "      <td>15</td>\n",
       "      <td>COLONIA TIROLESA</td>\n",
       "      <td>-64,06759299</td>\n",
       "      <td>-31,22827701</td>\n",
       "      <td>NaN</td>\n",
       "    </tr>\n",
       "    <tr>\n",
       "      <th>4</th>\n",
       "      <td>2677</td>\n",
       "      <td>Córdoba</td>\n",
       "      <td>MARCELA ROGALO</td>\n",
       "      <td>CALLE PUBLICA   CNO. CHACRA DE LA MERCED - KM.18</td>\n",
       "      <td>4918549DIR</td>\n",
       "      <td>46</td>\n",
       "      <td>VILLA CORAZON DE MARIA</td>\n",
       "      <td>-63,9973238</td>\n",
       "      <td>-31,44517527</td>\n",
       "      <td>NaN</td>\n",
       "    </tr>\n",
       "  </tbody>\n",
       "</table>\n",
       "</div>"
      ],
      "text/plain": [
       "     ID Provincia           Nombre_y_Apellido  \\\n",
       "0  2673   Córdoba  LUISA JACQUELINE RODRIGUEZ   \n",
       "1  2674       NaN        ALFREDO ALBERTO RUIZ   \n",
       "2  2675   Córdoba                 FLAVIO DIAZ   \n",
       "3  2676   Córdoba                 WALTER RUIZ   \n",
       "4  2677   Córdoba              MARCELA ROGALO   \n",
       "\n",
       "                                           Domicilio    Telefono  Edad  \\\n",
       "0  CALLE PUBLICA S/NÂº  CNO.PAJAS BLANCAS KM.22 P...         NaN    39   \n",
       "1     CALLE PUBLICA S/NÂº  LA PUERTA P/RUTA PROV.74A    15647073    54   \n",
       "2    CALLE PUBLICA S/NÂº  EL ALGODONAL P/AGUA DE ORO      493844    39   \n",
       "3               CALLE PUBLICA S/NÂº  RUTA A 74 KM 27     4902949    15   \n",
       "4   CALLE PUBLICA   CNO. CHACRA DE LA MERCED - KM.18  4918549DIR    46   \n",
       "\n",
       "                Localidad             X             Y  col10  \n",
       "0           PAJAS BLANCAS  -64,27472312  -31,21598674    NaN  \n",
       "1                     NaN  -64,06718896  -31,16495027    NaN  \n",
       "2             AGUA DE ORO  -64,31021262  -31,06210188    NaN  \n",
       "3        COLONIA TIROLESA  -64,06759299  -31,22827701    NaN  \n",
       "4  VILLA CORAZON DE MARIA   -63,9973238  -31,44517527    NaN  "
      ]
     },
     "execution_count": 20,
     "metadata": {},
     "output_type": "execute_result"
    }
   ],
   "source": [
    "dfC2.head(5)"
   ]
  },
  {
   "cell_type": "code",
   "execution_count": 12,
   "metadata": {},
   "outputs": [
    {
     "data": {
      "text/html": [
       "<div>\n",
       "<style scoped>\n",
       "    .dataframe tbody tr th:only-of-type {\n",
       "        vertical-align: middle;\n",
       "    }\n",
       "\n",
       "    .dataframe tbody tr th {\n",
       "        vertical-align: top;\n",
       "    }\n",
       "\n",
       "    .dataframe thead th {\n",
       "        text-align: right;\n",
       "    }\n",
       "</style>\n",
       "<table border=\"1\" class=\"dataframe\">\n",
       "  <thead>\n",
       "    <tr style=\"text-align: right;\">\n",
       "      <th></th>\n",
       "      <th>ID</th>\n",
       "      <th>Edad</th>\n",
       "      <th>col10</th>\n",
       "    </tr>\n",
       "  </thead>\n",
       "  <tbody>\n",
       "    <tr>\n",
       "      <th>count</th>\n",
       "      <td>735.000000</td>\n",
       "      <td>735.000000</td>\n",
       "      <td>0.0</td>\n",
       "    </tr>\n",
       "    <tr>\n",
       "      <th>mean</th>\n",
       "      <td>3040.000000</td>\n",
       "      <td>40.976871</td>\n",
       "      <td>NaN</td>\n",
       "    </tr>\n",
       "    <tr>\n",
       "      <th>std</th>\n",
       "      <td>212.320512</td>\n",
       "      <td>14.456861</td>\n",
       "      <td>NaN</td>\n",
       "    </tr>\n",
       "    <tr>\n",
       "      <th>min</th>\n",
       "      <td>2673.000000</td>\n",
       "      <td>15.000000</td>\n",
       "      <td>NaN</td>\n",
       "    </tr>\n",
       "    <tr>\n",
       "      <th>25%</th>\n",
       "      <td>2856.500000</td>\n",
       "      <td>29.000000</td>\n",
       "      <td>NaN</td>\n",
       "    </tr>\n",
       "    <tr>\n",
       "      <th>50%</th>\n",
       "      <td>3040.000000</td>\n",
       "      <td>42.000000</td>\n",
       "      <td>NaN</td>\n",
       "    </tr>\n",
       "    <tr>\n",
       "      <th>75%</th>\n",
       "      <td>3223.500000</td>\n",
       "      <td>54.000000</td>\n",
       "      <td>NaN</td>\n",
       "    </tr>\n",
       "    <tr>\n",
       "      <th>max</th>\n",
       "      <td>3407.000000</td>\n",
       "      <td>65.000000</td>\n",
       "      <td>NaN</td>\n",
       "    </tr>\n",
       "  </tbody>\n",
       "</table>\n",
       "</div>"
      ],
      "text/plain": [
       "                ID        Edad  col10\n",
       "count   735.000000  735.000000    0.0\n",
       "mean   3040.000000   40.976871    NaN\n",
       "std     212.320512   14.456861    NaN\n",
       "min    2673.000000   15.000000    NaN\n",
       "25%    2856.500000   29.000000    NaN\n",
       "50%    3040.000000   42.000000    NaN\n",
       "75%    3223.500000   54.000000    NaN\n",
       "max    3407.000000   65.000000    NaN"
      ]
     },
     "execution_count": 12,
     "metadata": {},
     "output_type": "execute_result"
    }
   ],
   "source": [
    "dfC2.describe()"
   ]
  },
  {
   "cell_type": "code",
   "execution_count": 97,
   "metadata": {},
   "outputs": [
    {
     "data": {
      "text/plain": [
       "(735, 9)"
      ]
     },
     "execution_count": 97,
     "metadata": {},
     "output_type": "execute_result"
    }
   ],
   "source": [
    "dfC2.shape"
   ]
  },
  {
   "cell_type": "code",
   "execution_count": 98,
   "metadata": {},
   "outputs": [
    {
     "name": "stdout",
     "output_type": "stream",
     "text": [
      "<class 'pandas.core.frame.DataFrame'>\n",
      "RangeIndex: 735 entries, 0 to 734\n",
      "Data columns (total 9 columns):\n",
      " #   Column             Non-Null Count  Dtype \n",
      "---  ------             --------------  ----- \n",
      " 0   ID                 735 non-null    int64 \n",
      " 1   Provincia          729 non-null    object\n",
      " 2   Nombre_y_Apellido  713 non-null    object\n",
      " 3   Domicilio          729 non-null    object\n",
      " 4   Telefono           680 non-null    object\n",
      " 5   Edad               735 non-null    int64 \n",
      " 6   Localidad          728 non-null    object\n",
      " 7   X                  729 non-null    object\n",
      " 8   Y                  729 non-null    object\n",
      "dtypes: int64(2), object(7)\n",
      "memory usage: 51.8+ KB\n"
     ]
    }
   ],
   "source": [
    "dfC2.info()"
   ]
  },
  {
   "cell_type": "code",
   "execution_count": 24,
   "metadata": {},
   "outputs": [
    {
     "data": {
      "text/plain": [
       "ID                    0\n",
       "Provincia             6\n",
       "Nombre_y_Apellido    22\n",
       "Domicilio             6\n",
       "Telefono             55\n",
       "Edad                  0\n",
       "Localidad             7\n",
       "X                     6\n",
       "Y                     6\n",
       "dtype: int64"
      ]
     },
     "execution_count": 24,
     "metadata": {},
     "output_type": "execute_result"
    }
   ],
   "source": [
    "dfC2.isnull().sum()"
   ]
  },
  {
   "cell_type": "code",
   "execution_count": 25,
   "metadata": {},
   "outputs": [
    {
     "ename": "KeyError",
     "evalue": "\"['col10'] not found in axis\"",
     "output_type": "error",
     "traceback": [
      "\u001b[1;31m---------------------------------------------------------------------------\u001b[0m",
      "\u001b[1;31mKeyError\u001b[0m                                  Traceback (most recent call last)",
      "\u001b[1;32mc:\\Users\\Manuel Revelo\\Desktop\\proyecto individual\\DS-PI-ProyectoIndividual\\DS-PI-ProyectoIndividual\\ETL con Pandas.ipynb Cell 16'\u001b[0m in \u001b[0;36m<cell line: 1>\u001b[1;34m()\u001b[0m\n\u001b[1;32m----> <a href='vscode-notebook-cell:/c%3A/Users/Manuel%20Revelo/Desktop/proyecto%20individual/DS-PI-ProyectoIndividual/DS-PI-ProyectoIndividual/ETL%20con%20Pandas.ipynb#ch0000015?line=0'>1</a>\u001b[0m dfC2\u001b[39m=\u001b[39mdfC2\u001b[39m.\u001b[39;49mdrop([\u001b[39m'\u001b[39;49m\u001b[39mcol10\u001b[39;49m\u001b[39m'\u001b[39;49m], axis\u001b[39m=\u001b[39;49m\u001b[39m1\u001b[39;49m)\n",
      "File \u001b[1;32mc:\\Users\\Manuel Revelo\\AppData\\Local\\Programs\\Python\\Python310\\lib\\site-packages\\pandas\\util\\_decorators.py:311\u001b[0m, in \u001b[0;36mdeprecate_nonkeyword_arguments.<locals>.decorate.<locals>.wrapper\u001b[1;34m(*args, **kwargs)\u001b[0m\n\u001b[0;32m    <a href='file:///c%3A/Users/Manuel%20Revelo/AppData/Local/Programs/Python/Python310/lib/site-packages/pandas/util/_decorators.py?line=304'>305</a>\u001b[0m \u001b[39mif\u001b[39;00m \u001b[39mlen\u001b[39m(args) \u001b[39m>\u001b[39m num_allow_args:\n\u001b[0;32m    <a href='file:///c%3A/Users/Manuel%20Revelo/AppData/Local/Programs/Python/Python310/lib/site-packages/pandas/util/_decorators.py?line=305'>306</a>\u001b[0m     warnings\u001b[39m.\u001b[39mwarn(\n\u001b[0;32m    <a href='file:///c%3A/Users/Manuel%20Revelo/AppData/Local/Programs/Python/Python310/lib/site-packages/pandas/util/_decorators.py?line=306'>307</a>\u001b[0m         msg\u001b[39m.\u001b[39mformat(arguments\u001b[39m=\u001b[39marguments),\n\u001b[0;32m    <a href='file:///c%3A/Users/Manuel%20Revelo/AppData/Local/Programs/Python/Python310/lib/site-packages/pandas/util/_decorators.py?line=307'>308</a>\u001b[0m         \u001b[39mFutureWarning\u001b[39;00m,\n\u001b[0;32m    <a href='file:///c%3A/Users/Manuel%20Revelo/AppData/Local/Programs/Python/Python310/lib/site-packages/pandas/util/_decorators.py?line=308'>309</a>\u001b[0m         stacklevel\u001b[39m=\u001b[39mstacklevel,\n\u001b[0;32m    <a href='file:///c%3A/Users/Manuel%20Revelo/AppData/Local/Programs/Python/Python310/lib/site-packages/pandas/util/_decorators.py?line=309'>310</a>\u001b[0m     )\n\u001b[1;32m--> <a href='file:///c%3A/Users/Manuel%20Revelo/AppData/Local/Programs/Python/Python310/lib/site-packages/pandas/util/_decorators.py?line=310'>311</a>\u001b[0m \u001b[39mreturn\u001b[39;00m func(\u001b[39m*\u001b[39margs, \u001b[39m*\u001b[39m\u001b[39m*\u001b[39mkwargs)\n",
      "File \u001b[1;32mc:\\Users\\Manuel Revelo\\AppData\\Local\\Programs\\Python\\Python310\\lib\\site-packages\\pandas\\core\\frame.py:4954\u001b[0m, in \u001b[0;36mDataFrame.drop\u001b[1;34m(self, labels, axis, index, columns, level, inplace, errors)\u001b[0m\n\u001b[0;32m   <a href='file:///c%3A/Users/Manuel%20Revelo/AppData/Local/Programs/Python/Python310/lib/site-packages/pandas/core/frame.py?line=4805'>4806</a>\u001b[0m \u001b[39m@deprecate_nonkeyword_arguments\u001b[39m(version\u001b[39m=\u001b[39m\u001b[39mNone\u001b[39;00m, allowed_args\u001b[39m=\u001b[39m[\u001b[39m\"\u001b[39m\u001b[39mself\u001b[39m\u001b[39m\"\u001b[39m, \u001b[39m\"\u001b[39m\u001b[39mlabels\u001b[39m\u001b[39m\"\u001b[39m])\n\u001b[0;32m   <a href='file:///c%3A/Users/Manuel%20Revelo/AppData/Local/Programs/Python/Python310/lib/site-packages/pandas/core/frame.py?line=4806'>4807</a>\u001b[0m \u001b[39mdef\u001b[39;00m \u001b[39mdrop\u001b[39m(\n\u001b[0;32m   <a href='file:///c%3A/Users/Manuel%20Revelo/AppData/Local/Programs/Python/Python310/lib/site-packages/pandas/core/frame.py?line=4807'>4808</a>\u001b[0m     \u001b[39mself\u001b[39m,\n\u001b[1;32m   (...)\u001b[0m\n\u001b[0;32m   <a href='file:///c%3A/Users/Manuel%20Revelo/AppData/Local/Programs/Python/Python310/lib/site-packages/pandas/core/frame.py?line=4814'>4815</a>\u001b[0m     errors: \u001b[39mstr\u001b[39m \u001b[39m=\u001b[39m \u001b[39m\"\u001b[39m\u001b[39mraise\u001b[39m\u001b[39m\"\u001b[39m,\n\u001b[0;32m   <a href='file:///c%3A/Users/Manuel%20Revelo/AppData/Local/Programs/Python/Python310/lib/site-packages/pandas/core/frame.py?line=4815'>4816</a>\u001b[0m ):\n\u001b[0;32m   <a href='file:///c%3A/Users/Manuel%20Revelo/AppData/Local/Programs/Python/Python310/lib/site-packages/pandas/core/frame.py?line=4816'>4817</a>\u001b[0m     \u001b[39m\"\"\"\u001b[39;00m\n\u001b[0;32m   <a href='file:///c%3A/Users/Manuel%20Revelo/AppData/Local/Programs/Python/Python310/lib/site-packages/pandas/core/frame.py?line=4817'>4818</a>\u001b[0m \u001b[39m    Drop specified labels from rows or columns.\u001b[39;00m\n\u001b[0;32m   <a href='file:///c%3A/Users/Manuel%20Revelo/AppData/Local/Programs/Python/Python310/lib/site-packages/pandas/core/frame.py?line=4818'>4819</a>\u001b[0m \n\u001b[1;32m   (...)\u001b[0m\n\u001b[0;32m   <a href='file:///c%3A/Users/Manuel%20Revelo/AppData/Local/Programs/Python/Python310/lib/site-packages/pandas/core/frame.py?line=4951'>4952</a>\u001b[0m \u001b[39m            weight  1.0     0.8\u001b[39;00m\n\u001b[0;32m   <a href='file:///c%3A/Users/Manuel%20Revelo/AppData/Local/Programs/Python/Python310/lib/site-packages/pandas/core/frame.py?line=4952'>4953</a>\u001b[0m \u001b[39m    \"\"\"\u001b[39;00m\n\u001b[1;32m-> <a href='file:///c%3A/Users/Manuel%20Revelo/AppData/Local/Programs/Python/Python310/lib/site-packages/pandas/core/frame.py?line=4953'>4954</a>\u001b[0m     \u001b[39mreturn\u001b[39;00m \u001b[39msuper\u001b[39;49m()\u001b[39m.\u001b[39;49mdrop(\n\u001b[0;32m   <a href='file:///c%3A/Users/Manuel%20Revelo/AppData/Local/Programs/Python/Python310/lib/site-packages/pandas/core/frame.py?line=4954'>4955</a>\u001b[0m         labels\u001b[39m=\u001b[39;49mlabels,\n\u001b[0;32m   <a href='file:///c%3A/Users/Manuel%20Revelo/AppData/Local/Programs/Python/Python310/lib/site-packages/pandas/core/frame.py?line=4955'>4956</a>\u001b[0m         axis\u001b[39m=\u001b[39;49maxis,\n\u001b[0;32m   <a href='file:///c%3A/Users/Manuel%20Revelo/AppData/Local/Programs/Python/Python310/lib/site-packages/pandas/core/frame.py?line=4956'>4957</a>\u001b[0m         index\u001b[39m=\u001b[39;49mindex,\n\u001b[0;32m   <a href='file:///c%3A/Users/Manuel%20Revelo/AppData/Local/Programs/Python/Python310/lib/site-packages/pandas/core/frame.py?line=4957'>4958</a>\u001b[0m         columns\u001b[39m=\u001b[39;49mcolumns,\n\u001b[0;32m   <a href='file:///c%3A/Users/Manuel%20Revelo/AppData/Local/Programs/Python/Python310/lib/site-packages/pandas/core/frame.py?line=4958'>4959</a>\u001b[0m         level\u001b[39m=\u001b[39;49mlevel,\n\u001b[0;32m   <a href='file:///c%3A/Users/Manuel%20Revelo/AppData/Local/Programs/Python/Python310/lib/site-packages/pandas/core/frame.py?line=4959'>4960</a>\u001b[0m         inplace\u001b[39m=\u001b[39;49minplace,\n\u001b[0;32m   <a href='file:///c%3A/Users/Manuel%20Revelo/AppData/Local/Programs/Python/Python310/lib/site-packages/pandas/core/frame.py?line=4960'>4961</a>\u001b[0m         errors\u001b[39m=\u001b[39;49merrors,\n\u001b[0;32m   <a href='file:///c%3A/Users/Manuel%20Revelo/AppData/Local/Programs/Python/Python310/lib/site-packages/pandas/core/frame.py?line=4961'>4962</a>\u001b[0m     )\n",
      "File \u001b[1;32mc:\\Users\\Manuel Revelo\\AppData\\Local\\Programs\\Python\\Python310\\lib\\site-packages\\pandas\\core\\generic.py:4267\u001b[0m, in \u001b[0;36mNDFrame.drop\u001b[1;34m(self, labels, axis, index, columns, level, inplace, errors)\u001b[0m\n\u001b[0;32m   <a href='file:///c%3A/Users/Manuel%20Revelo/AppData/Local/Programs/Python/Python310/lib/site-packages/pandas/core/generic.py?line=4264'>4265</a>\u001b[0m \u001b[39mfor\u001b[39;00m axis, labels \u001b[39min\u001b[39;00m axes\u001b[39m.\u001b[39mitems():\n\u001b[0;32m   <a href='file:///c%3A/Users/Manuel%20Revelo/AppData/Local/Programs/Python/Python310/lib/site-packages/pandas/core/generic.py?line=4265'>4266</a>\u001b[0m     \u001b[39mif\u001b[39;00m labels \u001b[39mis\u001b[39;00m \u001b[39mnot\u001b[39;00m \u001b[39mNone\u001b[39;00m:\n\u001b[1;32m-> <a href='file:///c%3A/Users/Manuel%20Revelo/AppData/Local/Programs/Python/Python310/lib/site-packages/pandas/core/generic.py?line=4266'>4267</a>\u001b[0m         obj \u001b[39m=\u001b[39m obj\u001b[39m.\u001b[39;49m_drop_axis(labels, axis, level\u001b[39m=\u001b[39;49mlevel, errors\u001b[39m=\u001b[39;49merrors)\n\u001b[0;32m   <a href='file:///c%3A/Users/Manuel%20Revelo/AppData/Local/Programs/Python/Python310/lib/site-packages/pandas/core/generic.py?line=4268'>4269</a>\u001b[0m \u001b[39mif\u001b[39;00m inplace:\n\u001b[0;32m   <a href='file:///c%3A/Users/Manuel%20Revelo/AppData/Local/Programs/Python/Python310/lib/site-packages/pandas/core/generic.py?line=4269'>4270</a>\u001b[0m     \u001b[39mself\u001b[39m\u001b[39m.\u001b[39m_update_inplace(obj)\n",
      "File \u001b[1;32mc:\\Users\\Manuel Revelo\\AppData\\Local\\Programs\\Python\\Python310\\lib\\site-packages\\pandas\\core\\generic.py:4311\u001b[0m, in \u001b[0;36mNDFrame._drop_axis\u001b[1;34m(self, labels, axis, level, errors, consolidate, only_slice)\u001b[0m\n\u001b[0;32m   <a href='file:///c%3A/Users/Manuel%20Revelo/AppData/Local/Programs/Python/Python310/lib/site-packages/pandas/core/generic.py?line=4308'>4309</a>\u001b[0m         new_axis \u001b[39m=\u001b[39m axis\u001b[39m.\u001b[39mdrop(labels, level\u001b[39m=\u001b[39mlevel, errors\u001b[39m=\u001b[39merrors)\n\u001b[0;32m   <a href='file:///c%3A/Users/Manuel%20Revelo/AppData/Local/Programs/Python/Python310/lib/site-packages/pandas/core/generic.py?line=4309'>4310</a>\u001b[0m     \u001b[39melse\u001b[39;00m:\n\u001b[1;32m-> <a href='file:///c%3A/Users/Manuel%20Revelo/AppData/Local/Programs/Python/Python310/lib/site-packages/pandas/core/generic.py?line=4310'>4311</a>\u001b[0m         new_axis \u001b[39m=\u001b[39m axis\u001b[39m.\u001b[39;49mdrop(labels, errors\u001b[39m=\u001b[39;49merrors)\n\u001b[0;32m   <a href='file:///c%3A/Users/Manuel%20Revelo/AppData/Local/Programs/Python/Python310/lib/site-packages/pandas/core/generic.py?line=4311'>4312</a>\u001b[0m     indexer \u001b[39m=\u001b[39m axis\u001b[39m.\u001b[39mget_indexer(new_axis)\n\u001b[0;32m   <a href='file:///c%3A/Users/Manuel%20Revelo/AppData/Local/Programs/Python/Python310/lib/site-packages/pandas/core/generic.py?line=4313'>4314</a>\u001b[0m \u001b[39m# Case for non-unique axis\u001b[39;00m\n\u001b[0;32m   <a href='file:///c%3A/Users/Manuel%20Revelo/AppData/Local/Programs/Python/Python310/lib/site-packages/pandas/core/generic.py?line=4314'>4315</a>\u001b[0m \u001b[39melse\u001b[39;00m:\n",
      "File \u001b[1;32mc:\\Users\\Manuel Revelo\\AppData\\Local\\Programs\\Python\\Python310\\lib\\site-packages\\pandas\\core\\indexes\\base.py:6644\u001b[0m, in \u001b[0;36mIndex.drop\u001b[1;34m(self, labels, errors)\u001b[0m\n\u001b[0;32m   <a href='file:///c%3A/Users/Manuel%20Revelo/AppData/Local/Programs/Python/Python310/lib/site-packages/pandas/core/indexes/base.py?line=6641'>6642</a>\u001b[0m \u001b[39mif\u001b[39;00m mask\u001b[39m.\u001b[39many():\n\u001b[0;32m   <a href='file:///c%3A/Users/Manuel%20Revelo/AppData/Local/Programs/Python/Python310/lib/site-packages/pandas/core/indexes/base.py?line=6642'>6643</a>\u001b[0m     \u001b[39mif\u001b[39;00m errors \u001b[39m!=\u001b[39m \u001b[39m\"\u001b[39m\u001b[39mignore\u001b[39m\u001b[39m\"\u001b[39m:\n\u001b[1;32m-> <a href='file:///c%3A/Users/Manuel%20Revelo/AppData/Local/Programs/Python/Python310/lib/site-packages/pandas/core/indexes/base.py?line=6643'>6644</a>\u001b[0m         \u001b[39mraise\u001b[39;00m \u001b[39mKeyError\u001b[39;00m(\u001b[39mf\u001b[39m\u001b[39m\"\u001b[39m\u001b[39m{\u001b[39;00m\u001b[39mlist\u001b[39m(labels[mask])\u001b[39m}\u001b[39;00m\u001b[39m not found in axis\u001b[39m\u001b[39m\"\u001b[39m)\n\u001b[0;32m   <a href='file:///c%3A/Users/Manuel%20Revelo/AppData/Local/Programs/Python/Python310/lib/site-packages/pandas/core/indexes/base.py?line=6644'>6645</a>\u001b[0m     indexer \u001b[39m=\u001b[39m indexer[\u001b[39m~\u001b[39mmask]\n\u001b[0;32m   <a href='file:///c%3A/Users/Manuel%20Revelo/AppData/Local/Programs/Python/Python310/lib/site-packages/pandas/core/indexes/base.py?line=6645'>6646</a>\u001b[0m \u001b[39mreturn\u001b[39;00m \u001b[39mself\u001b[39m\u001b[39m.\u001b[39mdelete(indexer)\n",
      "\u001b[1;31mKeyError\u001b[0m: \"['col10'] not found in axis\""
     ]
    }
   ],
   "source": [
    "dfC2=dfC2.drop(['col10'], axis=1)"
   ]
  },
  {
   "cell_type": "code",
   "execution_count": 26,
   "metadata": {},
   "outputs": [
    {
     "data": {
      "text/html": [
       "<div>\n",
       "<style scoped>\n",
       "    .dataframe tbody tr th:only-of-type {\n",
       "        vertical-align: middle;\n",
       "    }\n",
       "\n",
       "    .dataframe tbody tr th {\n",
       "        vertical-align: top;\n",
       "    }\n",
       "\n",
       "    .dataframe thead th {\n",
       "        text-align: right;\n",
       "    }\n",
       "</style>\n",
       "<table border=\"1\" class=\"dataframe\">\n",
       "  <thead>\n",
       "    <tr style=\"text-align: right;\">\n",
       "      <th></th>\n",
       "      <th>ID</th>\n",
       "      <th>Provincia</th>\n",
       "      <th>Nombre_y_Apellido</th>\n",
       "      <th>Domicilio</th>\n",
       "      <th>Telefono</th>\n",
       "      <th>Edad</th>\n",
       "      <th>Localidad</th>\n",
       "      <th>X</th>\n",
       "      <th>Y</th>\n",
       "    </tr>\n",
       "  </thead>\n",
       "  <tbody>\n",
       "    <tr>\n",
       "      <th>0</th>\n",
       "      <td>2673</td>\n",
       "      <td>Córdoba</td>\n",
       "      <td>LUISA JACQUELINE RODRIGUEZ</td>\n",
       "      <td>CALLE PUBLICA S/NÂº  CNO.PAJAS BLANCAS KM.22 P...</td>\n",
       "      <td>NaN</td>\n",
       "      <td>39</td>\n",
       "      <td>PAJAS BLANCAS</td>\n",
       "      <td>-64,27472312</td>\n",
       "      <td>-31,21598674</td>\n",
       "    </tr>\n",
       "    <tr>\n",
       "      <th>1</th>\n",
       "      <td>2674</td>\n",
       "      <td>NaN</td>\n",
       "      <td>ALFREDO ALBERTO RUIZ</td>\n",
       "      <td>CALLE PUBLICA S/NÂº  LA PUERTA P/RUTA PROV.74A</td>\n",
       "      <td>15647073</td>\n",
       "      <td>54</td>\n",
       "      <td>NaN</td>\n",
       "      <td>-64,06718896</td>\n",
       "      <td>-31,16495027</td>\n",
       "    </tr>\n",
       "    <tr>\n",
       "      <th>2</th>\n",
       "      <td>2675</td>\n",
       "      <td>Córdoba</td>\n",
       "      <td>FLAVIO DIAZ</td>\n",
       "      <td>CALLE PUBLICA S/NÂº  EL ALGODONAL P/AGUA DE ORO</td>\n",
       "      <td>493844</td>\n",
       "      <td>39</td>\n",
       "      <td>AGUA DE ORO</td>\n",
       "      <td>-64,31021262</td>\n",
       "      <td>-31,06210188</td>\n",
       "    </tr>\n",
       "    <tr>\n",
       "      <th>3</th>\n",
       "      <td>2676</td>\n",
       "      <td>Córdoba</td>\n",
       "      <td>WALTER RUIZ</td>\n",
       "      <td>CALLE PUBLICA S/NÂº  RUTA A 74 KM 27</td>\n",
       "      <td>4902949</td>\n",
       "      <td>15</td>\n",
       "      <td>COLONIA TIROLESA</td>\n",
       "      <td>-64,06759299</td>\n",
       "      <td>-31,22827701</td>\n",
       "    </tr>\n",
       "    <tr>\n",
       "      <th>4</th>\n",
       "      <td>2677</td>\n",
       "      <td>Córdoba</td>\n",
       "      <td>MARCELA ROGALO</td>\n",
       "      <td>CALLE PUBLICA   CNO. CHACRA DE LA MERCED - KM.18</td>\n",
       "      <td>4918549DIR</td>\n",
       "      <td>46</td>\n",
       "      <td>VILLA CORAZON DE MARIA</td>\n",
       "      <td>-63,9973238</td>\n",
       "      <td>-31,44517527</td>\n",
       "    </tr>\n",
       "  </tbody>\n",
       "</table>\n",
       "</div>"
      ],
      "text/plain": [
       "     ID Provincia           Nombre_y_Apellido  \\\n",
       "0  2673   Córdoba  LUISA JACQUELINE RODRIGUEZ   \n",
       "1  2674       NaN        ALFREDO ALBERTO RUIZ   \n",
       "2  2675   Córdoba                 FLAVIO DIAZ   \n",
       "3  2676   Córdoba                 WALTER RUIZ   \n",
       "4  2677   Córdoba              MARCELA ROGALO   \n",
       "\n",
       "                                           Domicilio    Telefono  Edad  \\\n",
       "0  CALLE PUBLICA S/NÂº  CNO.PAJAS BLANCAS KM.22 P...         NaN    39   \n",
       "1     CALLE PUBLICA S/NÂº  LA PUERTA P/RUTA PROV.74A    15647073    54   \n",
       "2    CALLE PUBLICA S/NÂº  EL ALGODONAL P/AGUA DE ORO      493844    39   \n",
       "3               CALLE PUBLICA S/NÂº  RUTA A 74 KM 27     4902949    15   \n",
       "4   CALLE PUBLICA   CNO. CHACRA DE LA MERCED - KM.18  4918549DIR    46   \n",
       "\n",
       "                Localidad             X             Y  \n",
       "0           PAJAS BLANCAS  -64,27472312  -31,21598674  \n",
       "1                     NaN  -64,06718896  -31,16495027  \n",
       "2             AGUA DE ORO  -64,31021262  -31,06210188  \n",
       "3        COLONIA TIROLESA  -64,06759299  -31,22827701  \n",
       "4  VILLA CORAZON DE MARIA   -63,9973238  -31,44517527  "
      ]
     },
     "execution_count": 26,
     "metadata": {},
     "output_type": "execute_result"
    }
   ],
   "source": [
    "dfC2.head(5)"
   ]
  },
  {
   "cell_type": "code",
   "execution_count": 119,
   "metadata": {},
   "outputs": [],
   "source": [
    "path_csv2 = r'C:\\Users\\Manuel Revelo\\Desktop\\proyecto individual\\DS-PI-ProyectoIndividual\\DS-PI-ProyectoIndividual\\Datasets\\Compra.csv'\n",
    "dfco= pd.read_csv(path_csv2, sep=\",\") #, on_bad_lines='skip')\n"
   ]
  },
  {
   "cell_type": "code",
   "execution_count": 120,
   "metadata": {},
   "outputs": [
    {
     "data": {
      "text/html": [
       "<div>\n",
       "<style scoped>\n",
       "    .dataframe tbody tr th:only-of-type {\n",
       "        vertical-align: middle;\n",
       "    }\n",
       "\n",
       "    .dataframe tbody tr th {\n",
       "        vertical-align: top;\n",
       "    }\n",
       "\n",
       "    .dataframe thead th {\n",
       "        text-align: right;\n",
       "    }\n",
       "</style>\n",
       "<table border=\"1\" class=\"dataframe\">\n",
       "  <thead>\n",
       "    <tr style=\"text-align: right;\">\n",
       "      <th></th>\n",
       "      <th>IdCompra</th>\n",
       "      <th>Fecha_Año</th>\n",
       "      <th>Fecha_Mes</th>\n",
       "      <th>Fecha_Periodo</th>\n",
       "      <th>IdProducto</th>\n",
       "      <th>Cantidad</th>\n",
       "      <th>Precio</th>\n",
       "      <th>IdProveedor</th>\n",
       "    </tr>\n",
       "  </thead>\n",
       "  <tbody>\n",
       "    <tr>\n",
       "      <th>count</th>\n",
       "      <td>11539.000000</td>\n",
       "      <td>11539.000000</td>\n",
       "      <td>11539.000000</td>\n",
       "      <td>11539.000000</td>\n",
       "      <td>11539.000000</td>\n",
       "      <td>11539.000000</td>\n",
       "      <td>1.117200e+04</td>\n",
       "      <td>11539.000000</td>\n",
       "    </tr>\n",
       "    <tr>\n",
       "      <th>mean</th>\n",
       "      <td>5770.000000</td>\n",
       "      <td>2017.671549</td>\n",
       "      <td>4.570500</td>\n",
       "      <td>201771.725366</td>\n",
       "      <td>42900.634890</td>\n",
       "      <td>8.826415</td>\n",
       "      <td>3.613647e+03</td>\n",
       "      <td>7.533928</td>\n",
       "    </tr>\n",
       "    <tr>\n",
       "      <th>std</th>\n",
       "      <td>3331.166713</td>\n",
       "      <td>1.770288</td>\n",
       "      <td>3.168731</td>\n",
       "      <td>177.830326</td>\n",
       "      <td>83.539532</td>\n",
       "      <td>6.412074</td>\n",
       "      <td>1.006630e+05</td>\n",
       "      <td>3.770609</td>\n",
       "    </tr>\n",
       "    <tr>\n",
       "      <th>min</th>\n",
       "      <td>1.000000</td>\n",
       "      <td>2015.000000</td>\n",
       "      <td>1.000000</td>\n",
       "      <td>201501.000000</td>\n",
       "      <td>42737.000000</td>\n",
       "      <td>1.000000</td>\n",
       "      <td>1.860000e+00</td>\n",
       "      <td>1.000000</td>\n",
       "    </tr>\n",
       "    <tr>\n",
       "      <th>25%</th>\n",
       "      <td>2885.500000</td>\n",
       "      <td>2016.000000</td>\n",
       "      <td>1.000000</td>\n",
       "      <td>201605.000000</td>\n",
       "      <td>42832.000000</td>\n",
       "      <td>4.000000</td>\n",
       "      <td>3.068300e+02</td>\n",
       "      <td>4.000000</td>\n",
       "    </tr>\n",
       "    <tr>\n",
       "      <th>50%</th>\n",
       "      <td>5770.000000</td>\n",
       "      <td>2018.000000</td>\n",
       "      <td>4.000000</td>\n",
       "      <td>201801.000000</td>\n",
       "      <td>42902.000000</td>\n",
       "      <td>7.000000</td>\n",
       "      <td>4.634850e+02</td>\n",
       "      <td>8.000000</td>\n",
       "    </tr>\n",
       "    <tr>\n",
       "      <th>75%</th>\n",
       "      <td>8654.500000</td>\n",
       "      <td>2019.000000</td>\n",
       "      <td>7.000000</td>\n",
       "      <td>201908.000000</td>\n",
       "      <td>42973.000000</td>\n",
       "      <td>12.000000</td>\n",
       "      <td>1.260322e+03</td>\n",
       "      <td>11.000000</td>\n",
       "    </tr>\n",
       "    <tr>\n",
       "      <th>max</th>\n",
       "      <td>11539.000000</td>\n",
       "      <td>2020.000000</td>\n",
       "      <td>12.000000</td>\n",
       "      <td>202012.000000</td>\n",
       "      <td>43043.000000</td>\n",
       "      <td>54.000000</td>\n",
       "      <td>1.044580e+07</td>\n",
       "      <td>14.000000</td>\n",
       "    </tr>\n",
       "  </tbody>\n",
       "</table>\n",
       "</div>"
      ],
      "text/plain": [
       "           IdCompra     Fecha_Año     Fecha_Mes  Fecha_Periodo    IdProducto  \\\n",
       "count  11539.000000  11539.000000  11539.000000   11539.000000  11539.000000   \n",
       "mean    5770.000000   2017.671549      4.570500  201771.725366  42900.634890   \n",
       "std     3331.166713      1.770288      3.168731     177.830326     83.539532   \n",
       "min        1.000000   2015.000000      1.000000  201501.000000  42737.000000   \n",
       "25%     2885.500000   2016.000000      1.000000  201605.000000  42832.000000   \n",
       "50%     5770.000000   2018.000000      4.000000  201801.000000  42902.000000   \n",
       "75%     8654.500000   2019.000000      7.000000  201908.000000  42973.000000   \n",
       "max    11539.000000   2020.000000     12.000000  202012.000000  43043.000000   \n",
       "\n",
       "           Cantidad        Precio   IdProveedor  \n",
       "count  11539.000000  1.117200e+04  11539.000000  \n",
       "mean       8.826415  3.613647e+03      7.533928  \n",
       "std        6.412074  1.006630e+05      3.770609  \n",
       "min        1.000000  1.860000e+00      1.000000  \n",
       "25%        4.000000  3.068300e+02      4.000000  \n",
       "50%        7.000000  4.634850e+02      8.000000  \n",
       "75%       12.000000  1.260322e+03     11.000000  \n",
       "max       54.000000  1.044580e+07     14.000000  "
      ]
     },
     "execution_count": 120,
     "metadata": {},
     "output_type": "execute_result"
    }
   ],
   "source": [
    "dfco.describe()\n"
   ]
  },
  {
   "cell_type": "code",
   "execution_count": 64,
   "metadata": {},
   "outputs": [
    {
     "data": {
      "text/plain": [
       "(11539, 9)"
      ]
     },
     "execution_count": 64,
     "metadata": {},
     "output_type": "execute_result"
    }
   ],
   "source": [
    "dfco.shape"
   ]
  },
  {
   "cell_type": "code",
   "execution_count": 30,
   "metadata": {},
   "outputs": [
    {
     "name": "stdout",
     "output_type": "stream",
     "text": [
      "<class 'pandas.core.frame.DataFrame'>\n",
      "RangeIndex: 11539 entries, 0 to 11538\n",
      "Data columns (total 9 columns):\n",
      " #   Column         Non-Null Count  Dtype  \n",
      "---  ------         --------------  -----  \n",
      " 0   IdCompra       11539 non-null  int64  \n",
      " 1   Fecha          11539 non-null  object \n",
      " 2   Fecha_Año      11539 non-null  int64  \n",
      " 3   Fecha_Mes      11539 non-null  int64  \n",
      " 4   Fecha_Periodo  11539 non-null  int64  \n",
      " 5   IdProducto     11539 non-null  int64  \n",
      " 6   Cantidad       11539 non-null  int64  \n",
      " 7   Precio         11172 non-null  float64\n",
      " 8   IdProveedor    11539 non-null  int64  \n",
      "dtypes: float64(1), int64(7), object(1)\n",
      "memory usage: 811.5+ KB\n"
     ]
    }
   ],
   "source": [
    "dfco.info()\n",
    "\n"
   ]
  },
  {
   "cell_type": "code",
   "execution_count": 65,
   "metadata": {},
   "outputs": [
    {
     "data": {
      "text/plain": [
       "IdCompra           0\n",
       "Fecha              0\n",
       "Fecha_Año          0\n",
       "Fecha_Mes          0\n",
       "Fecha_Periodo      0\n",
       "IdProducto         0\n",
       "Cantidad           0\n",
       "Precio           367\n",
       "IdProveedor        0\n",
       "dtype: int64"
      ]
     },
     "execution_count": 65,
     "metadata": {},
     "output_type": "execute_result"
    }
   ],
   "source": [
    "dfco.isnull().sum()\n"
   ]
  },
  {
   "cell_type": "code",
   "execution_count": 107,
   "metadata": {},
   "outputs": [
    {
     "data": {
      "text/html": [
       "<div>\n",
       "<style scoped>\n",
       "    .dataframe tbody tr th:only-of-type {\n",
       "        vertical-align: middle;\n",
       "    }\n",
       "\n",
       "    .dataframe tbody tr th {\n",
       "        vertical-align: top;\n",
       "    }\n",
       "\n",
       "    .dataframe thead th {\n",
       "        text-align: right;\n",
       "    }\n",
       "</style>\n",
       "<table border=\"1\" class=\"dataframe\">\n",
       "  <thead>\n",
       "    <tr style=\"text-align: right;\">\n",
       "      <th></th>\n",
       "      <th>IdCompra</th>\n",
       "      <th>Fecha</th>\n",
       "      <th>Fecha_Año</th>\n",
       "      <th>Fecha_Mes</th>\n",
       "      <th>Fecha_Periodo</th>\n",
       "      <th>IdProducto</th>\n",
       "      <th>Cantidad</th>\n",
       "      <th>Precio</th>\n",
       "      <th>IdProveedor</th>\n",
       "    </tr>\n",
       "  </thead>\n",
       "  <tbody>\n",
       "    <tr>\n",
       "      <th>0</th>\n",
       "      <td>1</td>\n",
       "      <td>1/30/2015</td>\n",
       "      <td>2015</td>\n",
       "      <td>1</td>\n",
       "      <td>201501</td>\n",
       "      <td>42832</td>\n",
       "      <td>13</td>\n",
       "      <td>560.51</td>\n",
       "      <td>12</td>\n",
       "    </tr>\n",
       "    <tr>\n",
       "      <th>1</th>\n",
       "      <td>2</td>\n",
       "      <td>1/30/2015</td>\n",
       "      <td>2015</td>\n",
       "      <td>1</td>\n",
       "      <td>201501</td>\n",
       "      <td>42833</td>\n",
       "      <td>11</td>\n",
       "      <td>497.58</td>\n",
       "      <td>7</td>\n",
       "    </tr>\n",
       "    <tr>\n",
       "      <th>2</th>\n",
       "      <td>3</td>\n",
       "      <td>1/30/2015</td>\n",
       "      <td>2015</td>\n",
       "      <td>1</td>\n",
       "      <td>201501</td>\n",
       "      <td>42834</td>\n",
       "      <td>1</td>\n",
       "      <td>588.50</td>\n",
       "      <td>6</td>\n",
       "    </tr>\n",
       "    <tr>\n",
       "      <th>3</th>\n",
       "      <td>4</td>\n",
       "      <td>1/30/2015</td>\n",
       "      <td>2015</td>\n",
       "      <td>1</td>\n",
       "      <td>201501</td>\n",
       "      <td>42835</td>\n",
       "      <td>9</td>\n",
       "      <td>567.66</td>\n",
       "      <td>14</td>\n",
       "    </tr>\n",
       "    <tr>\n",
       "      <th>4</th>\n",
       "      <td>5</td>\n",
       "      <td>1/30/2015</td>\n",
       "      <td>2015</td>\n",
       "      <td>1</td>\n",
       "      <td>201501</td>\n",
       "      <td>42839</td>\n",
       "      <td>14</td>\n",
       "      <td>231.31</td>\n",
       "      <td>2</td>\n",
       "    </tr>\n",
       "    <tr>\n",
       "      <th>5</th>\n",
       "      <td>6</td>\n",
       "      <td>1/30/2015</td>\n",
       "      <td>2015</td>\n",
       "      <td>1</td>\n",
       "      <td>201501</td>\n",
       "      <td>42840</td>\n",
       "      <td>14</td>\n",
       "      <td>232.07</td>\n",
       "      <td>13</td>\n",
       "    </tr>\n",
       "    <tr>\n",
       "      <th>6</th>\n",
       "      <td>7</td>\n",
       "      <td>1/30/2015</td>\n",
       "      <td>2015</td>\n",
       "      <td>1</td>\n",
       "      <td>201501</td>\n",
       "      <td>42841</td>\n",
       "      <td>8</td>\n",
       "      <td>236.98</td>\n",
       "      <td>4</td>\n",
       "    </tr>\n",
       "    <tr>\n",
       "      <th>7</th>\n",
       "      <td>8</td>\n",
       "      <td>1/30/2015</td>\n",
       "      <td>2015</td>\n",
       "      <td>1</td>\n",
       "      <td>201501</td>\n",
       "      <td>42842</td>\n",
       "      <td>4</td>\n",
       "      <td>255.33</td>\n",
       "      <td>4</td>\n",
       "    </tr>\n",
       "    <tr>\n",
       "      <th>8</th>\n",
       "      <td>9</td>\n",
       "      <td>1/30/2015</td>\n",
       "      <td>2015</td>\n",
       "      <td>1</td>\n",
       "      <td>201501</td>\n",
       "      <td>42845</td>\n",
       "      <td>5</td>\n",
       "      <td>578.61</td>\n",
       "      <td>12</td>\n",
       "    </tr>\n",
       "    <tr>\n",
       "      <th>9</th>\n",
       "      <td>10</td>\n",
       "      <td>1/30/2015</td>\n",
       "      <td>2015</td>\n",
       "      <td>1</td>\n",
       "      <td>201501</td>\n",
       "      <td>42855</td>\n",
       "      <td>1</td>\n",
       "      <td>809.04</td>\n",
       "      <td>6</td>\n",
       "    </tr>\n",
       "  </tbody>\n",
       "</table>\n",
       "</div>"
      ],
      "text/plain": [
       "   IdCompra      Fecha  Fecha_Año  Fecha_Mes  Fecha_Periodo  IdProducto  \\\n",
       "0         1  1/30/2015       2015          1         201501       42832   \n",
       "1         2  1/30/2015       2015          1         201501       42833   \n",
       "2         3  1/30/2015       2015          1         201501       42834   \n",
       "3         4  1/30/2015       2015          1         201501       42835   \n",
       "4         5  1/30/2015       2015          1         201501       42839   \n",
       "5         6  1/30/2015       2015          1         201501       42840   \n",
       "6         7  1/30/2015       2015          1         201501       42841   \n",
       "7         8  1/30/2015       2015          1         201501       42842   \n",
       "8         9  1/30/2015       2015          1         201501       42845   \n",
       "9        10  1/30/2015       2015          1         201501       42855   \n",
       "\n",
       "   Cantidad  Precio  IdProveedor  \n",
       "0        13  560.51           12  \n",
       "1        11  497.58            7  \n",
       "2         1  588.50            6  \n",
       "3         9  567.66           14  \n",
       "4        14  231.31            2  \n",
       "5        14  232.07           13  \n",
       "6         8  236.98            4  \n",
       "7         4  255.33            4  \n",
       "8         5  578.61           12  \n",
       "9         1  809.04            6  "
      ]
     },
     "execution_count": 107,
     "metadata": {},
     "output_type": "execute_result"
    }
   ],
   "source": [
    "dfco.head(10)"
   ]
  },
  {
   "cell_type": "code",
   "execution_count": 32,
   "metadata": {},
   "outputs": [],
   "source": [
    "path_csv3 = r'C:\\Users\\Manuel Revelo\\Desktop\\proyecto individual\\DS-PI-ProyectoIndividual\\DS-PI-ProyectoIndividual\\Datasets\\Gasto.csv'\n",
    "dfga= pd.read_csv(path_csv3, sep=\",\") #, on_bad_lines='skip')"
   ]
  },
  {
   "cell_type": "code",
   "execution_count": 33,
   "metadata": {},
   "outputs": [
    {
     "data": {
      "text/html": [
       "<div>\n",
       "<style scoped>\n",
       "    .dataframe tbody tr th:only-of-type {\n",
       "        vertical-align: middle;\n",
       "    }\n",
       "\n",
       "    .dataframe tbody tr th {\n",
       "        vertical-align: top;\n",
       "    }\n",
       "\n",
       "    .dataframe thead th {\n",
       "        text-align: right;\n",
       "    }\n",
       "</style>\n",
       "<table border=\"1\" class=\"dataframe\">\n",
       "  <thead>\n",
       "    <tr style=\"text-align: right;\">\n",
       "      <th></th>\n",
       "      <th>IdGasto</th>\n",
       "      <th>IdSucursal</th>\n",
       "      <th>IdTipoGasto</th>\n",
       "      <th>Monto</th>\n",
       "    </tr>\n",
       "  </thead>\n",
       "  <tbody>\n",
       "    <tr>\n",
       "      <th>count</th>\n",
       "      <td>8640.000000</td>\n",
       "      <td>8640.000000</td>\n",
       "      <td>8640.000000</td>\n",
       "      <td>8640.000000</td>\n",
       "    </tr>\n",
       "    <tr>\n",
       "      <th>mean</th>\n",
       "      <td>4320.500000</td>\n",
       "      <td>15.600000</td>\n",
       "      <td>2.500000</td>\n",
       "      <td>659.919324</td>\n",
       "    </tr>\n",
       "    <tr>\n",
       "      <th>std</th>\n",
       "      <td>2494.297496</td>\n",
       "      <td>8.815649</td>\n",
       "      <td>1.118099</td>\n",
       "      <td>448.630839</td>\n",
       "    </tr>\n",
       "    <tr>\n",
       "      <th>min</th>\n",
       "      <td>1.000000</td>\n",
       "      <td>1.000000</td>\n",
       "      <td>1.000000</td>\n",
       "      <td>100.000000</td>\n",
       "    </tr>\n",
       "    <tr>\n",
       "      <th>25%</th>\n",
       "      <td>2160.750000</td>\n",
       "      <td>8.000000</td>\n",
       "      <td>1.750000</td>\n",
       "      <td>255.022500</td>\n",
       "    </tr>\n",
       "    <tr>\n",
       "      <th>50%</th>\n",
       "      <td>4320.500000</td>\n",
       "      <td>15.500000</td>\n",
       "      <td>2.500000</td>\n",
       "      <td>679.990000</td>\n",
       "    </tr>\n",
       "    <tr>\n",
       "      <th>75%</th>\n",
       "      <td>6480.250000</td>\n",
       "      <td>23.000000</td>\n",
       "      <td>3.250000</td>\n",
       "      <td>1100.522500</td>\n",
       "    </tr>\n",
       "    <tr>\n",
       "      <th>max</th>\n",
       "      <td>8640.000000</td>\n",
       "      <td>31.000000</td>\n",
       "      <td>4.000000</td>\n",
       "      <td>1199.880000</td>\n",
       "    </tr>\n",
       "  </tbody>\n",
       "</table>\n",
       "</div>"
      ],
      "text/plain": [
       "           IdGasto   IdSucursal  IdTipoGasto        Monto\n",
       "count  8640.000000  8640.000000  8640.000000  8640.000000\n",
       "mean   4320.500000    15.600000     2.500000   659.919324\n",
       "std    2494.297496     8.815649     1.118099   448.630839\n",
       "min       1.000000     1.000000     1.000000   100.000000\n",
       "25%    2160.750000     8.000000     1.750000   255.022500\n",
       "50%    4320.500000    15.500000     2.500000   679.990000\n",
       "75%    6480.250000    23.000000     3.250000  1100.522500\n",
       "max    8640.000000    31.000000     4.000000  1199.880000"
      ]
     },
     "execution_count": 33,
     "metadata": {},
     "output_type": "execute_result"
    }
   ],
   "source": [
    "dfga.describe()"
   ]
  },
  {
   "cell_type": "code",
   "execution_count": 34,
   "metadata": {},
   "outputs": [
    {
     "data": {
      "text/plain": [
       "(8640, 5)"
      ]
     },
     "execution_count": 34,
     "metadata": {},
     "output_type": "execute_result"
    }
   ],
   "source": [
    "dfga.shape"
   ]
  },
  {
   "cell_type": "code",
   "execution_count": 112,
   "metadata": {},
   "outputs": [
    {
     "name": "stdout",
     "output_type": "stream",
     "text": [
      "<class 'pandas.core.frame.DataFrame'>\n",
      "RangeIndex: 8640 entries, 0 to 8639\n",
      "Data columns (total 5 columns):\n",
      " #   Column       Non-Null Count  Dtype  \n",
      "---  ------       --------------  -----  \n",
      " 0   IdGasto      8640 non-null   int64  \n",
      " 1   IdSucursal   8640 non-null   int64  \n",
      " 2   IdTipoGasto  8640 non-null   int64  \n",
      " 3   Fecha        8640 non-null   object \n",
      " 4   Monto        8640 non-null   float64\n",
      "dtypes: float64(1), int64(3), object(1)\n",
      "memory usage: 337.6+ KB\n"
     ]
    }
   ],
   "source": [
    "dfga.info()"
   ]
  },
  {
   "cell_type": "code",
   "execution_count": 113,
   "metadata": {},
   "outputs": [
    {
     "data": {
      "text/plain": [
       "IdGasto        0\n",
       "IdSucursal     0\n",
       "IdTipoGasto    0\n",
       "Fecha          0\n",
       "Monto          0\n",
       "dtype: int64"
      ]
     },
     "execution_count": 113,
     "metadata": {},
     "output_type": "execute_result"
    }
   ],
   "source": [
    "dfga.isnull().sum()"
   ]
  },
  {
   "cell_type": "code",
   "execution_count": 114,
   "metadata": {},
   "outputs": [
    {
     "data": {
      "text/html": [
       "<div>\n",
       "<style scoped>\n",
       "    .dataframe tbody tr th:only-of-type {\n",
       "        vertical-align: middle;\n",
       "    }\n",
       "\n",
       "    .dataframe tbody tr th {\n",
       "        vertical-align: top;\n",
       "    }\n",
       "\n",
       "    .dataframe thead th {\n",
       "        text-align: right;\n",
       "    }\n",
       "</style>\n",
       "<table border=\"1\" class=\"dataframe\">\n",
       "  <thead>\n",
       "    <tr style=\"text-align: right;\">\n",
       "      <th></th>\n",
       "      <th>IdGasto</th>\n",
       "      <th>IdSucursal</th>\n",
       "      <th>IdTipoGasto</th>\n",
       "      <th>Fecha</th>\n",
       "      <th>Monto</th>\n",
       "    </tr>\n",
       "  </thead>\n",
       "  <tbody>\n",
       "    <tr>\n",
       "      <th>0</th>\n",
       "      <td>1</td>\n",
       "      <td>18</td>\n",
       "      <td>1</td>\n",
       "      <td>2015-01-01</td>\n",
       "      <td>1164.90</td>\n",
       "    </tr>\n",
       "    <tr>\n",
       "      <th>1</th>\n",
       "      <td>2</td>\n",
       "      <td>18</td>\n",
       "      <td>2</td>\n",
       "      <td>2015-01-01</td>\n",
       "      <td>317.02</td>\n",
       "    </tr>\n",
       "    <tr>\n",
       "      <th>2</th>\n",
       "      <td>3</td>\n",
       "      <td>18</td>\n",
       "      <td>3</td>\n",
       "      <td>2015-01-01</td>\n",
       "      <td>118.89</td>\n",
       "    </tr>\n",
       "    <tr>\n",
       "      <th>3</th>\n",
       "      <td>4</td>\n",
       "      <td>18</td>\n",
       "      <td>4</td>\n",
       "      <td>2015-01-01</td>\n",
       "      <td>1174.23</td>\n",
       "    </tr>\n",
       "    <tr>\n",
       "      <th>4</th>\n",
       "      <td>5</td>\n",
       "      <td>1</td>\n",
       "      <td>1</td>\n",
       "      <td>2015-01-01</td>\n",
       "      <td>1104.51</td>\n",
       "    </tr>\n",
       "    <tr>\n",
       "      <th>5</th>\n",
       "      <td>6</td>\n",
       "      <td>1</td>\n",
       "      <td>2</td>\n",
       "      <td>2015-01-01</td>\n",
       "      <td>359.96</td>\n",
       "    </tr>\n",
       "    <tr>\n",
       "      <th>6</th>\n",
       "      <td>7</td>\n",
       "      <td>1</td>\n",
       "      <td>3</td>\n",
       "      <td>2015-01-01</td>\n",
       "      <td>108.59</td>\n",
       "    </tr>\n",
       "    <tr>\n",
       "      <th>7</th>\n",
       "      <td>8</td>\n",
       "      <td>1</td>\n",
       "      <td>4</td>\n",
       "      <td>2015-01-01</td>\n",
       "      <td>1029.69</td>\n",
       "    </tr>\n",
       "    <tr>\n",
       "      <th>8</th>\n",
       "      <td>9</td>\n",
       "      <td>2</td>\n",
       "      <td>1</td>\n",
       "      <td>2015-01-01</td>\n",
       "      <td>1090.87</td>\n",
       "    </tr>\n",
       "    <tr>\n",
       "      <th>9</th>\n",
       "      <td>10</td>\n",
       "      <td>2</td>\n",
       "      <td>2</td>\n",
       "      <td>2015-01-01</td>\n",
       "      <td>349.58</td>\n",
       "    </tr>\n",
       "  </tbody>\n",
       "</table>\n",
       "</div>"
      ],
      "text/plain": [
       "   IdGasto  IdSucursal  IdTipoGasto       Fecha    Monto\n",
       "0        1          18            1  2015-01-01  1164.90\n",
       "1        2          18            2  2015-01-01   317.02\n",
       "2        3          18            3  2015-01-01   118.89\n",
       "3        4          18            4  2015-01-01  1174.23\n",
       "4        5           1            1  2015-01-01  1104.51\n",
       "5        6           1            2  2015-01-01   359.96\n",
       "6        7           1            3  2015-01-01   108.59\n",
       "7        8           1            4  2015-01-01  1029.69\n",
       "8        9           2            1  2015-01-01  1090.87\n",
       "9       10           2            2  2015-01-01   349.58"
      ]
     },
     "execution_count": 114,
     "metadata": {},
     "output_type": "execute_result"
    }
   ],
   "source": [
    "dfga.head(10)"
   ]
  },
  {
   "cell_type": "code",
   "execution_count": 66,
   "metadata": {},
   "outputs": [],
   "source": [
    "path_csv4 = r'C:\\Users\\Manuel Revelo\\Desktop\\proyecto individual\\DS-PI-ProyectoIndividual\\DS-PI-ProyectoIndividual\\Datasets\\Venta.csv'\n",
    "dfven= pd.read_csv(path_csv4, sep=\",\") #, on_bad_lines='skip')"
   ]
  },
  {
   "cell_type": "code",
   "execution_count": 67,
   "metadata": {},
   "outputs": [
    {
     "data": {
      "text/plain": [
       "(46645, 10)"
      ]
     },
     "execution_count": 67,
     "metadata": {},
     "output_type": "execute_result"
    }
   ],
   "source": [
    "dfven.shape"
   ]
  },
  {
   "cell_type": "code",
   "execution_count": 68,
   "metadata": {},
   "outputs": [
    {
     "name": "stdout",
     "output_type": "stream",
     "text": [
      "<class 'pandas.core.frame.DataFrame'>\n",
      "RangeIndex: 46645 entries, 0 to 46644\n",
      "Data columns (total 10 columns):\n",
      " #   Column         Non-Null Count  Dtype  \n",
      "---  ------         --------------  -----  \n",
      " 0   IdVenta        46645 non-null  int64  \n",
      " 1   Fecha          46645 non-null  object \n",
      " 2   Fecha_Entrega  46645 non-null  object \n",
      " 3   IdCanal        46645 non-null  int64  \n",
      " 4   IdCliente      46645 non-null  int64  \n",
      " 5   IdSucursal     46645 non-null  int64  \n",
      " 6   IdEmpleado     46645 non-null  int64  \n",
      " 7   IdProducto     46645 non-null  int64  \n",
      " 8   Precio         45721 non-null  float64\n",
      " 9   Cantidad       45753 non-null  float64\n",
      "dtypes: float64(2), int64(6), object(2)\n",
      "memory usage: 3.6+ MB\n"
     ]
    },
    {
     "data": {
      "text/html": [
       "<div>\n",
       "<style scoped>\n",
       "    .dataframe tbody tr th:only-of-type {\n",
       "        vertical-align: middle;\n",
       "    }\n",
       "\n",
       "    .dataframe tbody tr th {\n",
       "        vertical-align: top;\n",
       "    }\n",
       "\n",
       "    .dataframe thead th {\n",
       "        text-align: right;\n",
       "    }\n",
       "</style>\n",
       "<table border=\"1\" class=\"dataframe\">\n",
       "  <thead>\n",
       "    <tr style=\"text-align: right;\">\n",
       "      <th></th>\n",
       "      <th>IdVenta</th>\n",
       "      <th>Fecha</th>\n",
       "      <th>Fecha_Entrega</th>\n",
       "      <th>IdCanal</th>\n",
       "      <th>IdCliente</th>\n",
       "      <th>IdSucursal</th>\n",
       "      <th>IdEmpleado</th>\n",
       "      <th>IdProducto</th>\n",
       "      <th>Precio</th>\n",
       "      <th>Cantidad</th>\n",
       "    </tr>\n",
       "  </thead>\n",
       "  <tbody>\n",
       "    <tr>\n",
       "      <th>0</th>\n",
       "      <td>1</td>\n",
       "      <td>2018-03-09</td>\n",
       "      <td>2018-03-17</td>\n",
       "      <td>3</td>\n",
       "      <td>969</td>\n",
       "      <td>13</td>\n",
       "      <td>1674</td>\n",
       "      <td>42817</td>\n",
       "      <td>813.12</td>\n",
       "      <td>2.0</td>\n",
       "    </tr>\n",
       "    <tr>\n",
       "      <th>1</th>\n",
       "      <td>2</td>\n",
       "      <td>2018-12-28</td>\n",
       "      <td>2018-12-29</td>\n",
       "      <td>2</td>\n",
       "      <td>884</td>\n",
       "      <td>13</td>\n",
       "      <td>1674</td>\n",
       "      <td>42795</td>\n",
       "      <td>543.18</td>\n",
       "      <td>3.0</td>\n",
       "    </tr>\n",
       "    <tr>\n",
       "      <th>2</th>\n",
       "      <td>3</td>\n",
       "      <td>2016-03-28</td>\n",
       "      <td>2016-03-31</td>\n",
       "      <td>2</td>\n",
       "      <td>1722</td>\n",
       "      <td>13</td>\n",
       "      <td>1674</td>\n",
       "      <td>42837</td>\n",
       "      <td>430.32</td>\n",
       "      <td>1.0</td>\n",
       "    </tr>\n",
       "    <tr>\n",
       "      <th>3</th>\n",
       "      <td>4</td>\n",
       "      <td>2017-10-23</td>\n",
       "      <td>2017-10-24</td>\n",
       "      <td>3</td>\n",
       "      <td>2876</td>\n",
       "      <td>13</td>\n",
       "      <td>1674</td>\n",
       "      <td>42834</td>\n",
       "      <td>818.84</td>\n",
       "      <td>2.0</td>\n",
       "    </tr>\n",
       "    <tr>\n",
       "      <th>4</th>\n",
       "      <td>5</td>\n",
       "      <td>2017-11-22</td>\n",
       "      <td>2017-11-25</td>\n",
       "      <td>2</td>\n",
       "      <td>678</td>\n",
       "      <td>13</td>\n",
       "      <td>1674</td>\n",
       "      <td>42825</td>\n",
       "      <td>554.18</td>\n",
       "      <td>3.0</td>\n",
       "    </tr>\n",
       "    <tr>\n",
       "      <th>5</th>\n",
       "      <td>6</td>\n",
       "      <td>2018-01-24</td>\n",
       "      <td>2018-01-25</td>\n",
       "      <td>2</td>\n",
       "      <td>3263</td>\n",
       "      <td>13</td>\n",
       "      <td>1674</td>\n",
       "      <td>42852</td>\n",
       "      <td>152.00</td>\n",
       "      <td>1.0</td>\n",
       "    </tr>\n",
       "    <tr>\n",
       "      <th>6</th>\n",
       "      <td>7</td>\n",
       "      <td>2015-03-25</td>\n",
       "      <td>2015-03-26</td>\n",
       "      <td>3</td>\n",
       "      <td>2983</td>\n",
       "      <td>13</td>\n",
       "      <td>1674</td>\n",
       "      <td>42939</td>\n",
       "      <td>2915.00</td>\n",
       "      <td>1.0</td>\n",
       "    </tr>\n",
       "    <tr>\n",
       "      <th>7</th>\n",
       "      <td>8</td>\n",
       "      <td>2017-07-10</td>\n",
       "      <td>2017-07-18</td>\n",
       "      <td>2</td>\n",
       "      <td>201</td>\n",
       "      <td>13</td>\n",
       "      <td>1674</td>\n",
       "      <td>42940</td>\n",
       "      <td>2162.00</td>\n",
       "      <td>2.0</td>\n",
       "    </tr>\n",
       "    <tr>\n",
       "      <th>8</th>\n",
       "      <td>9</td>\n",
       "      <td>2018-04-03</td>\n",
       "      <td>2018-04-06</td>\n",
       "      <td>2</td>\n",
       "      <td>1006</td>\n",
       "      <td>13</td>\n",
       "      <td>1674</td>\n",
       "      <td>42905</td>\n",
       "      <td>456.00</td>\n",
       "      <td>3.0</td>\n",
       "    </tr>\n",
       "    <tr>\n",
       "      <th>9</th>\n",
       "      <td>10</td>\n",
       "      <td>2019-03-16</td>\n",
       "      <td>2019-03-17</td>\n",
       "      <td>1</td>\n",
       "      <td>1003</td>\n",
       "      <td>13</td>\n",
       "      <td>1674</td>\n",
       "      <td>42894</td>\n",
       "      <td>515.00</td>\n",
       "      <td>2.0</td>\n",
       "    </tr>\n",
       "  </tbody>\n",
       "</table>\n",
       "</div>"
      ],
      "text/plain": [
       "   IdVenta       Fecha Fecha_Entrega  IdCanal  IdCliente  IdSucursal  \\\n",
       "0        1  2018-03-09    2018-03-17        3        969          13   \n",
       "1        2  2018-12-28    2018-12-29        2        884          13   \n",
       "2        3  2016-03-28    2016-03-31        2       1722          13   \n",
       "3        4  2017-10-23    2017-10-24        3       2876          13   \n",
       "4        5  2017-11-22    2017-11-25        2        678          13   \n",
       "5        6  2018-01-24    2018-01-25        2       3263          13   \n",
       "6        7  2015-03-25    2015-03-26        3       2983          13   \n",
       "7        8  2017-07-10    2017-07-18        2        201          13   \n",
       "8        9  2018-04-03    2018-04-06        2       1006          13   \n",
       "9       10  2019-03-16    2019-03-17        1       1003          13   \n",
       "\n",
       "   IdEmpleado  IdProducto   Precio  Cantidad  \n",
       "0        1674       42817   813.12       2.0  \n",
       "1        1674       42795   543.18       3.0  \n",
       "2        1674       42837   430.32       1.0  \n",
       "3        1674       42834   818.84       2.0  \n",
       "4        1674       42825   554.18       3.0  \n",
       "5        1674       42852   152.00       1.0  \n",
       "6        1674       42939  2915.00       1.0  \n",
       "7        1674       42940  2162.00       2.0  \n",
       "8        1674       42905   456.00       3.0  \n",
       "9        1674       42894   515.00       2.0  "
      ]
     },
     "execution_count": 68,
     "metadata": {},
     "output_type": "execute_result"
    }
   ],
   "source": [
    "dfven.describe()\n",
    "dfven.info()\n",
    "dfven.head(10)"
   ]
  },
  {
   "cell_type": "code",
   "execution_count": 70,
   "metadata": {},
   "outputs": [
    {
     "data": {
      "text/plain": [
       "1816"
      ]
     },
     "execution_count": 70,
     "metadata": {},
     "output_type": "execute_result"
    }
   ],
   "source": [
    "dfven.isnull().sum().sum()"
   ]
  },
  {
   "cell_type": "code",
   "execution_count": 55,
   "metadata": {},
   "outputs": [],
   "source": [
    "path_csvloca = r'C:\\Users\\Manuel Revelo\\Desktop\\proyecto individual\\DS-PI-ProyectoIndividual\\DS-PI-ProyectoIndividual\\Datasets\\Localidades.csv'\n",
    "dfloca= pd.read_csv(path_csvloca, sep=\",\") #, on_bad_lines='skip')"
   ]
  },
  {
   "cell_type": "code",
   "execution_count": 56,
   "metadata": {},
   "outputs": [
    {
     "data": {
      "text/plain": [
       "(4142, 14)"
      ]
     },
     "execution_count": 56,
     "metadata": {},
     "output_type": "execute_result"
    }
   ],
   "source": [
    "dfloca.shape"
   ]
  },
  {
   "cell_type": "code",
   "execution_count": 71,
   "metadata": {},
   "outputs": [
    {
     "data": {
      "text/plain": [
       "1039"
      ]
     },
     "execution_count": 71,
     "metadata": {},
     "output_type": "execute_result"
    }
   ],
   "source": [
    "dfloca.isnull().sum().sum()"
   ]
  },
  {
   "cell_type": "code",
   "execution_count": 57,
   "metadata": {},
   "outputs": [
    {
     "name": "stdout",
     "output_type": "stream",
     "text": [
      "<class 'pandas.core.frame.DataFrame'>\n",
      "RangeIndex: 4142 entries, 0 to 4141\n",
      "Data columns (total 14 columns):\n",
      " #   Column                   Non-Null Count  Dtype  \n",
      "---  ------                   --------------  -----  \n",
      " 0   categoria                4142 non-null   object \n",
      " 1   centroide_lat            4142 non-null   float64\n",
      " 2   centroide_lon            4142 non-null   float64\n",
      " 3   departamento_id          4141 non-null   float64\n",
      " 4   departamento_nombre      4141 non-null   object \n",
      " 5   fuente                   4142 non-null   object \n",
      " 6   id                       4142 non-null   int64  \n",
      " 7   localidad_censal_id      4142 non-null   int64  \n",
      " 8   localidad_censal_nombre  4142 non-null   object \n",
      " 9   municipio_id             3599 non-null   float64\n",
      " 10  municipio_nombre         3648 non-null   object \n",
      " 11  nombre                   4142 non-null   object \n",
      " 12  provincia_id             4142 non-null   int64  \n",
      " 13  provincia_nombre         4142 non-null   object \n",
      "dtypes: float64(4), int64(3), object(7)\n",
      "memory usage: 453.2+ KB\n"
     ]
    }
   ],
   "source": [
    "dfloca.info()"
   ]
  },
  {
   "cell_type": "code",
   "execution_count": 96,
   "metadata": {},
   "outputs": [],
   "source": [
    "path_csvpro = r'C:\\Users\\Manuel Revelo\\Desktop\\proyecto individual\\DS-PI-ProyectoIndividual\\DS-PI-ProyectoIndividual\\Datasets\\Proveedores.csv'\n",
    "dfpro= pd.read_csv(path_csvpro, sep=\",\") #, on_bad_lines='skip')"
   ]
  },
  {
   "cell_type": "code",
   "execution_count": 97,
   "metadata": {},
   "outputs": [
    {
     "data": {
      "text/html": [
       "<div>\n",
       "<style scoped>\n",
       "    .dataframe tbody tr th:only-of-type {\n",
       "        vertical-align: middle;\n",
       "    }\n",
       "\n",
       "    .dataframe tbody tr th {\n",
       "        vertical-align: top;\n",
       "    }\n",
       "\n",
       "    .dataframe thead th {\n",
       "        text-align: right;\n",
       "    }\n",
       "</style>\n",
       "<table border=\"1\" class=\"dataframe\">\n",
       "  <thead>\n",
       "    <tr style=\"text-align: right;\">\n",
       "      <th></th>\n",
       "      <th>IDProveedor</th>\n",
       "      <th>Nombre</th>\n",
       "      <th>Address</th>\n",
       "      <th>City</th>\n",
       "      <th>State</th>\n",
       "      <th>Country</th>\n",
       "      <th>departamen</th>\n",
       "    </tr>\n",
       "  </thead>\n",
       "  <tbody>\n",
       "    <tr>\n",
       "      <th>0</th>\n",
       "      <td>1</td>\n",
       "      <td>NaN</td>\n",
       "      <td>BEREGUESTEIN 36</td>\n",
       "      <td>AVELLANEDA</td>\n",
       "      <td>BUENOS AIRES</td>\n",
       "      <td>ARGENTINA</td>\n",
       "      <td>AVELLANEDA</td>\n",
       "    </tr>\n",
       "    <tr>\n",
       "      <th>1</th>\n",
       "      <td>2</td>\n",
       "      <td>San Cirano</td>\n",
       "      <td>ALBERTI 965</td>\n",
       "      <td>CORONEL BRANDSEN</td>\n",
       "      <td>BUENOS AIRES</td>\n",
       "      <td>ARGENTINA</td>\n",
       "      <td>BRANDSEN</td>\n",
       "    </tr>\n",
       "    <tr>\n",
       "      <th>2</th>\n",
       "      <td>3</td>\n",
       "      <td>Bell S.A.</td>\n",
       "      <td>MORENO 331</td>\n",
       "      <td>CAMPANA</td>\n",
       "      <td>BUENOS AIRES</td>\n",
       "      <td>ARGENTINA</td>\n",
       "      <td>CAMPANA</td>\n",
       "    </tr>\n",
       "    <tr>\n",
       "      <th>3</th>\n",
       "      <td>4</td>\n",
       "      <td>Rivero Insumos</td>\n",
       "      <td>PTE. PERON 3872</td>\n",
       "      <td>VALENTIN ALSINA</td>\n",
       "      <td>BUENOS AIRES</td>\n",
       "      <td>ARGENTINA</td>\n",
       "      <td>LANUS</td>\n",
       "    </tr>\n",
       "    <tr>\n",
       "      <th>4</th>\n",
       "      <td>5</td>\n",
       "      <td>Laprida Computacion</td>\n",
       "      <td>AVDA. PEDRO PEREYRA 1339</td>\n",
       "      <td>LAPRIDA</td>\n",
       "      <td>BUENOS AIRES</td>\n",
       "      <td>ARGENTINA</td>\n",
       "      <td>LAPRIDA</td>\n",
       "    </tr>\n",
       "  </tbody>\n",
       "</table>\n",
       "</div>"
      ],
      "text/plain": [
       "   IDProveedor               Nombre                   Address  \\\n",
       "0            1                  NaN           BEREGUESTEIN 36   \n",
       "1            2           San Cirano               ALBERTI 965   \n",
       "2            3            Bell S.A.                MORENO 331   \n",
       "3            4       Rivero Insumos           PTE. PERON 3872   \n",
       "4            5  Laprida Computacion  AVDA. PEDRO PEREYRA 1339   \n",
       "\n",
       "               City         State    Country  departamen  \n",
       "0        AVELLANEDA  BUENOS AIRES  ARGENTINA  AVELLANEDA  \n",
       "1  CORONEL BRANDSEN  BUENOS AIRES  ARGENTINA    BRANDSEN  \n",
       "2           CAMPANA  BUENOS AIRES  ARGENTINA     CAMPANA  \n",
       "3   VALENTIN ALSINA  BUENOS AIRES  ARGENTINA       LANUS  \n",
       "4           LAPRIDA  BUENOS AIRES  ARGENTINA     LAPRIDA  "
      ]
     },
     "execution_count": 97,
     "metadata": {},
     "output_type": "execute_result"
    }
   ],
   "source": [
    "dfpro.head(5)"
   ]
  },
  {
   "cell_type": "code",
   "execution_count": 98,
   "metadata": {},
   "outputs": [
    {
     "data": {
      "text/plain": [
       "(14, 7)"
      ]
     },
     "execution_count": 98,
     "metadata": {},
     "output_type": "execute_result"
    }
   ],
   "source": [
    "dfpro.shape"
   ]
  },
  {
   "cell_type": "code",
   "execution_count": 99,
   "metadata": {},
   "outputs": [
    {
     "name": "stdout",
     "output_type": "stream",
     "text": [
      "<class 'pandas.core.frame.DataFrame'>\n",
      "RangeIndex: 14 entries, 0 to 13\n",
      "Data columns (total 7 columns):\n",
      " #   Column       Non-Null Count  Dtype \n",
      "---  ------       --------------  ----- \n",
      " 0   IDProveedor  14 non-null     int64 \n",
      " 1   Nombre       12 non-null     object\n",
      " 2   Address      14 non-null     object\n",
      " 3   City         14 non-null     object\n",
      " 4   State        14 non-null     object\n",
      " 5   Country      14 non-null     object\n",
      " 6   departamen   14 non-null     object\n",
      "dtypes: int64(1), object(6)\n",
      "memory usage: 912.0+ bytes\n"
     ]
    }
   ],
   "source": [
    "dfpro.info()"
   ]
  },
  {
   "cell_type": "code",
   "execution_count": 100,
   "metadata": {},
   "outputs": [
    {
     "data": {
      "text/plain": [
       "IDProveedor    0\n",
       "Nombre         2\n",
       "Address        0\n",
       "City           0\n",
       "State          0\n",
       "Country        0\n",
       "departamen     0\n",
       "dtype: int64"
      ]
     },
     "execution_count": 100,
     "metadata": {},
     "output_type": "execute_result"
    }
   ],
   "source": [
    "dfpro.isnull().sum()"
   ]
  },
  {
   "cell_type": "code",
   "execution_count": 48,
   "metadata": {},
   "outputs": [],
   "source": [
    "path_csvsu = r'C:\\Users\\Manuel Revelo\\Desktop\\proyecto individual\\DS-PI-ProyectoIndividual\\DS-PI-ProyectoIndividual\\Datasets\\Sucursales.csv'\n",
    "dfsu= pd.read_csv(path_csvsu, sep=\";\") #, on_bad_lines='skip')"
   ]
  },
  {
   "cell_type": "code",
   "execution_count": 52,
   "metadata": {},
   "outputs": [
    {
     "data": {
      "text/plain": [
       "(31, 7)"
      ]
     },
     "execution_count": 52,
     "metadata": {},
     "output_type": "execute_result"
    }
   ],
   "source": [
    "dfsu.shape"
   ]
  },
  {
   "cell_type": "code",
   "execution_count": 50,
   "metadata": {},
   "outputs": [
    {
     "name": "stdout",
     "output_type": "stream",
     "text": [
      "<class 'pandas.core.frame.DataFrame'>\n",
      "RangeIndex: 31 entries, 0 to 30\n",
      "Data columns (total 7 columns):\n",
      " #   Column     Non-Null Count  Dtype \n",
      "---  ------     --------------  ----- \n",
      " 0   ID         31 non-null     int64 \n",
      " 1   Sucursal   31 non-null     object\n",
      " 2   Direccion  31 non-null     object\n",
      " 3   Localidad  31 non-null     object\n",
      " 4   Provincia  31 non-null     object\n",
      " 5   Latitud    31 non-null     object\n",
      " 6   Longitud   31 non-null     object\n",
      "dtypes: int64(1), object(6)\n",
      "memory usage: 1.8+ KB\n"
     ]
    }
   ],
   "source": [
    "dfsu.info()"
   ]
  },
  {
   "cell_type": "code",
   "execution_count": 133,
   "metadata": {},
   "outputs": [
    {
     "data": {
      "text/plain": [
       "ID           0\n",
       "Sucursal     0\n",
       "Direccion    0\n",
       "Localidad    0\n",
       "Provincia    0\n",
       "Latitud      0\n",
       "Longitud     0\n",
       "dtype: int64"
      ]
     },
     "execution_count": 133,
     "metadata": {},
     "output_type": "execute_result"
    }
   ],
   "source": [
    "dfsu.isnull().sum()"
   ]
  },
  {
   "cell_type": "code",
   "execution_count": 134,
   "metadata": {},
   "outputs": [
    {
     "data": {
      "text/html": [
       "<div>\n",
       "<style scoped>\n",
       "    .dataframe tbody tr th:only-of-type {\n",
       "        vertical-align: middle;\n",
       "    }\n",
       "\n",
       "    .dataframe tbody tr th {\n",
       "        vertical-align: top;\n",
       "    }\n",
       "\n",
       "    .dataframe thead th {\n",
       "        text-align: right;\n",
       "    }\n",
       "</style>\n",
       "<table border=\"1\" class=\"dataframe\">\n",
       "  <thead>\n",
       "    <tr style=\"text-align: right;\">\n",
       "      <th></th>\n",
       "      <th>ID</th>\n",
       "      <th>Sucursal</th>\n",
       "      <th>Direccion</th>\n",
       "      <th>Localidad</th>\n",
       "      <th>Provincia</th>\n",
       "      <th>Latitud</th>\n",
       "      <th>Longitud</th>\n",
       "    </tr>\n",
       "  </thead>\n",
       "  <tbody>\n",
       "    <tr>\n",
       "      <th>0</th>\n",
       "      <td>1</td>\n",
       "      <td>Cabildo</td>\n",
       "      <td>Av. Cabildo 1342</td>\n",
       "      <td>Ciudad de Buenos Aires</td>\n",
       "      <td>Ciudad de Buenos Aires</td>\n",
       "      <td>-34,5678060</td>\n",
       "      <td>-58,4495720</td>\n",
       "    </tr>\n",
       "    <tr>\n",
       "      <th>1</th>\n",
       "      <td>2</td>\n",
       "      <td>Palermo 1</td>\n",
       "      <td>Guatemala 5701</td>\n",
       "      <td>CABA</td>\n",
       "      <td>CABA</td>\n",
       "      <td>-34,5790350</td>\n",
       "      <td>-58,4335660</td>\n",
       "    </tr>\n",
       "    <tr>\n",
       "      <th>2</th>\n",
       "      <td>3</td>\n",
       "      <td>Palermo 2</td>\n",
       "      <td>Gral. Lucio Norberto Mansilla 2668</td>\n",
       "      <td>CABA</td>\n",
       "      <td>C deBuenos Aires</td>\n",
       "      <td>-34,5959660</td>\n",
       "      <td>-58,4051500</td>\n",
       "    </tr>\n",
       "    <tr>\n",
       "      <th>3</th>\n",
       "      <td>4</td>\n",
       "      <td>Corrientes</td>\n",
       "      <td>Av. Corrientes 2352</td>\n",
       "      <td>Ciudad de Buenos Aires</td>\n",
       "      <td>Bs As</td>\n",
       "      <td>-34,6046850</td>\n",
       "      <td>-58,3987640</td>\n",
       "    </tr>\n",
       "    <tr>\n",
       "      <th>4</th>\n",
       "      <td>5</td>\n",
       "      <td>Almagro</td>\n",
       "      <td>Venezuela 3650</td>\n",
       "      <td>Capital</td>\n",
       "      <td>Bs.As.</td>\n",
       "      <td>-34,6173080</td>\n",
       "      <td>-58,4161790</td>\n",
       "    </tr>\n",
       "  </tbody>\n",
       "</table>\n",
       "</div>"
      ],
      "text/plain": [
       "   ID    Sucursal                           Direccion               Localidad  \\\n",
       "0   1     Cabildo                    Av. Cabildo 1342  Ciudad de Buenos Aires   \n",
       "1   2   Palermo 1                      Guatemala 5701                    CABA   \n",
       "2   3   Palermo 2  Gral. Lucio Norberto Mansilla 2668                    CABA   \n",
       "3   4  Corrientes                 Av. Corrientes 2352  Ciudad de Buenos Aires   \n",
       "4   5     Almagro                      Venezuela 3650                 Capital   \n",
       "\n",
       "                Provincia      Latitud     Longitud  \n",
       "0  Ciudad de Buenos Aires  -34,5678060  -58,4495720  \n",
       "1                    CABA  -34,5790350  -58,4335660  \n",
       "2        C deBuenos Aires  -34,5959660  -58,4051500  \n",
       "3                   Bs As  -34,6046850  -58,3987640  \n",
       "4                 Bs.As.   -34,6173080  -58,4161790  "
      ]
     },
     "execution_count": 134,
     "metadata": {},
     "output_type": "execute_result"
    }
   ],
   "source": [
    "dfsu.head(5)"
   ]
  },
  {
   "cell_type": "code",
   "execution_count": 2,
   "metadata": {},
   "outputs": [],
   "source": [
    "import pandas as pd\n",
    "import numpy as np \n",
    "import os"
   ]
  },
  {
   "cell_type": "code",
   "execution_count": 41,
   "metadata": {},
   "outputs": [
    {
     "data": {
      "text/html": [
       "<div>\n",
       "<style scoped>\n",
       "    .dataframe tbody tr th:only-of-type {\n",
       "        vertical-align: middle;\n",
       "    }\n",
       "\n",
       "    .dataframe tbody tr th {\n",
       "        vertical-align: top;\n",
       "    }\n",
       "\n",
       "    .dataframe thead th {\n",
       "        text-align: right;\n",
       "    }\n",
       "</style>\n",
       "<table border=\"1\" class=\"dataframe\">\n",
       "  <thead>\n",
       "    <tr style=\"text-align: right;\">\n",
       "      <th></th>\n",
       "      <th>ID</th>\n",
       "      <th>Provincia</th>\n",
       "      <th>Nombre_y_Apellido</th>\n",
       "      <th>Domicilio</th>\n",
       "      <th>Telefono</th>\n",
       "      <th>Edad</th>\n",
       "      <th>Localidad</th>\n",
       "      <th>X</th>\n",
       "      <th>Y</th>\n",
       "    </tr>\n",
       "  </thead>\n",
       "  <tbody>\n",
       "    <tr>\n",
       "      <th>0</th>\n",
       "      <td>1</td>\n",
       "      <td>Buenos Aires</td>\n",
       "      <td>HEBER JONI SANTANA</td>\n",
       "      <td>LAS HERAS Y BAT. 24 DE FEBRERO 4150  RINCON DE...</td>\n",
       "      <td>42-5161</td>\n",
       "      <td>58</td>\n",
       "      <td>LOMA VERDE</td>\n",
       "      <td>-58,81850307</td>\n",
       "      <td>-34,30997088</td>\n",
       "    </tr>\n",
       "    <tr>\n",
       "      <th>1</th>\n",
       "      <td>2</td>\n",
       "      <td>Buenos Aires</td>\n",
       "      <td>ANA SAPRIZA</td>\n",
       "      <td>PUEYRREDON Y DUPUY RUTA3 KM 52.500 S/N  BÂº LO...</td>\n",
       "      <td>49-7578</td>\n",
       "      <td>61</td>\n",
       "      <td>SANTA ROSA</td>\n",
       "      <td>-58,73073751</td>\n",
       "      <td>-34,93908311</td>\n",
       "    </tr>\n",
       "    <tr>\n",
       "      <th>2</th>\n",
       "      <td>3</td>\n",
       "      <td>Buenos Aires</td>\n",
       "      <td>FERNANDO LUIS SARALEGUI</td>\n",
       "      <td>CALDERON DE LA BARCA 498</td>\n",
       "      <td>49-3435</td>\n",
       "      <td>15</td>\n",
       "      <td>TORRES</td>\n",
       "      <td>-59,12794068</td>\n",
       "      <td>-34,43082199</td>\n",
       "    </tr>\n",
       "    <tr>\n",
       "      <th>3</th>\n",
       "      <td>4</td>\n",
       "      <td>Buenos Aires</td>\n",
       "      <td>MANUELA SARASOLA</td>\n",
       "      <td>RUTA 36 KM 45,500 S/N  EL PELIGRO</td>\n",
       "      <td>49-2883</td>\n",
       "      <td>29</td>\n",
       "      <td>RUTA SOL</td>\n",
       "      <td>-58,14393954</td>\n",
       "      <td>-34,92052706</td>\n",
       "    </tr>\n",
       "    <tr>\n",
       "      <th>4</th>\n",
       "      <td>5</td>\n",
       "      <td>Buenos Aires</td>\n",
       "      <td>MARIO RAÚL SARASUA</td>\n",
       "      <td>492 Y 186 S/N  COLONIA URQUIZA</td>\n",
       "      <td>491-4608</td>\n",
       "      <td>34</td>\n",
       "      <td>JOSE MELCHOR ROMERO</td>\n",
       "      <td>-58,089381</td>\n",
       "      <td>-34,9444471</td>\n",
       "    </tr>\n",
       "  </tbody>\n",
       "</table>\n",
       "</div>"
      ],
      "text/plain": [
       "   ID     Provincia        Nombre_y_Apellido  \\\n",
       "0   1  Buenos Aires       HEBER JONI SANTANA   \n",
       "1   2  Buenos Aires              ANA SAPRIZA   \n",
       "2   3  Buenos Aires  FERNANDO LUIS SARALEGUI   \n",
       "3   4  Buenos Aires         MANUELA SARASOLA   \n",
       "4   5  Buenos Aires       MARIO RAÚL SARASUA   \n",
       "\n",
       "                                           Domicilio  Telefono  Edad  \\\n",
       "0  LAS HERAS Y BAT. 24 DE FEBRERO 4150  RINCON DE...   42-5161    58   \n",
       "1  PUEYRREDON Y DUPUY RUTA3 KM 52.500 S/N  BÂº LO...   49-7578    61   \n",
       "2                           CALDERON DE LA BARCA 498   49-3435    15   \n",
       "3                  RUTA 36 KM 45,500 S/N  EL PELIGRO   49-2883    29   \n",
       "4                     492 Y 186 S/N  COLONIA URQUIZA  491-4608    34   \n",
       "\n",
       "             Localidad             X             Y  \n",
       "0           LOMA VERDE  -58,81850307  -34,30997088  \n",
       "1           SANTA ROSA  -58,73073751  -34,93908311  \n",
       "2               TORRES  -59,12794068  -34,43082199  \n",
       "3             RUTA SOL  -58,14393954  -34,92052706  \n",
       "4  JOSE MELCHOR ROMERO    -58,089381   -34,9444471  "
      ]
     },
     "execution_count": 41,
     "metadata": {},
     "output_type": "execute_result"
    }
   ],
   "source": [
    "dfc.head(5)"
   ]
  },
  {
   "cell_type": "code",
   "execution_count": 162,
   "metadata": {},
   "outputs": [
    {
     "data": {
      "text/plain": [
       "df_clientes       int64\n",
       "df_clientes2      int64\n",
       "df_compras        int64\n",
       "df_gastos         int64\n",
       "df_ventas         int64\n",
       "df_localidades    int64\n",
       "df_proveedores    int64\n",
       "dtype: object"
      ]
     },
     "execution_count": 162,
     "metadata": {},
     "output_type": "execute_result"
    }
   ],
   "source": [
    "tabla_resumen.dtypes"
   ]
  },
  {
   "cell_type": "code",
   "execution_count": 88,
   "metadata": {},
   "outputs": [
    {
     "data": {
      "text/plain": [
       "23787"
      ]
     },
     "execution_count": 88,
     "metadata": {},
     "output_type": "execute_result"
    }
   ],
   "source": [
    "dfct=dfc.shape[0]*dfc.shape[1]#datos total clientes\n",
    "dfct\n",
    "len(dfc)#cant registros\n",
    "dfcn=dfc.isnull().sum().sum()#datos nulos clientes\n",
    "dfcn\n",
    "dfcsn=dfct-dfcn#datos sin null clientes\n",
    "dfcsn"
   ]
  },
  {
   "cell_type": "code",
   "execution_count": 109,
   "metadata": {},
   "outputs": [
    {
     "data": {
      "text/plain": [
       "6507"
      ]
     },
     "execution_count": 109,
     "metadata": {},
     "output_type": "execute_result"
    }
   ],
   "source": [
    "#df_clientes2\n",
    "dfC2t=dfC2.shape[0]*dfC2.shape[1]#datos total\n",
    "dfC2t\n",
    "\n",
    "len(dfC2)#cant registros\n",
    "\n",
    "dfC2n=dfC2.isnull().sum().sum()#datos nulos clientes 2\n",
    "dfC2n\n",
    "\n",
    "dfC2sn=dfC2t-dfC2n#datos sin null clientes 2\n",
    "dfC2sn"
   ]
  },
  {
   "cell_type": "code",
   "execution_count": 95,
   "metadata": {},
   "outputs": [
    {
     "data": {
      "text/plain": [
       "103484"
      ]
     },
     "execution_count": 95,
     "metadata": {},
     "output_type": "execute_result"
    }
   ],
   "source": [
    "#df_compra\n",
    "dfcot=dfco.shape[0]*dfco.shape[1]#datos total\n",
    "dfcot\n",
    "len(dfco)#cant registros\n",
    "dfcon=dfco.isnull().sum().sum()#datos nulos\n",
    "dfcon\n",
    "dfcosn=dfcot-dfcon#datos sin null\n",
    "dfcosn"
   ]
  },
  {
   "cell_type": "code",
   "execution_count": 94,
   "metadata": {},
   "outputs": [
    {
     "data": {
      "text/plain": [
       "43200"
      ]
     },
     "execution_count": 94,
     "metadata": {},
     "output_type": "execute_result"
    }
   ],
   "source": [
    "#df_gasto\n",
    "dfgat=dfga.shape[0]*dfga.shape[1]#datos total\n",
    "dfgat\n",
    "len(dfga)#cant registros\n",
    "dfgan=dfga.isnull().sum().sum()#datos nulos\n",
    "dfgan\n",
    "dfgasn=dfgat-dfgan#datos sin null\n",
    "dfgasn"
   ]
  },
  {
   "cell_type": "code",
   "execution_count": 92,
   "metadata": {},
   "outputs": [
    {
     "data": {
      "text/plain": [
       "464634"
      ]
     },
     "execution_count": 92,
     "metadata": {},
     "output_type": "execute_result"
    }
   ],
   "source": [
    "#df_ventas\n",
    "dfvent=dfven.shape[0]*dfven.shape[1]#datos total\n",
    "dfvent\n",
    "len(dfven)#cant registros\n",
    "dfvenn=dfven.isnull().sum().sum()#datos nulos\n",
    "dfvenn\n",
    "dfvensn=dfvent-dfvenn#datos sin null\n",
    "dfvensn"
   ]
  },
  {
   "cell_type": "code",
   "execution_count": 93,
   "metadata": {},
   "outputs": [
    {
     "data": {
      "text/plain": [
       "56949"
      ]
     },
     "execution_count": 93,
     "metadata": {},
     "output_type": "execute_result"
    }
   ],
   "source": [
    "#df_localidades\n",
    "dflocat=dfloca.shape[0]*dfloca.shape[1]#datos total\n",
    "dflocat\n",
    "len(dfloca)#cant registros\n",
    "dflocan=dfloca.isnull().sum().sum()#datos nulos\n",
    "dflocan\n",
    "dflocasn=dflocat-dflocan#datos sin null\n",
    "dflocasn"
   ]
  },
  {
   "cell_type": "code",
   "execution_count": 114,
   "metadata": {},
   "outputs": [
    {
     "data": {
      "text/plain": [
       "96"
      ]
     },
     "execution_count": 114,
     "metadata": {},
     "output_type": "execute_result"
    }
   ],
   "source": [
    "#df_proveedores\n",
    "dfprot=dfpro.shape[0]*dfpro.shape[1]#datos total\n",
    "dfprot\n",
    "len(dfpro)#cant registros\n",
    "dfpron=dfpro.isnull().sum().sum()#datos nulos\n",
    "dfpron\n",
    "dfprosn=dfprot-dfpron#datos sin null\n",
    "dfprosn"
   ]
  },
  {
   "cell_type": "code",
   "execution_count": 90,
   "metadata": {},
   "outputs": [
    {
     "data": {
      "text/plain": [
       "217"
      ]
     },
     "execution_count": 90,
     "metadata": {},
     "output_type": "execute_result"
    }
   ],
   "source": [
    "#df_sucursales\n",
    "dfsut=dfsu.shape[0]*dfsu.shape[1]#datos total\n",
    "dfsut\n",
    "len(dfsu)#cant registros\n",
    "dfsun=dfsu.isnull().sum().sum()#datos nulos\n",
    "dfsun\n",
    "dfsusn=dfsut-dfsun#datos sin null\n",
    "dfsusn"
   ]
  },
  {
   "cell_type": "code",
   "execution_count": 159,
   "metadata": {},
   "outputs": [],
   "source": [
    "df_clientes= pd.DataFrame({'df_clientes':[dfct,len(dfc),dfcn,dfcsn]},index=['total_datos', 'cantidad_registros','datos_null','datos_sin_null'],)\n",
    "df_clientes2= pd.DataFrame({'df_clientes2':[dfC2t,len(dfC2),dfC2n,dfC2sn]},index=['total_datos', 'cantidad_registros','datos_null','datos_sin_null'],)\n",
    "df_compra= pd.DataFrame({'df_compras':[dfcot,len(dfco),dfcon,dfcosn]},index=['total_datos', 'cantidad_registros','datos_null','datos_sin_null'],)\n",
    "df_gasto= pd.DataFrame({'df_gastos':[dfgat,len(dfga),dfgan,dfgasn]},index=['total_datos', 'cantidad_registros','datos_null','datos_sin_null'],)\n",
    "df_venta= pd.DataFrame({'df_ventas':[dfvent,len(dfven),dfvenn,dfvensn]},index=['total_datos', 'cantidad_registros','datos_null','datos_sin_null'],)\n",
    "df_localidades= pd.DataFrame({'df_localidades':[dflocat,len(dfloca),dflocan,dflocasn]},index=['total_datos', 'cantidad_registros','datos_null','datos_sin_null'],)\n",
    "df_proveedores= pd.DataFrame({'df_proveedores':[dfprot,len(dfpro),dfpron,dfprosn]},index=['total_datos', 'cantidad_registros','datos_null','datos_sin_null'],)"
   ]
  },
  {
   "cell_type": "code",
   "execution_count": 165,
   "metadata": {},
   "outputs": [
    {
     "data": {
      "text/html": [
       "<div>\n",
       "<style scoped>\n",
       "    .dataframe tbody tr th:only-of-type {\n",
       "        vertical-align: middle;\n",
       "    }\n",
       "\n",
       "    .dataframe tbody tr th {\n",
       "        vertical-align: top;\n",
       "    }\n",
       "\n",
       "    .dataframe thead th {\n",
       "        text-align: right;\n",
       "    }\n",
       "</style>\n",
       "<table border=\"1\" class=\"dataframe\">\n",
       "  <thead>\n",
       "    <tr style=\"text-align: right;\">\n",
       "      <th></th>\n",
       "      <th>df_clientes</th>\n",
       "      <th>df_clientes2</th>\n",
       "      <th>df_compras</th>\n",
       "      <th>df_gastos</th>\n",
       "      <th>df_ventas</th>\n",
       "      <th>df_localidades</th>\n",
       "      <th>df_proveedores</th>\n",
       "    </tr>\n",
       "  </thead>\n",
       "  <tbody>\n",
       "    <tr>\n",
       "      <th>total_datos</th>\n",
       "      <td>24048</td>\n",
       "      <td>6615</td>\n",
       "      <td>103851</td>\n",
       "      <td>43200</td>\n",
       "      <td>466450</td>\n",
       "      <td>57988</td>\n",
       "      <td>98</td>\n",
       "    </tr>\n",
       "    <tr>\n",
       "      <th>cantidad_registros</th>\n",
       "      <td>2672</td>\n",
       "      <td>735</td>\n",
       "      <td>11539</td>\n",
       "      <td>8640</td>\n",
       "      <td>46645</td>\n",
       "      <td>4142</td>\n",
       "      <td>14</td>\n",
       "    </tr>\n",
       "    <tr>\n",
       "      <th>datos_null</th>\n",
       "      <td>261</td>\n",
       "      <td>108</td>\n",
       "      <td>367</td>\n",
       "      <td>0</td>\n",
       "      <td>1816</td>\n",
       "      <td>1039</td>\n",
       "      <td>2</td>\n",
       "    </tr>\n",
       "    <tr>\n",
       "      <th>datos_sin_null</th>\n",
       "      <td>23787</td>\n",
       "      <td>6507</td>\n",
       "      <td>103484</td>\n",
       "      <td>43200</td>\n",
       "      <td>464634</td>\n",
       "      <td>56949</td>\n",
       "      <td>96</td>\n",
       "    </tr>\n",
       "  </tbody>\n",
       "</table>\n",
       "</div>"
      ],
      "text/plain": [
       "                    df_clientes  df_clientes2  df_compras  df_gastos  \\\n",
       "total_datos               24048          6615      103851      43200   \n",
       "cantidad_registros         2672           735       11539       8640   \n",
       "datos_null                  261           108         367          0   \n",
       "datos_sin_null            23787          6507      103484      43200   \n",
       "\n",
       "                    df_ventas  df_localidades  df_proveedores  \n",
       "total_datos            466450           57988              98  \n",
       "cantidad_registros      46645            4142              14  \n",
       "datos_null               1816            1039               2  \n",
       "datos_sin_null         464634           56949              96  "
      ]
     },
     "execution_count": 165,
     "metadata": {},
     "output_type": "execute_result"
    }
   ],
   "source": [
    "frames=[df_clientes,df_clientes2,df_compra,df_gasto,df_venta,df_localidades,df_proveedores]\n",
    "tabla_resumen = pd.concat(frames, axis=1)\n",
    "tabla_resumen\n"
   ]
  },
  {
   "cell_type": "code",
   "execution_count": 169,
   "metadata": {},
   "outputs": [
    {
     "data": {
      "text/plain": [
       "<AxesSubplot:>"
      ]
     },
     "execution_count": 169,
     "metadata": {},
     "output_type": "execute_result"
    },
    {
     "data": {
      "image/png": "[encoded data removed]",
      "text/plain": [
       "<Figure size 432x288 with 2 Axes>"
      ]
     },
     "metadata": {
      "needs_background": "light"
     },
     "output_type": "display_data"
    }
   ],
   "source": [
    "import seaborn as sns\n",
    "sns.heatmap(dfven.isnull(), cbar=True)\n"
   ]
  },
  {
   "cell_type": "code",
   "execution_count": 178,
   "metadata": {},
   "outputs": [
    {
     "ename": "ValueError",
     "evalue": "Value of 'values' is not the name of a column in 'data_frame'. Expected one of ['IdProducto', 'IdVenta', 'Fecha', 'Fecha_Entrega', 'IdCanal', 'IdCliente', 'IdSucursal', 'IdEmpleado', 'Precio', 'Cantidad'] but received: count",
     "output_type": "error",
     "traceback": [
      "\u001b[1;31m---------------------------------------------------------------------------\u001b[0m",
      "\u001b[1;31mValueError\u001b[0m                                Traceback (most recent call last)",
      "\u001b[1;32mc:\\Users\\Manuel Revelo\\Desktop\\proyecto individual\\DS-PI-ProyectoIndividual\\DS-PI-ProyectoIndividual\\ETL con Pandas.ipynb Cell 62'\u001b[0m in \u001b[0;36m<cell line: 4>\u001b[1;34m()\u001b[0m\n\u001b[0;32m      <a href='vscode-notebook-cell:/c%3A/Users/Manuel%20Revelo/Desktop/proyecto%20individual/DS-PI-ProyectoIndividual/DS-PI-ProyectoIndividual/ETL%20con%20Pandas.ipynb#ch0000076?line=1'>2</a>\u001b[0m dfventa\u001b[39m=\u001b[39mdfven\u001b[39m.\u001b[39mgroupby(\u001b[39m'\u001b[39m\u001b[39mIdProducto\u001b[39m\u001b[39m'\u001b[39m)\u001b[39m.\u001b[39mcount()\u001b[39m.\u001b[39mreset_index()\n\u001b[0;32m      <a href='vscode-notebook-cell:/c%3A/Users/Manuel%20Revelo/Desktop/proyecto%20individual/DS-PI-ProyectoIndividual/DS-PI-ProyectoIndividual/ETL%20con%20Pandas.ipynb#ch0000076?line=2'>3</a>\u001b[0m dfventa\n\u001b[1;32m----> <a href='vscode-notebook-cell:/c%3A/Users/Manuel%20Revelo/Desktop/proyecto%20individual/DS-PI-ProyectoIndividual/DS-PI-ProyectoIndividual/ETL%20con%20Pandas.ipynb#ch0000076?line=3'>4</a>\u001b[0m px\u001b[39m.\u001b[39;49mpie(dfventa, values\u001b[39m=\u001b[39;49m\u001b[39m'\u001b[39;49m\u001b[39mcount\u001b[39;49m\u001b[39m'\u001b[39;49m)\n",
      "File \u001b[1;32mc:\\Users\\Manuel Revelo\\AppData\\Local\\Programs\\Python\\Python310\\lib\\site-packages\\plotly\\express\\_chart_types.py:1473\u001b[0m, in \u001b[0;36mpie\u001b[1;34m(data_frame, names, values, color, color_discrete_sequence, color_discrete_map, hover_name, hover_data, custom_data, labels, title, template, width, height, opacity, hole)\u001b[0m\n\u001b[0;32m   <a href='file:///c%3A/Users/Manuel%20Revelo/AppData/Local/Programs/Python/Python310/lib/site-packages/plotly/express/_chart_types.py?line=1470'>1471</a>\u001b[0m \u001b[39melse\u001b[39;00m:\n\u001b[0;32m   <a href='file:///c%3A/Users/Manuel%20Revelo/AppData/Local/Programs/Python/Python310/lib/site-packages/plotly/express/_chart_types.py?line=1471'>1472</a>\u001b[0m     layout_patch \u001b[39m=\u001b[39m {}\n\u001b[1;32m-> <a href='file:///c%3A/Users/Manuel%20Revelo/AppData/Local/Programs/Python/Python310/lib/site-packages/plotly/express/_chart_types.py?line=1472'>1473</a>\u001b[0m \u001b[39mreturn\u001b[39;00m make_figure(\n\u001b[0;32m   <a href='file:///c%3A/Users/Manuel%20Revelo/AppData/Local/Programs/Python/Python310/lib/site-packages/plotly/express/_chart_types.py?line=1473'>1474</a>\u001b[0m     args\u001b[39m=\u001b[39;49m\u001b[39mlocals\u001b[39;49m(),\n\u001b[0;32m   <a href='file:///c%3A/Users/Manuel%20Revelo/AppData/Local/Programs/Python/Python310/lib/site-packages/plotly/express/_chart_types.py?line=1474'>1475</a>\u001b[0m     constructor\u001b[39m=\u001b[39;49mgo\u001b[39m.\u001b[39;49mPie,\n\u001b[0;32m   <a href='file:///c%3A/Users/Manuel%20Revelo/AppData/Local/Programs/Python/Python310/lib/site-packages/plotly/express/_chart_types.py?line=1475'>1476</a>\u001b[0m     trace_patch\u001b[39m=\u001b[39;49m\u001b[39mdict\u001b[39;49m(showlegend\u001b[39m=\u001b[39;49m(names \u001b[39mis\u001b[39;49;00m \u001b[39mnot\u001b[39;49;00m \u001b[39mNone\u001b[39;49;00m), hole\u001b[39m=\u001b[39;49mhole),\n\u001b[0;32m   <a href='file:///c%3A/Users/Manuel%20Revelo/AppData/Local/Programs/Python/Python310/lib/site-packages/plotly/express/_chart_types.py?line=1476'>1477</a>\u001b[0m     layout_patch\u001b[39m=\u001b[39;49mlayout_patch,\n\u001b[0;32m   <a href='file:///c%3A/Users/Manuel%20Revelo/AppData/Local/Programs/Python/Python310/lib/site-packages/plotly/express/_chart_types.py?line=1477'>1478</a>\u001b[0m )\n",
      "File \u001b[1;32mc:\\Users\\Manuel Revelo\\AppData\\Local\\Programs\\Python\\Python310\\lib\\site-packages\\plotly\\express\\_core.py:1948\u001b[0m, in \u001b[0;36mmake_figure\u001b[1;34m(args, constructor, trace_patch, layout_patch)\u001b[0m\n\u001b[0;32m   <a href='file:///c%3A/Users/Manuel%20Revelo/AppData/Local/Programs/Python/Python310/lib/site-packages/plotly/express/_core.py?line=1944'>1945</a>\u001b[0m layout_patch \u001b[39m=\u001b[39m layout_patch \u001b[39mor\u001b[39;00m {}\n\u001b[0;32m   <a href='file:///c%3A/Users/Manuel%20Revelo/AppData/Local/Programs/Python/Python310/lib/site-packages/plotly/express/_core.py?line=1945'>1946</a>\u001b[0m apply_default_cascade(args)\n\u001b[1;32m-> <a href='file:///c%3A/Users/Manuel%20Revelo/AppData/Local/Programs/Python/Python310/lib/site-packages/plotly/express/_core.py?line=1947'>1948</a>\u001b[0m args \u001b[39m=\u001b[39m build_dataframe(args, constructor)\n\u001b[0;32m   <a href='file:///c%3A/Users/Manuel%20Revelo/AppData/Local/Programs/Python/Python310/lib/site-packages/plotly/express/_core.py?line=1948'>1949</a>\u001b[0m \u001b[39mif\u001b[39;00m constructor \u001b[39min\u001b[39;00m [go\u001b[39m.\u001b[39mTreemap, go\u001b[39m.\u001b[39mSunburst, go\u001b[39m.\u001b[39mIcicle] \u001b[39mand\u001b[39;00m args[\u001b[39m\"\u001b[39m\u001b[39mpath\u001b[39m\u001b[39m\"\u001b[39m] \u001b[39mis\u001b[39;00m \u001b[39mnot\u001b[39;00m \u001b[39mNone\u001b[39;00m:\n\u001b[0;32m   <a href='file:///c%3A/Users/Manuel%20Revelo/AppData/Local/Programs/Python/Python310/lib/site-packages/plotly/express/_core.py?line=1949'>1950</a>\u001b[0m     args \u001b[39m=\u001b[39m process_dataframe_hierarchy(args)\n",
      "File \u001b[1;32mc:\\Users\\Manuel Revelo\\AppData\\Local\\Programs\\Python\\Python310\\lib\\site-packages\\plotly\\express\\_core.py:1405\u001b[0m, in \u001b[0;36mbuild_dataframe\u001b[1;34m(args, constructor)\u001b[0m\n\u001b[0;32m   <a href='file:///c%3A/Users/Manuel%20Revelo/AppData/Local/Programs/Python/Python310/lib/site-packages/plotly/express/_core.py?line=1401'>1402</a>\u001b[0m     args[\u001b[39m\"\u001b[39m\u001b[39mcolor\u001b[39m\u001b[39m\"\u001b[39m] \u001b[39m=\u001b[39m \u001b[39mNone\u001b[39;00m\n\u001b[0;32m   <a href='file:///c%3A/Users/Manuel%20Revelo/AppData/Local/Programs/Python/Python310/lib/site-packages/plotly/express/_core.py?line=1402'>1403</a>\u001b[0m \u001b[39m# now that things have been prepped, we do the systematic rewriting of `args`\u001b[39;00m\n\u001b[1;32m-> <a href='file:///c%3A/Users/Manuel%20Revelo/AppData/Local/Programs/Python/Python310/lib/site-packages/plotly/express/_core.py?line=1404'>1405</a>\u001b[0m df_output, wide_id_vars \u001b[39m=\u001b[39m process_args_into_dataframe(\n\u001b[0;32m   <a href='file:///c%3A/Users/Manuel%20Revelo/AppData/Local/Programs/Python/Python310/lib/site-packages/plotly/express/_core.py?line=1405'>1406</a>\u001b[0m     args, wide_mode, var_name, value_name\n\u001b[0;32m   <a href='file:///c%3A/Users/Manuel%20Revelo/AppData/Local/Programs/Python/Python310/lib/site-packages/plotly/express/_core.py?line=1406'>1407</a>\u001b[0m )\n\u001b[0;32m   <a href='file:///c%3A/Users/Manuel%20Revelo/AppData/Local/Programs/Python/Python310/lib/site-packages/plotly/express/_core.py?line=1408'>1409</a>\u001b[0m \u001b[39m# now that `df_output` exists and `args` contains only references, we complete\u001b[39;00m\n\u001b[0;32m   <a href='file:///c%3A/Users/Manuel%20Revelo/AppData/Local/Programs/Python/Python310/lib/site-packages/plotly/express/_core.py?line=1409'>1410</a>\u001b[0m \u001b[39m# the special-case and wide-mode handling by further rewriting args and/or mutating\u001b[39;00m\n\u001b[0;32m   <a href='file:///c%3A/Users/Manuel%20Revelo/AppData/Local/Programs/Python/Python310/lib/site-packages/plotly/express/_core.py?line=1410'>1411</a>\u001b[0m \u001b[39m# df_output\u001b[39;00m\n\u001b[0;32m   <a href='file:///c%3A/Users/Manuel%20Revelo/AppData/Local/Programs/Python/Python310/lib/site-packages/plotly/express/_core.py?line=1412'>1413</a>\u001b[0m count_name \u001b[39m=\u001b[39m _escape_col_name(df_output, \u001b[39m\"\u001b[39m\u001b[39mcount\u001b[39m\u001b[39m\"\u001b[39m, [var_name, value_name])\n",
      "File \u001b[1;32mc:\\Users\\Manuel Revelo\\AppData\\Local\\Programs\\Python\\Python310\\lib\\site-packages\\plotly\\express\\_core.py:1207\u001b[0m, in \u001b[0;36mprocess_args_into_dataframe\u001b[1;34m(args, wide_mode, var_name, value_name)\u001b[0m\n\u001b[0;32m   <a href='file:///c%3A/Users/Manuel%20Revelo/AppData/Local/Programs/Python/Python310/lib/site-packages/plotly/express/_core.py?line=1204'>1205</a>\u001b[0m         \u001b[39mif\u001b[39;00m argument \u001b[39m==\u001b[39m \u001b[39m\"\u001b[39m\u001b[39mindex\u001b[39m\u001b[39m\"\u001b[39m:\n\u001b[0;32m   <a href='file:///c%3A/Users/Manuel%20Revelo/AppData/Local/Programs/Python/Python310/lib/site-packages/plotly/express/_core.py?line=1205'>1206</a>\u001b[0m             err_msg \u001b[39m+\u001b[39m\u001b[39m=\u001b[39m \u001b[39m\"\u001b[39m\u001b[39m\\n\u001b[39;00m\u001b[39m To use the index, pass it in directly as `df.index`.\u001b[39m\u001b[39m\"\u001b[39m\n\u001b[1;32m-> <a href='file:///c%3A/Users/Manuel%20Revelo/AppData/Local/Programs/Python/Python310/lib/site-packages/plotly/express/_core.py?line=1206'>1207</a>\u001b[0m         \u001b[39mraise\u001b[39;00m \u001b[39mValueError\u001b[39;00m(err_msg)\n\u001b[0;32m   <a href='file:///c%3A/Users/Manuel%20Revelo/AppData/Local/Programs/Python/Python310/lib/site-packages/plotly/express/_core.py?line=1207'>1208</a>\u001b[0m \u001b[39melif\u001b[39;00m length \u001b[39mand\u001b[39;00m \u001b[39mlen\u001b[39m(df_input[argument]) \u001b[39m!=\u001b[39m length:\n\u001b[0;32m   <a href='file:///c%3A/Users/Manuel%20Revelo/AppData/Local/Programs/Python/Python310/lib/site-packages/plotly/express/_core.py?line=1208'>1209</a>\u001b[0m     \u001b[39mraise\u001b[39;00m \u001b[39mValueError\u001b[39;00m(\n\u001b[0;32m   <a href='file:///c%3A/Users/Manuel%20Revelo/AppData/Local/Programs/Python/Python310/lib/site-packages/plotly/express/_core.py?line=1209'>1210</a>\u001b[0m         \u001b[39m\"\u001b[39m\u001b[39mAll arguments should have the same length. \u001b[39m\u001b[39m\"\u001b[39m\n\u001b[0;32m   <a href='file:///c%3A/Users/Manuel%20Revelo/AppData/Local/Programs/Python/Python310/lib/site-packages/plotly/express/_core.py?line=1210'>1211</a>\u001b[0m         \u001b[39m\"\u001b[39m\u001b[39mThe length of column argument `df[\u001b[39m\u001b[39m%s\u001b[39;00m\u001b[39m]` is \u001b[39m\u001b[39m%d\u001b[39;00m\u001b[39m, whereas the \u001b[39m\u001b[39m\"\u001b[39m\n\u001b[1;32m   (...)\u001b[0m\n\u001b[0;32m   <a href='file:///c%3A/Users/Manuel%20Revelo/AppData/Local/Programs/Python/Python310/lib/site-packages/plotly/express/_core.py?line=1217'>1218</a>\u001b[0m         )\n\u001b[0;32m   <a href='file:///c%3A/Users/Manuel%20Revelo/AppData/Local/Programs/Python/Python310/lib/site-packages/plotly/express/_core.py?line=1218'>1219</a>\u001b[0m     )\n",
      "\u001b[1;31mValueError\u001b[0m: Value of 'values' is not the name of a column in 'data_frame'. Expected one of ['IdProducto', 'IdVenta', 'Fecha', 'Fecha_Entrega', 'IdCanal', 'IdCliente', 'IdSucursal', 'IdEmpleado', 'Precio', 'Cantidad'] but received: count"
     ]
    }
   ],
   "source": [
    "import plotly.express as px\n",
    "dfventa=dfven.groupby('IdProducto').count().reset_index()\n",
    "dfventa\n",
    "px.pie(dfventa, values='count')"
   ]
  },
  {
   "cell_type": "code",
   "execution_count": 179,
   "metadata": {},
   "outputs": [
    {
     "ename": "AttributeError",
     "evalue": "module 'plotly.express' has no attribute 'dfven'",
     "output_type": "error",
     "traceback": [
      "\u001b[1;31m---------------------------------------------------------------------------\u001b[0m",
      "\u001b[1;31mAttributeError\u001b[0m                            Traceback (most recent call last)",
      "\u001b[1;32mc:\\Users\\Manuel Revelo\\Desktop\\proyecto individual\\DS-PI-ProyectoIndividual\\DS-PI-ProyectoIndividual\\ETL con Pandas.ipynb Cell 63'\u001b[0m in \u001b[0;36m<cell line: 4>\u001b[1;34m()\u001b[0m\n\u001b[0;32m      <a href='vscode-notebook-cell:/c%3A/Users/Manuel%20Revelo/Desktop/proyecto%20individual/DS-PI-ProyectoIndividual/DS-PI-ProyectoIndividual/ETL%20con%20Pandas.ipynb#ch0000077?line=0'>1</a>\u001b[0m \u001b[39mimport\u001b[39;00m \u001b[39mplotly\u001b[39;00m\u001b[39m.\u001b[39;00m\u001b[39mexpress\u001b[39;00m \u001b[39mas\u001b[39;00m \u001b[39mpx\u001b[39;00m\n\u001b[0;32m      <a href='vscode-notebook-cell:/c%3A/Users/Manuel%20Revelo/Desktop/proyecto%20individual/DS-PI-ProyectoIndividual/DS-PI-ProyectoIndividual/ETL%20con%20Pandas.ipynb#ch0000077?line=2'>3</a>\u001b[0m \u001b[39m# using the dataset\u001b[39;00m\n\u001b[1;32m----> <a href='vscode-notebook-cell:/c%3A/Users/Manuel%20Revelo/Desktop/proyecto%20individual/DS-PI-ProyectoIndividual/DS-PI-ProyectoIndividual/ETL%20con%20Pandas.ipynb#ch0000077?line=3'>4</a>\u001b[0m df \u001b[39m=\u001b[39m px\u001b[39m.\u001b[39;49mdfven\u001b[39m.\u001b[39mPrecio()\n\u001b[0;32m      <a href='vscode-notebook-cell:/c%3A/Users/Manuel%20Revelo/Desktop/proyecto%20individual/DS-PI-ProyectoIndividual/DS-PI-ProyectoIndividual/ETL%20con%20Pandas.ipynb#ch0000077?line=5'>6</a>\u001b[0m \u001b[39m# plotting the boxplot\u001b[39;00m\n\u001b[0;32m      <a href='vscode-notebook-cell:/c%3A/Users/Manuel%20Revelo/Desktop/proyecto%20individual/DS-PI-ProyectoIndividual/DS-PI-ProyectoIndividual/ETL%20con%20Pandas.ipynb#ch0000077?line=6'>7</a>\u001b[0m fig \u001b[39m=\u001b[39m px\u001b[39m.\u001b[39mbox(df, x\u001b[39m=\u001b[39m\u001b[39m\"\u001b[39m\u001b[39mn\u001b[39m\u001b[39m\"\u001b[39m, y\u001b[39m=\u001b[39m\u001b[39m\"\u001b[39m\u001b[39mprecio\u001b[39m\u001b[39m\"\u001b[39m)\n",
      "\u001b[1;31mAttributeError\u001b[0m: module 'plotly.express' has no attribute 'dfven'"
     ]
    }
   ],
   "source": [
    "import plotly.express as px\n",
    "  \n",
    "# using the dataset\n",
    "df = px.dfven.Precio()\n",
    "  \n",
    "# plotting the boxplot\n",
    "fig = px.box(df, x=\"n\", y=\"precio\")\n",
    "  \n",
    "# showing the plot\n",
    "fig.show()"
   ]
  }
 ],
 "metadata": {
  "kernelspec": {
   "display_name": "Python 3.10.4 64-bit",
   "language": "python",
   "name": "python3"
  },
  "language_info": {
   "codemirror_mode": {
    "name": "ipython",
    "version": 3
   },
   "file_extension": ".py",
   "mimetype": "text/x-python",
   "name": "python",
   "nbconvert_exporter": "python",
   "pygments_lexer": "ipython3",
   "version": "3.10.4"
  },
  "orig_nbformat": 4,
  "vscode": {
   "interpreter": {
    "hash": "e108a52cce57cf5916b07b5978582f744c8744d6a3baf99b96a1617e350b1888"
   }
  }
 },
 "nbformat": 4,
 "nbformat_minor": 2
}
