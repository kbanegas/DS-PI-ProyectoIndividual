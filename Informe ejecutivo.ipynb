{
 "cells": [
  {
   "cell_type": "markdown",
   "metadata": {},
   "source": [
    "##Informe Ejecutivo"
   ]
  },
  {
   "cell_type": "markdown",
   "metadata": {},
   "source": [
    "En la base de datos del Negocio se encontraron los siguientes inconvenientes:\n",
    "\n",
    "## En la Tabla Clientes\n",
    "\n",
    "Se reguiere realizar las siguientes modificaciones automaticadas en el  archivo para este y cualquier cambio posterior:\n",
    "\n",
    "Modificar el \n",
    "Campo                   Por\n",
    "ID                  IdCliente\n",
    "Provincia           IdProvincia\n",
    "Localidad           IdLocalidad\n",
    "X                   Latitud\n",
    "Y                   Longitud\n",
    "\n",
    "Eliminar esta columna.\n",
    "col10   "
   ]
  },
  {
   "cell_type": "markdown",
   "metadata": {},
   "source": [
    "Como puede observar a continuacion los archivos Clientes.csv y Clientes_V2.csv tienen la tendencia a tener valores nulos en los campos:\n",
    "\n",
    "\n",
    "                    Clientes        Total     Clientes_V2       Total        Total\n",
    "                 valores nulos     ingresos   Valores nulos   ingresos   Valores Nulos\n",
    "Provincia              25           2647             6           729            31          \n",
    "Nombre_y_Apellido      24           2648            22           713            46          \n",
    "Domicilio              42           2630             6           729            48          \n",
    "Telefono               35           2637            55           680            90          \n",
    "Localidad              25           2647             7           728            32          \n",
    "X                      56           2616             6           729            62          \n",
    "Y                      54           2618             6           729            60          \n",
    "col10                2672           2672           735           735          3407          \n"
   ]
  },
  {
   "cell_type": "markdown",
   "metadata": {},
   "source": [
    "También se requiere modificar campos como Nombre_y_Apellido y Domicilio a Mayuscula solo la  primera letra y las demas minusculas.\n",
    "\n",
    "Cambiar por punto los valores para división de decimales en los campos Latitud y Longitud.\n"
   ]
  },
  {
   "cell_type": "markdown",
   "metadata": {},
   "source": [
    "\n",
    "Como podemos ver en los graficos que corresponden a los atributos de la tabla Clientes\n",
    " el porcenaje de valores nulos esta alrededor de un rango de 0.8% al 8% lo que no representan \n",
    " un valor muy significativo y como se refleja en los graficos de barras la diferencia entre el \n",
    " valor de clientes y su actulizacion en clientes v2 parecen ser bastante similares en cuanto a vlores nulos encontrados por lo que se podria sugerir eliminarlos para que no tengan ninguna insidencia en analisis estadisticos posteriores."
   ]
  }
 ],
 "metadata": {
  "kernelspec": {
   "display_name": "Python 3.10.4 64-bit",
   "language": "python",
   "name": "python3"
  },
  "language_info": {
   "codemirror_mode": {
    "name": "ipython",
    "version": 3
   },
   "file_extension": ".py",
   "mimetype": "text/x-python",
   "name": "python",
   "nbconvert_exporter": "python",
   "pygments_lexer": "ipython3",
   "version": "3.10.4"
  },
  "orig_nbformat": 4,
  "vscode": {
   "interpreter": {
    "hash": "e108a52cce57cf5916b07b5978582f744c8744d6a3baf99b96a1617e350b1888"
   }
  }
 },
 "nbformat": 4,
 "nbformat_minor": 2
}
